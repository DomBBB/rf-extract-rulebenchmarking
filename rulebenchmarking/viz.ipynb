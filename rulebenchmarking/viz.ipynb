{
 "cells": [
  {
   "attachments": {},
   "cell_type": "markdown",
   "metadata": {},
   "source": [
    "## Global Settings"
   ]
  },
  {
   "cell_type": "code",
   "execution_count": 43,
   "metadata": {},
   "outputs": [],
   "source": [
    "import pandas as pd\n",
    "import numpy as np\n",
    "import plotly.express as px\n",
    "import plotly.graph_objs as go\n",
    "from plotly.subplots import make_subplots\n",
    "# import plotly.io as pio\n",
    "# pio.renderers.default = \"svg\"  # for easier sharing the charts, e.g., on github, needs: pip install -U kaleido ; see https://plotly.com/python/renderers/"
   ]
  },
  {
   "cell_type": "code",
   "execution_count": 52,
   "metadata": {},
   "outputs": [],
   "source": [
    "DEFAULT_RI_PIPELINES = ['NATIVE-RIPPER', 'LENC-CART:4', 'TREES-BRCG', 'TREES-CORELS', 'NATIVE-R2N', 'BRSPREP-BRS']\n",
    "RIPPER_PIPELINES = ['QUANTILE-RIPPER', 'TREES-RIPPER', 'NATIVE-RIPPER2', 'NATIVE-RIPPER3', 'NATIVE-RIPPER']\n",
    "BRCG_PIPELINES = ['QUANTILE-BRCG', 'TREES-BRCG2', 'QUANTILE-BRCG2', 'TREES2-BRCG2', 'TREES2-BRCG', 'TREES-BRCG']\n",
    "CORELS_PIPELINES = ['QUANTILE-CORELS','TREES-CORELS2', 'TREES2-CORELS2', 'TREES-CORELS']\n",
    "CART_PIPELINES = ['LENC-CART:*', 'LENC-CART:6', 'LENC-CART:4']\n",
    "BRS_PIPELINES = ['BRSPREP-BRS']\n",
    "IGUANAS_PIPELINES = ['IGPREP-IGUANAS1', 'IGPREP-IGUANAS2', 'IGPREP-IGUANAS3', 'IGPREP-IGUANAS4', 'IGPREP-IGUANAS5', \n",
    "                     'IGPREP-IGUANAS6', 'IGPREP-IGUANAS7', 'IGPREP-IGUANAS8', 'IGPREP-IGUANAS9', 'IGPREP-IGUANASOPT', 'IGPREP-IGUANASOPTCV', 'IGPREP-IGUANASLP', 'IGPREP-IGUANASLP10', 'IGPREP-IGUANASLP100']\n",
    "ALL_RI_PIPELINES = RIPPER_PIPELINES + BRCG_PIPELINES + CORELS_PIPELINES + CART_PIPELINES + BRS_PIPELINES + IGUANAS_PIPELINES + ['NATIVE-R2N']\n",
    "ALL_RI_PIPELINES = IGUANAS_PIPELINES\n",
    "ALL_PIPELINES = ALL_RI_PIPELINES + ['LENC-XGB']\n",
    "DEFAULT_PIPELINES = DEFAULT_RI_PIPELINES + ['LENC-XGB']\n",
    "\n",
    "metrics = ['f2', 'f', 'recall', 'precision', 'acc', 'adj_bal_acc', 'sum_preds']\n",
    "style_map = {\n",
    "    'LENC-XGB': ('gray', 'solid', 'circle'),\n",
    "    'LENC-CART:4': ('mediumblue', 'dot', 'arrow-right'), \n",
    "    'LENC-CART:6': ('cornflowerblue', 'longdash', 'diamond'), \n",
    "    'LENC-CART:*': ('lightskyblue', 'solid', 'arrow-left'),\n",
    "    'TREES-BRCG': ('lime', 'dash', 'cross'),\n",
    "    'TREES2-BRCG': ('aquamarine', 'dash', 'cross'),\n",
    "    'NATIVE-RIPPER': ('crimson', 'longdash', 'diamond'),\n",
    "    'NATIVE-RIPPER2': ('magenta', 'longdash', 'diamond'),\n",
    "    'NATIVE-RIPPER3': ('darkorchid', 'longdash', 'diamond'),\n",
    "    'QUANTILE-RIPPER': ('salmon', 'longdash', 'diamond'),\n",
    "    'TREES-RIPPER': ('orangered', 'longdash', 'diamond'),\n",
    "    'TREES-CORELS': ('orangered', 'dashdot', 'star'),\n",
    "    'TREES-CORELS2': ('darkorange', 'dashdot', 'star'),\n",
    "    'TREES2-CORELS2': ('wheat', 'dashdot', 'star'),\n",
    "    'NATIVE-R2N': ('silver', 'dot', 'square'),\n",
    "    'QUANTILE-BRCG': ('plum', 'dash', 'cross'),\n",
    "    'QUANTILE-CORELS': ('palevioletred', 'dashdot', 'star'),\n",
    "    'TREES-BRCG2': ('forestgreen', 'dash', 'cross'),\n",
    "    'QUANTILE-BRCG2': ('maroon', 'dash', 'cross'),\n",
    "    'TREES2-BRCG2': ('yellowgreen', 'solid', 'cross'),\n",
    "    'maxRI': ('crimson', 'solid', 'cross'),\n",
    "    'maxRI50': ('orangered', 'solid', 'cross'),\n",
    "    'maxRI25': ('darkorange', 'solid', 'cross'),\n",
    "    'maxRI10': ('gold', 'solid', 'cross'),\n",
    "    'maxRI5': ('palegoldenrod', 'solid', 'cross'),\n",
    "    'NATIVE-CONST': ('darkkhaki', 'solid', 'cross'),\n",
    "    'NATIVE-CONST2': ('magenta', 'solid', 'cross'),\n",
    "    'BRSPREP-BRS': ('cyan', 'dot', 'square'),\n",
    "    'BRSPREP-BRS2': ('darkcyan', 'longdash', 'arrow-left'),\n",
    "    'IGPREP-IGUANAS1': ('salmon', 'longdash', 'diamond'),\n",
    "    'IGPREP-IGUANAS2': ('orangered', 'longdash', 'diamond'),\n",
    "    'IGPREP-IGUANAS3': ('gold', 'dashdot', 'star'),\n",
    "    'IGPREP-IGUANAS4': ('darkorange', 'dashdot', 'star'),\n",
    "    'IGPREP-IGUANAS5': ('wheat', 'dashdot', 'star'),\n",
    "    'IGPREP-IGUANAS6': ('silver', 'dot', 'square'),\n",
    "    'IGPREP-IGUANAS7': ('plum', 'dash', 'cross'),\n",
    "    'IGPREP-IGUANAS8': ('palevioletred', 'dashdot', 'star'),\n",
    "    'IGPREP-IGUANAS9': ('forestgreen', 'dash', 'cross'),\n",
    "    'IGPREP-IGUANASOPT': ('maroon', 'dash', 'cross'),\n",
    "    'IGPREP-IGUANASOPTCV': ('yellowgreen', 'solid', 'cross'),\n",
    "    'IGPREP-IGUANASLP': ('black', 'solid', 'star'),\n",
    "    'IGPREP-IGUANASLP10': ('blue', 'solid', 'star'),\n",
    "    'IGPREP-IGUANASLP100': ('red', 'solid', 'star')\n",
    "}\n",
    "\n",
    "color_map = {}\n",
    "for pipeline in style_map:\n",
    "    for m in metrics:\n",
    "        name = pipeline + '_' + m\n",
    "        color_map[name] = style_map[pipeline][0]\n",
    "\n",
    "def rename( pipeline ):\n",
    "    if pipeline == 'LENC-XGB':\n",
    "        return 'xgb'\n",
    "    else:\n",
    "        return pipeline\n",
    "    \n",
    "long_name = {\n",
    "    'f2': 'f2-score',\n",
    "    'f': 'f-score',\n",
    "    'acc': 'accuracy',\n",
    "    'adj_bal_acc': 'balanced accuracy',\n",
    "    'precision': 'precision',\n",
    "    'recall': 'recall',\n",
    "    'nof_rules': 'number of rules',\n",
    "    'sum_preds': 'sum of predicates',\n",
    "    'avg_preds': 'average of predicates',\n",
    "    'max_preds': 'maximum of predicates'\n",
    "}"
   ]
  },
  {
   "cell_type": "code",
   "execution_count": 89,
   "metadata": {},
   "outputs": [],
   "source": [
    "def single_chart(pipelines, metric, df, df_long_name, x_sel='data_set', x_title=None, x_log=False):\n",
    "    fig = go.Figure(layout=dict(title=dict(text=long_name[metric]+' on '+df_long_name)))\n",
    "    for p in pipelines:\n",
    "        m = p + '_' + metric\n",
    "        fig.add_scatter(name=rename(p), \n",
    "                        x=df[x_sel], \n",
    "                        y=df[m], \n",
    "                        mode='markers+lines', \n",
    "                        line=dict(width=2,color=style_map[p][0],dash=style_map[p][1]),\n",
    "                        marker=dict(symbol=style_map[p][2]), # color='red', size=2, \n",
    "                        showlegend=True)\n",
    "    fig.update_layout(yaxis_title=long_name[metric], plot_bgcolor='whitesmoke')\n",
    "    if x_title is not None:\n",
    "        fig.update_layout(xaxis_title=x_title)\n",
    "    if x_log:\n",
    "        fig.update_xaxes(type=\"log\")\n",
    "    fig.update_layout(height=400, width=1000)\n",
    "    fig.show()\n",
    "\n",
    "\n",
    "def triple_chart(pipelines, performance_metric, complexity_metric, df, df_long_name, x_sel='data_set', x_title=None, x_log=False):\n",
    "\n",
    "    fig = make_subplots(rows=3, cols=1,\n",
    "                    shared_xaxes=True,\n",
    "                    vertical_spacing=0.02)\n",
    "\n",
    "    for p in ['LENC-XGB', 'NATIVE-CONST'] + pipelines:\n",
    "        m = p + '_' + performance_metric\n",
    "        scatter = go.Scatter(name=p, \n",
    "                        x=df[x_sel], \n",
    "                        y=df[m], \n",
    "                        mode='markers+lines', \n",
    "                        line=dict(width=2,color=style_map[p][0],dash=style_map[p][1]),\n",
    "                        marker=dict(symbol=style_map[p][2]), # color='red', size=2, \n",
    "                        showlegend=True)\n",
    "        fig.add_trace(scatter, row=3, col=1)\n",
    "    fig.update_yaxes(title=long_name[performance_metric], row=3, col=1)\n",
    "    if x_title is not None:\n",
    "        fig.update_xaxes(title=x_title, row=3, col=1)\n",
    "\n",
    "    for p in pipelines:\n",
    "        m = p + '_' + complexity_metric\n",
    "        scatter = go.Scatter(name=p, \n",
    "                        x=df[x_sel],\n",
    "                        y=df[m]+1, \n",
    "                        mode='markers+lines', \n",
    "                        line=dict(width=2,color=style_map[p][0],dash=style_map[p][1]),\n",
    "                        marker=dict(symbol=style_map[p][2]), # color='red', size=2, \n",
    "                        showlegend=False)\n",
    "        fig.add_trace(scatter, row=2, col=1)\n",
    "    fig.update_yaxes(type=\"log\", row=2, col=1)\n",
    "    fig.update_yaxes(title=long_name[complexity_metric], row=2, col=1)\n",
    "\n",
    "    metric = 'runtime'\n",
    "    for p in ['LENC-XGB'] + pipelines:\n",
    "        m = p + '_' + metric\n",
    "        scatter = go.Scatter(name=p, \n",
    "                        x=df[x_sel],\n",
    "                        y=df[m]+1, \n",
    "                        mode='markers+lines', \n",
    "                        line=dict(width=2,color=style_map[p][0],dash=style_map[p][1]),\n",
    "                        marker=dict(symbol=style_map[p][2]), # color='red', size=2, \n",
    "                        showlegend=False)\n",
    "        fig.add_trace(scatter, row=1, col=1)\n",
    "    fig.update_yaxes(type=\"log\", row=1, col=1)\n",
    "    fig.update_yaxes(title='time (secs)', row=1, col=1)\n",
    "\n",
    "    if x_log:\n",
    "        fig.update_xaxes(type=\"log\")\n",
    "\n",
    "    fig.update_layout(title_text=long_name[performance_metric]+', '+ long_name[complexity_metric] + ' and training time on ' + df_long_name, plot_bgcolor='whitesmoke')\n",
    "    fig.update_layout(height=600, width=1000)\n",
    "    fig.show()\n",
    "\n",
    "\n",
    "def dual_chart(pipelines, performance_metric, complexity_metric, df, df_long_name, x_sel='data_set', x_title=None, x_log=False):\n",
    "\n",
    "    fig = make_subplots(rows=2, cols=1, shared_xaxes=True, vertical_spacing=0.02)\n",
    "\n",
    "    for p in ['LENC-XGB'] + pipelines:\n",
    "        m = p + '_' + performance_metric\n",
    "        scatter = go.Scatter(name=p, \n",
    "                        x=df[x_sel], \n",
    "                        y=df[m], \n",
    "                        mode='markers+lines', \n",
    "                        line=dict(width=2,color=style_map[p][0],dash=style_map[p][1]),\n",
    "                        marker=dict(symbol=style_map[p][2]), # color='red', size=2, \n",
    "                        showlegend=True)\n",
    "        fig.add_trace(scatter, row=2, col=1)\n",
    "    fig.update_yaxes(title=long_name[performance_metric], row=2, col=1)\n",
    "    if x_title is not None:\n",
    "        fig.update_xaxes(title=x_title, row=2, col=1)\n",
    "\n",
    "    for p in pipelines:\n",
    "        m = p + '_' + complexity_metric\n",
    "        scatter = go.Scatter(name=p, \n",
    "                        x=df[x_sel],\n",
    "                        y=df[m]+1, \n",
    "                        mode='markers+lines', \n",
    "                        line=dict(width=2,color=style_map[p][0],dash=style_map[p][1]),\n",
    "                        marker=dict(symbol=style_map[p][2]), # color='red', size=2, \n",
    "                        showlegend=False)\n",
    "        fig.add_trace(scatter, row=1, col=1)\n",
    "    fig.update_yaxes(type=\"log\", row=1, col=1)\n",
    "    fig.update_yaxes(title=long_name[complexity_metric], row=1, col=1)\n",
    "\n",
    "    if x_log:\n",
    "        fig.update_xaxes(type=\"log\")\n",
    "\n",
    "    fig.update_layout(title_text=long_name[performance_metric]+' and '+ long_name[complexity_metric] + ' on ' + df_long_name, plot_bgcolor='whitesmoke')\n",
    "    fig.update_layout(height=500, width=1000)\n",
    "    fig.show()\n",
    "\n",
    "def dual_performance_chart(pipelines, performance_metric_1, performance_metric_2, df, df_long_name, x_sel='data_set', x_title=None, x_log=False):\n",
    "\n",
    "    fig = make_subplots(rows=2, cols=1, shared_xaxes=True, vertical_spacing=0.02)\n",
    "\n",
    "    for p in ['LENC-XGB'] + pipelines:\n",
    "        m = p + '_' + performance_metric_1\n",
    "        scatter = go.Scatter(name=p, \n",
    "                        x=df[x_sel], \n",
    "                        y=df[m], \n",
    "                        mode='markers+lines', \n",
    "                        line=dict(width=2,color=style_map[p][0],dash=style_map[p][1]),\n",
    "                        marker=dict(symbol=style_map[p][2]), # color='red', size=2, \n",
    "                        showlegend=True)\n",
    "        fig.add_trace(scatter, row=2, col=1)\n",
    "    fig.update_yaxes(title=long_name[performance_metric_1], row=2, col=1)\n",
    "    if x_title is not None:\n",
    "        fig.update_xaxes(title=x_title, row=2, col=1)\n",
    "\n",
    "    for p in ['LENC-XGB'] + pipelines:\n",
    "        m = p + '_' + performance_metric_2\n",
    "        scatter = go.Scatter(name=p, \n",
    "                        x=df[x_sel],\n",
    "                        y=df[m], \n",
    "                        mode='markers+lines', \n",
    "                        line=dict(width=2,color=style_map[p][0],dash=style_map[p][1]),\n",
    "                        marker=dict(symbol=style_map[p][2]), # color='red', size=2, \n",
    "                        showlegend=False)\n",
    "        fig.add_trace(scatter, row=1, col=1)\n",
    "    fig.update_yaxes(title=long_name[performance_metric_2], row=1, col=1)\n",
    "\n",
    "    if x_log:\n",
    "        fig.update_xaxes(type=\"log\")\n",
    "\n",
    "    fig.update_layout(title_text=long_name[performance_metric_1]+' and '+ long_name[performance_metric_2] + ' on ' + df_long_name, plot_bgcolor='whitesmoke')\n",
    "    fig.update_layout(height=500, width=1000)\n",
    "    fig.show()\n",
    "\n",
    "def quad_chart(pipelines, performance_metric_1, performance_metric_2, complexity_metric, df, df_long_name, x_sel='data_set', x_title=None, x_log=False):\n",
    "\n",
    "    fig = make_subplots(rows=4, cols=1, shared_xaxes=True, vertical_spacing=0.05)\n",
    "\n",
    "    for p in ['LENC-XGB', 'NATIVE-CONST'] + pipelines:\n",
    "        m = p + '_' + performance_metric_1\n",
    "        scatter = go.Scatter(name=p, \n",
    "                        x=df[x_sel], \n",
    "                        y=df[m], \n",
    "                        mode='markers+lines', \n",
    "                        line=dict(width=2,color=style_map[p][0],dash=style_map[p][1]),\n",
    "                        marker=dict(symbol=style_map[p][2]), # color='red', size=2, \n",
    "                        showlegend=True)\n",
    "        fig.add_trace(scatter, row=4, col=1)\n",
    "    fig.update_yaxes(title=long_name[performance_metric_1], row=4, col=1)\n",
    "    if x_title is not None:\n",
    "        fig.update_xaxes(title=x_title, row=4, col=1)\n",
    "\n",
    "    for p in ['LENC-XGB', 'NATIVE-CONST'] + pipelines:\n",
    "        m = p + '_' + performance_metric_2\n",
    "        scatter = go.Scatter(name=p, \n",
    "                        x=df[x_sel], \n",
    "                        y=df[m], \n",
    "                        mode='markers+lines', \n",
    "                        line=dict(width=2,color=style_map[p][0],dash=style_map[p][1]),\n",
    "                        marker=dict(symbol=style_map[p][2]), # color='red', size=2, \n",
    "                        showlegend=False)\n",
    "        fig.add_trace(scatter, row=3, col=1)\n",
    "    fig.update_yaxes(title=long_name[performance_metric_2], row=3, col=1)\n",
    "    if x_title is not None:\n",
    "        fig.update_xaxes(title=x_title, row=3, col=1)\n",
    "\n",
    "    for p in pipelines:\n",
    "        m = p + '_' + complexity_metric\n",
    "        scatter = go.Scatter(name=p, \n",
    "                        x=df[x_sel],\n",
    "                        y=df[m]+1, \n",
    "                        mode='markers+lines', \n",
    "                        line=dict(width=2,color=style_map[p][0],dash=style_map[p][1]),\n",
    "                        marker=dict(symbol=style_map[p][2]), # color='red', size=2, \n",
    "                        showlegend=False)\n",
    "        fig.add_trace(scatter, row=2, col=1)\n",
    "    fig.update_yaxes(type=\"log\", row=2, col=1)\n",
    "    fig.update_yaxes(title=long_name[complexity_metric], row=2, col=1)\n",
    "\n",
    "    metric = 'runtime'\n",
    "    for p in ['LENC-XGB'] + pipelines:\n",
    "        m = p + '_' + metric\n",
    "        scatter = go.Scatter(name=p, \n",
    "                        x=df[x_sel],\n",
    "                        y=df[m]+1, \n",
    "                        mode='markers+lines', \n",
    "                        line=dict(width=2,color=style_map[p][0],dash=style_map[p][1]),\n",
    "                        marker=dict(symbol=style_map[p][2]), # color='red', size=2, \n",
    "                        showlegend=False)\n",
    "        fig.add_trace(scatter, row=1, col=1)\n",
    "    fig.update_yaxes(type=\"log\", row=1, col=1)\n",
    "    fig.update_yaxes(title='time (secs)', row=1, col=1)\n",
    "\n",
    "    if x_log:\n",
    "        fig.update_xaxes(type=\"log\")\n",
    "\n",
    "    fig.update_layout(title_text=long_name[performance_metric_1]+', '+ long_name[performance_metric_2]+', '+ long_name[complexity_metric] + ' and training time on ' + df_long_name, plot_bgcolor='whitesmoke')\n",
    "    fig.update_layout(height=600, width=1000)\n",
    "    fig.show()"
   ]
  },
  {
   "cell_type": "code",
   "execution_count": 90,
   "metadata": {},
   "outputs": [],
   "source": [
    "full_df = pd.read_csv('results_1234.csv')"
   ]
  },
  {
   "cell_type": "code",
   "execution_count": 91,
   "metadata": {},
   "outputs": [],
   "source": [
    "# Enriching result table\n",
    "\n",
    "def max_performance(row, metric='f', max_rules=None):\n",
    "    if max_rules is None:\n",
    "        l = [ row[p+'_'+metric] for p in ALL_RI_PIPELINES ]\n",
    "    else:\n",
    "        l = [ row[p+'_'+metric] for p in ALL_RI_PIPELINES if row[p+'_nof_rules'] <= max_rules ]\n",
    "    if len(l) == 0:\n",
    "        return 0\n",
    "    else:\n",
    "        return np.nanmax(l)   \n",
    "\n",
    "for m in ['f', 'f2', 'adj_bal_acc', 'recall', 'precision']:\n",
    "    metric = 'maxRI_'+m\n",
    "    full_df[metric] = full_df.apply(max_performance, metric=m, axis=1)\n",
    "    for r in [5, 10, 25, 50]:\n",
    "        metric = 'maxRI'+str(r)+'_'+m\n",
    "        full_df[metric] = full_df.apply(max_performance, metric=m, max_rules=r, axis=1)\n"
   ]
  },
  {
   "attachments": {},
   "cell_type": "markdown",
   "metadata": {},
   "source": [
    "## Core Suite Definition and Stats\n"
   ]
  },
  {
   "cell_type": "code",
   "execution_count": 92,
   "metadata": {},
   "outputs": [
    {
     "data": {
      "text/html": [
       "<div>\n",
       "<style scoped>\n",
       "    .dataframe tbody tr th:only-of-type {\n",
       "        vertical-align: middle;\n",
       "    }\n",
       "\n",
       "    .dataframe tbody tr th {\n",
       "        vertical-align: top;\n",
       "    }\n",
       "\n",
       "    .dataframe thead th {\n",
       "        text-align: right;\n",
       "    }\n",
       "</style>\n",
       "<table border=\"1\" class=\"dataframe\">\n",
       "  <thead>\n",
       "    <tr style=\"text-align: right;\">\n",
       "      <th></th>\n",
       "      <th>data_set</th>\n",
       "      <th>nof_rows</th>\n",
       "      <th>nof_col</th>\n",
       "      <th>nof_num_features</th>\n",
       "      <th>nof_cat_features</th>\n",
       "      <th>nof_pos</th>\n",
       "      <th>pos_ratio</th>\n",
       "      <th>use_case</th>\n",
       "      <th>origin</th>\n",
       "      <th>LENC_nof_bin_cols</th>\n",
       "      <th>...</th>\n",
       "      <th>maxRI_recall</th>\n",
       "      <th>maxRI5_recall</th>\n",
       "      <th>maxRI10_recall</th>\n",
       "      <th>maxRI25_recall</th>\n",
       "      <th>maxRI50_recall</th>\n",
       "      <th>maxRI_precision</th>\n",
       "      <th>maxRI5_precision</th>\n",
       "      <th>maxRI10_precision</th>\n",
       "      <th>maxRI25_precision</th>\n",
       "      <th>maxRI50_precision</th>\n",
       "    </tr>\n",
       "  </thead>\n",
       "  <tbody>\n",
       "    <tr>\n",
       "      <th>0</th>\n",
       "      <td>fraud_detection</td>\n",
       "      <td>284807</td>\n",
       "      <td>31</td>\n",
       "      <td>30</td>\n",
       "      <td>0</td>\n",
       "      <td>492</td>\n",
       "      <td>0.0017</td>\n",
       "      <td>transaction-fraud</td>\n",
       "      <td>organic</td>\n",
       "      <td>30.0</td>\n",
       "      <td>...</td>\n",
       "      <td>1.0</td>\n",
       "      <td>0.68</td>\n",
       "      <td>1.00</td>\n",
       "      <td>1.00</td>\n",
       "      <td>1.00</td>\n",
       "      <td>0.93</td>\n",
       "      <td>0.89</td>\n",
       "      <td>0.93</td>\n",
       "      <td>0.93</td>\n",
       "      <td>0.93</td>\n",
       "    </tr>\n",
       "    <tr>\n",
       "      <th>1</th>\n",
       "      <td>bike_75</td>\n",
       "      <td>8760</td>\n",
       "      <td>14</td>\n",
       "      <td>9</td>\n",
       "      <td>4</td>\n",
       "      <td>61</td>\n",
       "      <td>0.0070</td>\n",
       "      <td>demand-prediction</td>\n",
       "      <td>organic</td>\n",
       "      <td>13.0</td>\n",
       "      <td>...</td>\n",
       "      <td>1.0</td>\n",
       "      <td>1.00</td>\n",
       "      <td>1.00</td>\n",
       "      <td>1.00</td>\n",
       "      <td>1.00</td>\n",
       "      <td>0.67</td>\n",
       "      <td>0.67</td>\n",
       "      <td>0.67</td>\n",
       "      <td>0.67</td>\n",
       "      <td>0.67</td>\n",
       "    </tr>\n",
       "    <tr>\n",
       "      <th>2</th>\n",
       "      <td>fraud_oracle</td>\n",
       "      <td>15420</td>\n",
       "      <td>33</td>\n",
       "      <td>8</td>\n",
       "      <td>24</td>\n",
       "      <td>923</td>\n",
       "      <td>0.0599</td>\n",
       "      <td>insurance-fraud</td>\n",
       "      <td>organic</td>\n",
       "      <td>32.0</td>\n",
       "      <td>...</td>\n",
       "      <td>1.0</td>\n",
       "      <td>1.00</td>\n",
       "      <td>1.00</td>\n",
       "      <td>1.00</td>\n",
       "      <td>1.00</td>\n",
       "      <td>0.33</td>\n",
       "      <td>0.33</td>\n",
       "      <td>0.33</td>\n",
       "      <td>0.33</td>\n",
       "      <td>0.33</td>\n",
       "    </tr>\n",
       "    <tr>\n",
       "      <th>3</th>\n",
       "      <td>orange_churn</td>\n",
       "      <td>50000</td>\n",
       "      <td>213</td>\n",
       "      <td>174</td>\n",
       "      <td>38</td>\n",
       "      <td>3672</td>\n",
       "      <td>0.0734</td>\n",
       "      <td>churn</td>\n",
       "      <td>organic</td>\n",
       "      <td>212.0</td>\n",
       "      <td>...</td>\n",
       "      <td>1.0</td>\n",
       "      <td>0.66</td>\n",
       "      <td>1.00</td>\n",
       "      <td>1.00</td>\n",
       "      <td>1.00</td>\n",
       "      <td>0.50</td>\n",
       "      <td>0.20</td>\n",
       "      <td>0.50</td>\n",
       "      <td>0.50</td>\n",
       "      <td>0.50</td>\n",
       "    </tr>\n",
       "    <tr>\n",
       "      <th>4</th>\n",
       "      <td>orange_up</td>\n",
       "      <td>50000</td>\n",
       "      <td>213</td>\n",
       "      <td>174</td>\n",
       "      <td>38</td>\n",
       "      <td>3682</td>\n",
       "      <td>0.0736</td>\n",
       "      <td>product recommendation</td>\n",
       "      <td>organic</td>\n",
       "      <td>212.0</td>\n",
       "      <td>...</td>\n",
       "      <td>1.0</td>\n",
       "      <td>0.00</td>\n",
       "      <td>0.00</td>\n",
       "      <td>1.00</td>\n",
       "      <td>1.00</td>\n",
       "      <td>0.72</td>\n",
       "      <td>0.00</td>\n",
       "      <td>0.00</td>\n",
       "      <td>0.14</td>\n",
       "      <td>0.14</td>\n",
       "    </tr>\n",
       "    <tr>\n",
       "      <th>5</th>\n",
       "      <td>bank_marketing</td>\n",
       "      <td>4118</td>\n",
       "      <td>21</td>\n",
       "      <td>10</td>\n",
       "      <td>10</td>\n",
       "      <td>451</td>\n",
       "      <td>0.1095</td>\n",
       "      <td>product_recommendation</td>\n",
       "      <td>organic</td>\n",
       "      <td>20.0</td>\n",
       "      <td>...</td>\n",
       "      <td>1.0</td>\n",
       "      <td>0.60</td>\n",
       "      <td>1.00</td>\n",
       "      <td>1.00</td>\n",
       "      <td>1.00</td>\n",
       "      <td>0.65</td>\n",
       "      <td>0.65</td>\n",
       "      <td>0.65</td>\n",
       "      <td>0.65</td>\n",
       "      <td>0.65</td>\n",
       "    </tr>\n",
       "    <tr>\n",
       "      <th>6</th>\n",
       "      <td>telco_churn</td>\n",
       "      <td>3333</td>\n",
       "      <td>20</td>\n",
       "      <td>16</td>\n",
       "      <td>3</td>\n",
       "      <td>483</td>\n",
       "      <td>0.1449</td>\n",
       "      <td>churn</td>\n",
       "      <td>organic</td>\n",
       "      <td>19.0</td>\n",
       "      <td>...</td>\n",
       "      <td>1.0</td>\n",
       "      <td>0.50</td>\n",
       "      <td>0.98</td>\n",
       "      <td>0.98</td>\n",
       "      <td>0.98</td>\n",
       "      <td>0.89</td>\n",
       "      <td>0.89</td>\n",
       "      <td>0.89</td>\n",
       "      <td>0.89</td>\n",
       "      <td>0.89</td>\n",
       "    </tr>\n",
       "    <tr>\n",
       "      <th>7</th>\n",
       "      <td>taiwan_credit</td>\n",
       "      <td>30000</td>\n",
       "      <td>24</td>\n",
       "      <td>14</td>\n",
       "      <td>9</td>\n",
       "      <td>6636</td>\n",
       "      <td>0.2212</td>\n",
       "      <td>credit</td>\n",
       "      <td>organic</td>\n",
       "      <td>23.0</td>\n",
       "      <td>...</td>\n",
       "      <td>1.0</td>\n",
       "      <td>0.76</td>\n",
       "      <td>1.00</td>\n",
       "      <td>1.00</td>\n",
       "      <td>1.00</td>\n",
       "      <td>0.63</td>\n",
       "      <td>0.56</td>\n",
       "      <td>0.63</td>\n",
       "      <td>0.63</td>\n",
       "      <td>0.63</td>\n",
       "    </tr>\n",
       "    <tr>\n",
       "      <th>8</th>\n",
       "      <td>adult</td>\n",
       "      <td>32561</td>\n",
       "      <td>13</td>\n",
       "      <td>4</td>\n",
       "      <td>8</td>\n",
       "      <td>7841</td>\n",
       "      <td>0.2408</td>\n",
       "      <td>income_prediction</td>\n",
       "      <td>organic</td>\n",
       "      <td>12.0</td>\n",
       "      <td>...</td>\n",
       "      <td>1.0</td>\n",
       "      <td>0.78</td>\n",
       "      <td>1.00</td>\n",
       "      <td>1.00</td>\n",
       "      <td>1.00</td>\n",
       "      <td>0.94</td>\n",
       "      <td>0.94</td>\n",
       "      <td>0.94</td>\n",
       "      <td>0.94</td>\n",
       "      <td>0.94</td>\n",
       "    </tr>\n",
       "    <tr>\n",
       "      <th>9</th>\n",
       "      <td>house</td>\n",
       "      <td>22784</td>\n",
       "      <td>17</td>\n",
       "      <td>16</td>\n",
       "      <td>0</td>\n",
       "      <td>6744</td>\n",
       "      <td>0.2960</td>\n",
       "      <td>price_prediction</td>\n",
       "      <td>organic</td>\n",
       "      <td>16.0</td>\n",
       "      <td>...</td>\n",
       "      <td>1.0</td>\n",
       "      <td>0.69</td>\n",
       "      <td>1.00</td>\n",
       "      <td>1.00</td>\n",
       "      <td>1.00</td>\n",
       "      <td>0.71</td>\n",
       "      <td>0.71</td>\n",
       "      <td>0.71</td>\n",
       "      <td>0.71</td>\n",
       "      <td>0.71</td>\n",
       "    </tr>\n",
       "    <tr>\n",
       "      <th>10</th>\n",
       "      <td>german_credit</td>\n",
       "      <td>1000</td>\n",
       "      <td>21</td>\n",
       "      <td>7</td>\n",
       "      <td>13</td>\n",
       "      <td>300</td>\n",
       "      <td>0.3000</td>\n",
       "      <td>credit</td>\n",
       "      <td>organic</td>\n",
       "      <td>20.0</td>\n",
       "      <td>...</td>\n",
       "      <td>1.0</td>\n",
       "      <td>0.84</td>\n",
       "      <td>0.99</td>\n",
       "      <td>0.99</td>\n",
       "      <td>0.99</td>\n",
       "      <td>0.55</td>\n",
       "      <td>0.50</td>\n",
       "      <td>0.55</td>\n",
       "      <td>0.55</td>\n",
       "      <td>0.55</td>\n",
       "    </tr>\n",
       "    <tr>\n",
       "      <th>11</th>\n",
       "      <td>bike_mean</td>\n",
       "      <td>8760</td>\n",
       "      <td>14</td>\n",
       "      <td>9</td>\n",
       "      <td>4</td>\n",
       "      <td>3523</td>\n",
       "      <td>0.4022</td>\n",
       "      <td>demand-prediction</td>\n",
       "      <td>organic</td>\n",
       "      <td>13.0</td>\n",
       "      <td>...</td>\n",
       "      <td>1.0</td>\n",
       "      <td>0.92</td>\n",
       "      <td>1.00</td>\n",
       "      <td>1.00</td>\n",
       "      <td>1.00</td>\n",
       "      <td>0.82</td>\n",
       "      <td>0.82</td>\n",
       "      <td>0.82</td>\n",
       "      <td>0.82</td>\n",
       "      <td>0.82</td>\n",
       "    </tr>\n",
       "    <tr>\n",
       "      <th>12</th>\n",
       "      <td>boston</td>\n",
       "      <td>506</td>\n",
       "      <td>14</td>\n",
       "      <td>13</td>\n",
       "      <td>0</td>\n",
       "      <td>209</td>\n",
       "      <td>0.4130</td>\n",
       "      <td>price_prediction</td>\n",
       "      <td>organic</td>\n",
       "      <td>13.0</td>\n",
       "      <td>...</td>\n",
       "      <td>1.0</td>\n",
       "      <td>0.77</td>\n",
       "      <td>0.96</td>\n",
       "      <td>1.00</td>\n",
       "      <td>1.00</td>\n",
       "      <td>0.79</td>\n",
       "      <td>0.69</td>\n",
       "      <td>0.79</td>\n",
       "      <td>0.79</td>\n",
       "      <td>0.79</td>\n",
       "    </tr>\n",
       "    <tr>\n",
       "      <th>13</th>\n",
       "      <td>electricity</td>\n",
       "      <td>45312</td>\n",
       "      <td>9</td>\n",
       "      <td>8</td>\n",
       "      <td>0</td>\n",
       "      <td>19237</td>\n",
       "      <td>0.4245</td>\n",
       "      <td>price_sensitivity</td>\n",
       "      <td>organic</td>\n",
       "      <td>8.0</td>\n",
       "      <td>...</td>\n",
       "      <td>1.0</td>\n",
       "      <td>0.61</td>\n",
       "      <td>1.00</td>\n",
       "      <td>1.00</td>\n",
       "      <td>1.00</td>\n",
       "      <td>0.79</td>\n",
       "      <td>0.79</td>\n",
       "      <td>0.79</td>\n",
       "      <td>0.79</td>\n",
       "      <td>0.79</td>\n",
       "    </tr>\n",
       "    <tr>\n",
       "      <th>14</th>\n",
       "      <td>compas</td>\n",
       "      <td>7210</td>\n",
       "      <td>8</td>\n",
       "      <td>0</td>\n",
       "      <td>7</td>\n",
       "      <td>3250</td>\n",
       "      <td>0.4508</td>\n",
       "      <td>recidivism</td>\n",
       "      <td>organic</td>\n",
       "      <td>7.0</td>\n",
       "      <td>...</td>\n",
       "      <td>1.0</td>\n",
       "      <td>0.53</td>\n",
       "      <td>1.00</td>\n",
       "      <td>1.00</td>\n",
       "      <td>1.00</td>\n",
       "      <td>0.65</td>\n",
       "      <td>0.65</td>\n",
       "      <td>0.65</td>\n",
       "      <td>0.65</td>\n",
       "      <td>0.65</td>\n",
       "    </tr>\n",
       "    <tr>\n",
       "      <th>15</th>\n",
       "      <td>heloc</td>\n",
       "      <td>10459</td>\n",
       "      <td>24</td>\n",
       "      <td>23</td>\n",
       "      <td>0</td>\n",
       "      <td>5000</td>\n",
       "      <td>0.4781</td>\n",
       "      <td>credit</td>\n",
       "      <td>organic</td>\n",
       "      <td>23.0</td>\n",
       "      <td>...</td>\n",
       "      <td>1.0</td>\n",
       "      <td>0.94</td>\n",
       "      <td>1.00</td>\n",
       "      <td>1.00</td>\n",
       "      <td>1.00</td>\n",
       "      <td>0.73</td>\n",
       "      <td>0.73</td>\n",
       "      <td>0.73</td>\n",
       "      <td>0.73</td>\n",
       "      <td>0.73</td>\n",
       "    </tr>\n",
       "    <tr>\n",
       "      <th>16</th>\n",
       "      <td>telco_churn_2</td>\n",
       "      <td>2000</td>\n",
       "      <td>14</td>\n",
       "      <td>9</td>\n",
       "      <td>4</td>\n",
       "      <td>1000</td>\n",
       "      <td>0.5000</td>\n",
       "      <td>churn</td>\n",
       "      <td>organic</td>\n",
       "      <td>13.0</td>\n",
       "      <td>...</td>\n",
       "      <td>1.0</td>\n",
       "      <td>0.86</td>\n",
       "      <td>1.00</td>\n",
       "      <td>1.00</td>\n",
       "      <td>1.00</td>\n",
       "      <td>0.63</td>\n",
       "      <td>0.62</td>\n",
       "      <td>0.62</td>\n",
       "      <td>0.62</td>\n",
       "      <td>0.62</td>\n",
       "    </tr>\n",
       "  </tbody>\n",
       "</table>\n",
       "<p>17 rows × 460 columns</p>\n",
       "</div>"
      ],
      "text/plain": [
       "           data_set  nof_rows  nof_col  nof_num_features  nof_cat_features  \\\n",
       "0   fraud_detection    284807       31                30                 0   \n",
       "1           bike_75      8760       14                 9                 4   \n",
       "2      fraud_oracle     15420       33                 8                24   \n",
       "3      orange_churn     50000      213               174                38   \n",
       "4         orange_up     50000      213               174                38   \n",
       "5    bank_marketing      4118       21                10                10   \n",
       "6       telco_churn      3333       20                16                 3   \n",
       "7     taiwan_credit     30000       24                14                 9   \n",
       "8             adult     32561       13                 4                 8   \n",
       "9             house     22784       17                16                 0   \n",
       "10    german_credit      1000       21                 7                13   \n",
       "11        bike_mean      8760       14                 9                 4   \n",
       "12           boston       506       14                13                 0   \n",
       "13      electricity     45312        9                 8                 0   \n",
       "14           compas      7210        8                 0                 7   \n",
       "15            heloc     10459       24                23                 0   \n",
       "16    telco_churn_2      2000       14                 9                 4   \n",
       "\n",
       "    nof_pos  pos_ratio                use_case   origin  LENC_nof_bin_cols  \\\n",
       "0       492     0.0017       transaction-fraud  organic               30.0   \n",
       "1        61     0.0070       demand-prediction  organic               13.0   \n",
       "2       923     0.0599         insurance-fraud  organic               32.0   \n",
       "3      3672     0.0734                   churn  organic              212.0   \n",
       "4      3682     0.0736  product recommendation  organic              212.0   \n",
       "5       451     0.1095  product_recommendation  organic               20.0   \n",
       "6       483     0.1449                   churn  organic               19.0   \n",
       "7      6636     0.2212                  credit  organic               23.0   \n",
       "8      7841     0.2408       income_prediction  organic               12.0   \n",
       "9      6744     0.2960        price_prediction  organic               16.0   \n",
       "10      300     0.3000                  credit  organic               20.0   \n",
       "11     3523     0.4022       demand-prediction  organic               13.0   \n",
       "12      209     0.4130        price_prediction  organic               13.0   \n",
       "13    19237     0.4245       price_sensitivity  organic                8.0   \n",
       "14     3250     0.4508              recidivism  organic                7.0   \n",
       "15     5000     0.4781                  credit  organic               23.0   \n",
       "16     1000     0.5000                   churn  organic               13.0   \n",
       "\n",
       "    ...  maxRI_recall  maxRI5_recall  maxRI10_recall  maxRI25_recall  \\\n",
       "0   ...           1.0           0.68            1.00            1.00   \n",
       "1   ...           1.0           1.00            1.00            1.00   \n",
       "2   ...           1.0           1.00            1.00            1.00   \n",
       "3   ...           1.0           0.66            1.00            1.00   \n",
       "4   ...           1.0           0.00            0.00            1.00   \n",
       "5   ...           1.0           0.60            1.00            1.00   \n",
       "6   ...           1.0           0.50            0.98            0.98   \n",
       "7   ...           1.0           0.76            1.00            1.00   \n",
       "8   ...           1.0           0.78            1.00            1.00   \n",
       "9   ...           1.0           0.69            1.00            1.00   \n",
       "10  ...           1.0           0.84            0.99            0.99   \n",
       "11  ...           1.0           0.92            1.00            1.00   \n",
       "12  ...           1.0           0.77            0.96            1.00   \n",
       "13  ...           1.0           0.61            1.00            1.00   \n",
       "14  ...           1.0           0.53            1.00            1.00   \n",
       "15  ...           1.0           0.94            1.00            1.00   \n",
       "16  ...           1.0           0.86            1.00            1.00   \n",
       "\n",
       "    maxRI50_recall  maxRI_precision  maxRI5_precision  maxRI10_precision  \\\n",
       "0             1.00             0.93              0.89               0.93   \n",
       "1             1.00             0.67              0.67               0.67   \n",
       "2             1.00             0.33              0.33               0.33   \n",
       "3             1.00             0.50              0.20               0.50   \n",
       "4             1.00             0.72              0.00               0.00   \n",
       "5             1.00             0.65              0.65               0.65   \n",
       "6             0.98             0.89              0.89               0.89   \n",
       "7             1.00             0.63              0.56               0.63   \n",
       "8             1.00             0.94              0.94               0.94   \n",
       "9             1.00             0.71              0.71               0.71   \n",
       "10            0.99             0.55              0.50               0.55   \n",
       "11            1.00             0.82              0.82               0.82   \n",
       "12            1.00             0.79              0.69               0.79   \n",
       "13            1.00             0.79              0.79               0.79   \n",
       "14            1.00             0.65              0.65               0.65   \n",
       "15            1.00             0.73              0.73               0.73   \n",
       "16            1.00             0.63              0.62               0.62   \n",
       "\n",
       "    maxRI25_precision  maxRI50_precision  \n",
       "0                0.93               0.93  \n",
       "1                0.67               0.67  \n",
       "2                0.33               0.33  \n",
       "3                0.50               0.50  \n",
       "4                0.14               0.14  \n",
       "5                0.65               0.65  \n",
       "6                0.89               0.89  \n",
       "7                0.63               0.63  \n",
       "8                0.94               0.94  \n",
       "9                0.71               0.71  \n",
       "10               0.55               0.55  \n",
       "11               0.82               0.82  \n",
       "12               0.79               0.79  \n",
       "13               0.79               0.79  \n",
       "14               0.65               0.65  \n",
       "15               0.73               0.73  \n",
       "16               0.62               0.62  \n",
       "\n",
       "[17 rows x 460 columns]"
      ]
     },
     "execution_count": 92,
     "metadata": {},
     "output_type": "execute_result"
    }
   ],
   "source": [
    "df_core_suite = full_df[(full_df['origin']=='organic') & (full_df['use_case']!='other')]\n",
    "df_core_suite = df_core_suite.sort_values('pos_ratio', ignore_index=True)\n",
    "\n",
    "df_core_suite"
   ]
  },
  {
   "cell_type": "code",
   "execution_count": 93,
   "metadata": {},
   "outputs": [
    {
     "data": {
      "text/html": [
       "<div>\n",
       "<style scoped>\n",
       "    .dataframe tbody tr th:only-of-type {\n",
       "        vertical-align: middle;\n",
       "    }\n",
       "\n",
       "    .dataframe tbody tr th {\n",
       "        vertical-align: top;\n",
       "    }\n",
       "\n",
       "    .dataframe thead th {\n",
       "        text-align: right;\n",
       "    }\n",
       "</style>\n",
       "<table border=\"1\" class=\"dataframe\">\n",
       "  <thead>\n",
       "    <tr style=\"text-align: right;\">\n",
       "      <th></th>\n",
       "      <th>data_set</th>\n",
       "      <th>use_case</th>\n",
       "      <th>nof_rows</th>\n",
       "      <th>nof_col</th>\n",
       "      <th>nof_num_features</th>\n",
       "      <th>nof_cat_features</th>\n",
       "      <th>pos_ratio</th>\n",
       "      <th>LENC-XGB_f2</th>\n",
       "    </tr>\n",
       "  </thead>\n",
       "  <tbody>\n",
       "    <tr>\n",
       "      <th>0</th>\n",
       "      <td>orange_churn</td>\n",
       "      <td>churn</td>\n",
       "      <td>50000</td>\n",
       "      <td>213</td>\n",
       "      <td>174</td>\n",
       "      <td>38</td>\n",
       "      <td>0.0734</td>\n",
       "      <td>0.04</td>\n",
       "    </tr>\n",
       "    <tr>\n",
       "      <th>1</th>\n",
       "      <td>bike_75</td>\n",
       "      <td>demand-prediction</td>\n",
       "      <td>8760</td>\n",
       "      <td>14</td>\n",
       "      <td>9</td>\n",
       "      <td>4</td>\n",
       "      <td>0.0070</td>\n",
       "      <td>0.16</td>\n",
       "    </tr>\n",
       "    <tr>\n",
       "      <th>2</th>\n",
       "      <td>fraud_oracle</td>\n",
       "      <td>insurance-fraud</td>\n",
       "      <td>15420</td>\n",
       "      <td>33</td>\n",
       "      <td>8</td>\n",
       "      <td>24</td>\n",
       "      <td>0.0599</td>\n",
       "      <td>0.38</td>\n",
       "    </tr>\n",
       "    <tr>\n",
       "      <th>3</th>\n",
       "      <td>taiwan_credit</td>\n",
       "      <td>credit</td>\n",
       "      <td>30000</td>\n",
       "      <td>24</td>\n",
       "      <td>14</td>\n",
       "      <td>9</td>\n",
       "      <td>0.2212</td>\n",
       "      <td>0.39</td>\n",
       "    </tr>\n",
       "    <tr>\n",
       "      <th>4</th>\n",
       "      <td>orange_up</td>\n",
       "      <td>product recommendation</td>\n",
       "      <td>50000</td>\n",
       "      <td>213</td>\n",
       "      <td>174</td>\n",
       "      <td>38</td>\n",
       "      <td>0.0736</td>\n",
       "      <td>0.45</td>\n",
       "    </tr>\n",
       "    <tr>\n",
       "      <th>5</th>\n",
       "      <td>german_credit</td>\n",
       "      <td>credit</td>\n",
       "      <td>1000</td>\n",
       "      <td>21</td>\n",
       "      <td>7</td>\n",
       "      <td>13</td>\n",
       "      <td>0.3000</td>\n",
       "      <td>0.45</td>\n",
       "    </tr>\n",
       "    <tr>\n",
       "      <th>6</th>\n",
       "      <td>bank_marketing</td>\n",
       "      <td>product_recommendation</td>\n",
       "      <td>4118</td>\n",
       "      <td>21</td>\n",
       "      <td>10</td>\n",
       "      <td>10</td>\n",
       "      <td>0.1095</td>\n",
       "      <td>0.56</td>\n",
       "    </tr>\n",
       "    <tr>\n",
       "      <th>7</th>\n",
       "      <td>compas</td>\n",
       "      <td>recidivism</td>\n",
       "      <td>7210</td>\n",
       "      <td>8</td>\n",
       "      <td>0</td>\n",
       "      <td>7</td>\n",
       "      <td>0.4508</td>\n",
       "      <td>0.61</td>\n",
       "    </tr>\n",
       "    <tr>\n",
       "      <th>8</th>\n",
       "      <td>heloc</td>\n",
       "      <td>credit</td>\n",
       "      <td>10459</td>\n",
       "      <td>24</td>\n",
       "      <td>23</td>\n",
       "      <td>0</td>\n",
       "      <td>0.4781</td>\n",
       "      <td>0.66</td>\n",
       "    </tr>\n",
       "    <tr>\n",
       "      <th>9</th>\n",
       "      <td>adult</td>\n",
       "      <td>income_prediction</td>\n",
       "      <td>32561</td>\n",
       "      <td>13</td>\n",
       "      <td>4</td>\n",
       "      <td>8</td>\n",
       "      <td>0.2408</td>\n",
       "      <td>0.69</td>\n",
       "    </tr>\n",
       "    <tr>\n",
       "      <th>10</th>\n",
       "      <td>telco_churn_2</td>\n",
       "      <td>churn</td>\n",
       "      <td>2000</td>\n",
       "      <td>14</td>\n",
       "      <td>9</td>\n",
       "      <td>4</td>\n",
       "      <td>0.5000</td>\n",
       "      <td>0.72</td>\n",
       "    </tr>\n",
       "    <tr>\n",
       "      <th>11</th>\n",
       "      <td>telco_churn</td>\n",
       "      <td>churn</td>\n",
       "      <td>3333</td>\n",
       "      <td>20</td>\n",
       "      <td>16</td>\n",
       "      <td>3</td>\n",
       "      <td>0.1449</td>\n",
       "      <td>0.77</td>\n",
       "    </tr>\n",
       "    <tr>\n",
       "      <th>12</th>\n",
       "      <td>house</td>\n",
       "      <td>price_prediction</td>\n",
       "      <td>22784</td>\n",
       "      <td>17</td>\n",
       "      <td>16</td>\n",
       "      <td>0</td>\n",
       "      <td>0.2960</td>\n",
       "      <td>0.79</td>\n",
       "    </tr>\n",
       "    <tr>\n",
       "      <th>13</th>\n",
       "      <td>boston</td>\n",
       "      <td>price_prediction</td>\n",
       "      <td>506</td>\n",
       "      <td>14</td>\n",
       "      <td>13</td>\n",
       "      <td>0</td>\n",
       "      <td>0.4130</td>\n",
       "      <td>0.84</td>\n",
       "    </tr>\n",
       "    <tr>\n",
       "      <th>14</th>\n",
       "      <td>fraud_detection</td>\n",
       "      <td>transaction-fraud</td>\n",
       "      <td>284807</td>\n",
       "      <td>31</td>\n",
       "      <td>30</td>\n",
       "      <td>0</td>\n",
       "      <td>0.0017</td>\n",
       "      <td>0.85</td>\n",
       "    </tr>\n",
       "    <tr>\n",
       "      <th>15</th>\n",
       "      <td>electricity</td>\n",
       "      <td>price_sensitivity</td>\n",
       "      <td>45312</td>\n",
       "      <td>9</td>\n",
       "      <td>8</td>\n",
       "      <td>0</td>\n",
       "      <td>0.4245</td>\n",
       "      <td>0.89</td>\n",
       "    </tr>\n",
       "    <tr>\n",
       "      <th>16</th>\n",
       "      <td>bike_mean</td>\n",
       "      <td>demand-prediction</td>\n",
       "      <td>8760</td>\n",
       "      <td>14</td>\n",
       "      <td>9</td>\n",
       "      <td>4</td>\n",
       "      <td>0.4022</td>\n",
       "      <td>0.92</td>\n",
       "    </tr>\n",
       "  </tbody>\n",
       "</table>\n",
       "</div>"
      ],
      "text/plain": [
       "           data_set                use_case  nof_rows  nof_col  \\\n",
       "0      orange_churn                   churn     50000      213   \n",
       "1           bike_75       demand-prediction      8760       14   \n",
       "2      fraud_oracle         insurance-fraud     15420       33   \n",
       "3     taiwan_credit                  credit     30000       24   \n",
       "4         orange_up  product recommendation     50000      213   \n",
       "5     german_credit                  credit      1000       21   \n",
       "6    bank_marketing  product_recommendation      4118       21   \n",
       "7            compas              recidivism      7210        8   \n",
       "8             heloc                  credit     10459       24   \n",
       "9             adult       income_prediction     32561       13   \n",
       "10    telco_churn_2                   churn      2000       14   \n",
       "11      telco_churn                   churn      3333       20   \n",
       "12            house        price_prediction     22784       17   \n",
       "13           boston        price_prediction       506       14   \n",
       "14  fraud_detection       transaction-fraud    284807       31   \n",
       "15      electricity       price_sensitivity     45312        9   \n",
       "16        bike_mean       demand-prediction      8760       14   \n",
       "\n",
       "    nof_num_features  nof_cat_features  pos_ratio  LENC-XGB_f2  \n",
       "0                174                38     0.0734         0.04  \n",
       "1                  9                 4     0.0070         0.16  \n",
       "2                  8                24     0.0599         0.38  \n",
       "3                 14                 9     0.2212         0.39  \n",
       "4                174                38     0.0736         0.45  \n",
       "5                  7                13     0.3000         0.45  \n",
       "6                 10                10     0.1095         0.56  \n",
       "7                  0                 7     0.4508         0.61  \n",
       "8                 23                 0     0.4781         0.66  \n",
       "9                  4                 8     0.2408         0.69  \n",
       "10                 9                 4     0.5000         0.72  \n",
       "11                16                 3     0.1449         0.77  \n",
       "12                16                 0     0.2960         0.79  \n",
       "13                13                 0     0.4130         0.84  \n",
       "14                30                 0     0.0017         0.85  \n",
       "15                 8                 0     0.4245         0.89  \n",
       "16                 9                 4     0.4022         0.92  "
      ]
     },
     "execution_count": 93,
     "metadata": {},
     "output_type": "execute_result"
    }
   ],
   "source": [
    "df_basic_stats = df_core_suite[['data_set', 'use_case', 'nof_rows', 'nof_col', 'nof_num_features', 'nof_cat_features', 'pos_ratio', 'LENC-XGB_f2']]\n",
    "df_basic_stats = df_basic_stats.sort_values('LENC-XGB_f2', ignore_index=True)\n",
    "df_basic_stats\n",
    "# latex_table = df_basic_stats.to_latex(index=False)\n",
    "# latex_table = latex_table.replace('\\_', ' ')\n",
    "# latex_table = latex_table.replace('-', ' ')\n",
    "# print(latex_table)\n",
    "\n",
    "# for x in trans_map:\n",
    "#         latex_table = latex_table.replace(x, trans_map[x])"
   ]
  },
  {
   "cell_type": "code",
   "execution_count": 94,
   "metadata": {},
   "outputs": [
    {
     "data": {
      "application/vnd.plotly.v1+json": {
       "config": {
        "plotlyServerURL": "https://plot.ly"
       },
       "data": [
        {
         "hovertemplate": "variable=pos_ratio<br>data_set=%{x}<br>value=%{y}<extra></extra>",
         "legendgroup": "pos_ratio",
         "line": {
          "color": "#636efa",
          "dash": "solid"
         },
         "marker": {
          "symbol": "circle"
         },
         "mode": "markers+lines",
         "name": "pos_ratio",
         "orientation": "v",
         "showlegend": true,
         "type": "scatter",
         "x": [
          "fraud_detection",
          "bike_75",
          "fraud_oracle",
          "orange_churn",
          "orange_up",
          "bank_marketing",
          "telco_churn",
          "taiwan_credit",
          "adult",
          "house",
          "german_credit",
          "bike_mean",
          "boston",
          "electricity",
          "compas",
          "heloc",
          "telco_churn_2"
         ],
         "xaxis": "x",
         "y": [
          0.0017,
          0.007,
          0.0599,
          0.0734,
          0.0736,
          0.1095,
          0.1449,
          0.2212,
          0.2408,
          0.296,
          0.3,
          0.4022,
          0.413,
          0.4245,
          0.4508,
          0.4781,
          0.5
         ],
         "yaxis": "y"
        }
       ],
       "layout": {
        "height": 500,
        "legend": {
         "title": {
          "text": "variable"
         },
         "tracegroupgap": 0
        },
        "template": {
         "data": {
          "bar": [
           {
            "error_x": {
             "color": "#2a3f5f"
            },
            "error_y": {
             "color": "#2a3f5f"
            },
            "marker": {
             "line": {
              "color": "#E5ECF6",
              "width": 0.5
             },
             "pattern": {
              "fillmode": "overlay",
              "size": 10,
              "solidity": 0.2
             }
            },
            "type": "bar"
           }
          ],
          "barpolar": [
           {
            "marker": {
             "line": {
              "color": "#E5ECF6",
              "width": 0.5
             },
             "pattern": {
              "fillmode": "overlay",
              "size": 10,
              "solidity": 0.2
             }
            },
            "type": "barpolar"
           }
          ],
          "carpet": [
           {
            "aaxis": {
             "endlinecolor": "#2a3f5f",
             "gridcolor": "white",
             "linecolor": "white",
             "minorgridcolor": "white",
             "startlinecolor": "#2a3f5f"
            },
            "baxis": {
             "endlinecolor": "#2a3f5f",
             "gridcolor": "white",
             "linecolor": "white",
             "minorgridcolor": "white",
             "startlinecolor": "#2a3f5f"
            },
            "type": "carpet"
           }
          ],
          "choropleth": [
           {
            "colorbar": {
             "outlinewidth": 0,
             "ticks": ""
            },
            "type": "choropleth"
           }
          ],
          "contour": [
           {
            "colorbar": {
             "outlinewidth": 0,
             "ticks": ""
            },
            "colorscale": [
             [
              0,
              "#0d0887"
             ],
             [
              0.1111111111111111,
              "#46039f"
             ],
             [
              0.2222222222222222,
              "#7201a8"
             ],
             [
              0.3333333333333333,
              "#9c179e"
             ],
             [
              0.4444444444444444,
              "#bd3786"
             ],
             [
              0.5555555555555556,
              "#d8576b"
             ],
             [
              0.6666666666666666,
              "#ed7953"
             ],
             [
              0.7777777777777778,
              "#fb9f3a"
             ],
             [
              0.8888888888888888,
              "#fdca26"
             ],
             [
              1,
              "#f0f921"
             ]
            ],
            "type": "contour"
           }
          ],
          "contourcarpet": [
           {
            "colorbar": {
             "outlinewidth": 0,
             "ticks": ""
            },
            "type": "contourcarpet"
           }
          ],
          "heatmap": [
           {
            "colorbar": {
             "outlinewidth": 0,
             "ticks": ""
            },
            "colorscale": [
             [
              0,
              "#0d0887"
             ],
             [
              0.1111111111111111,
              "#46039f"
             ],
             [
              0.2222222222222222,
              "#7201a8"
             ],
             [
              0.3333333333333333,
              "#9c179e"
             ],
             [
              0.4444444444444444,
              "#bd3786"
             ],
             [
              0.5555555555555556,
              "#d8576b"
             ],
             [
              0.6666666666666666,
              "#ed7953"
             ],
             [
              0.7777777777777778,
              "#fb9f3a"
             ],
             [
              0.8888888888888888,
              "#fdca26"
             ],
             [
              1,
              "#f0f921"
             ]
            ],
            "type": "heatmap"
           }
          ],
          "heatmapgl": [
           {
            "colorbar": {
             "outlinewidth": 0,
             "ticks": ""
            },
            "colorscale": [
             [
              0,
              "#0d0887"
             ],
             [
              0.1111111111111111,
              "#46039f"
             ],
             [
              0.2222222222222222,
              "#7201a8"
             ],
             [
              0.3333333333333333,
              "#9c179e"
             ],
             [
              0.4444444444444444,
              "#bd3786"
             ],
             [
              0.5555555555555556,
              "#d8576b"
             ],
             [
              0.6666666666666666,
              "#ed7953"
             ],
             [
              0.7777777777777778,
              "#fb9f3a"
             ],
             [
              0.8888888888888888,
              "#fdca26"
             ],
             [
              1,
              "#f0f921"
             ]
            ],
            "type": "heatmapgl"
           }
          ],
          "histogram": [
           {
            "marker": {
             "pattern": {
              "fillmode": "overlay",
              "size": 10,
              "solidity": 0.2
             }
            },
            "type": "histogram"
           }
          ],
          "histogram2d": [
           {
            "colorbar": {
             "outlinewidth": 0,
             "ticks": ""
            },
            "colorscale": [
             [
              0,
              "#0d0887"
             ],
             [
              0.1111111111111111,
              "#46039f"
             ],
             [
              0.2222222222222222,
              "#7201a8"
             ],
             [
              0.3333333333333333,
              "#9c179e"
             ],
             [
              0.4444444444444444,
              "#bd3786"
             ],
             [
              0.5555555555555556,
              "#d8576b"
             ],
             [
              0.6666666666666666,
              "#ed7953"
             ],
             [
              0.7777777777777778,
              "#fb9f3a"
             ],
             [
              0.8888888888888888,
              "#fdca26"
             ],
             [
              1,
              "#f0f921"
             ]
            ],
            "type": "histogram2d"
           }
          ],
          "histogram2dcontour": [
           {
            "colorbar": {
             "outlinewidth": 0,
             "ticks": ""
            },
            "colorscale": [
             [
              0,
              "#0d0887"
             ],
             [
              0.1111111111111111,
              "#46039f"
             ],
             [
              0.2222222222222222,
              "#7201a8"
             ],
             [
              0.3333333333333333,
              "#9c179e"
             ],
             [
              0.4444444444444444,
              "#bd3786"
             ],
             [
              0.5555555555555556,
              "#d8576b"
             ],
             [
              0.6666666666666666,
              "#ed7953"
             ],
             [
              0.7777777777777778,
              "#fb9f3a"
             ],
             [
              0.8888888888888888,
              "#fdca26"
             ],
             [
              1,
              "#f0f921"
             ]
            ],
            "type": "histogram2dcontour"
           }
          ],
          "mesh3d": [
           {
            "colorbar": {
             "outlinewidth": 0,
             "ticks": ""
            },
            "type": "mesh3d"
           }
          ],
          "parcoords": [
           {
            "line": {
             "colorbar": {
              "outlinewidth": 0,
              "ticks": ""
             }
            },
            "type": "parcoords"
           }
          ],
          "pie": [
           {
            "automargin": true,
            "type": "pie"
           }
          ],
          "scatter": [
           {
            "fillpattern": {
             "fillmode": "overlay",
             "size": 10,
             "solidity": 0.2
            },
            "type": "scatter"
           }
          ],
          "scatter3d": [
           {
            "line": {
             "colorbar": {
              "outlinewidth": 0,
              "ticks": ""
             }
            },
            "marker": {
             "colorbar": {
              "outlinewidth": 0,
              "ticks": ""
             }
            },
            "type": "scatter3d"
           }
          ],
          "scattercarpet": [
           {
            "marker": {
             "colorbar": {
              "outlinewidth": 0,
              "ticks": ""
             }
            },
            "type": "scattercarpet"
           }
          ],
          "scattergeo": [
           {
            "marker": {
             "colorbar": {
              "outlinewidth": 0,
              "ticks": ""
             }
            },
            "type": "scattergeo"
           }
          ],
          "scattergl": [
           {
            "marker": {
             "colorbar": {
              "outlinewidth": 0,
              "ticks": ""
             }
            },
            "type": "scattergl"
           }
          ],
          "scattermapbox": [
           {
            "marker": {
             "colorbar": {
              "outlinewidth": 0,
              "ticks": ""
             }
            },
            "type": "scattermapbox"
           }
          ],
          "scatterpolar": [
           {
            "marker": {
             "colorbar": {
              "outlinewidth": 0,
              "ticks": ""
             }
            },
            "type": "scatterpolar"
           }
          ],
          "scatterpolargl": [
           {
            "marker": {
             "colorbar": {
              "outlinewidth": 0,
              "ticks": ""
             }
            },
            "type": "scatterpolargl"
           }
          ],
          "scatterternary": [
           {
            "marker": {
             "colorbar": {
              "outlinewidth": 0,
              "ticks": ""
             }
            },
            "type": "scatterternary"
           }
          ],
          "surface": [
           {
            "colorbar": {
             "outlinewidth": 0,
             "ticks": ""
            },
            "colorscale": [
             [
              0,
              "#0d0887"
             ],
             [
              0.1111111111111111,
              "#46039f"
             ],
             [
              0.2222222222222222,
              "#7201a8"
             ],
             [
              0.3333333333333333,
              "#9c179e"
             ],
             [
              0.4444444444444444,
              "#bd3786"
             ],
             [
              0.5555555555555556,
              "#d8576b"
             ],
             [
              0.6666666666666666,
              "#ed7953"
             ],
             [
              0.7777777777777778,
              "#fb9f3a"
             ],
             [
              0.8888888888888888,
              "#fdca26"
             ],
             [
              1,
              "#f0f921"
             ]
            ],
            "type": "surface"
           }
          ],
          "table": [
           {
            "cells": {
             "fill": {
              "color": "#EBF0F8"
             },
             "line": {
              "color": "white"
             }
            },
            "header": {
             "fill": {
              "color": "#C8D4E3"
             },
             "line": {
              "color": "white"
             }
            },
            "type": "table"
           }
          ]
         },
         "layout": {
          "annotationdefaults": {
           "arrowcolor": "#2a3f5f",
           "arrowhead": 0,
           "arrowwidth": 1
          },
          "autotypenumbers": "strict",
          "coloraxis": {
           "colorbar": {
            "outlinewidth": 0,
            "ticks": ""
           }
          },
          "colorscale": {
           "diverging": [
            [
             0,
             "#8e0152"
            ],
            [
             0.1,
             "#c51b7d"
            ],
            [
             0.2,
             "#de77ae"
            ],
            [
             0.3,
             "#f1b6da"
            ],
            [
             0.4,
             "#fde0ef"
            ],
            [
             0.5,
             "#f7f7f7"
            ],
            [
             0.6,
             "#e6f5d0"
            ],
            [
             0.7,
             "#b8e186"
            ],
            [
             0.8,
             "#7fbc41"
            ],
            [
             0.9,
             "#4d9221"
            ],
            [
             1,
             "#276419"
            ]
           ],
           "sequential": [
            [
             0,
             "#0d0887"
            ],
            [
             0.1111111111111111,
             "#46039f"
            ],
            [
             0.2222222222222222,
             "#7201a8"
            ],
            [
             0.3333333333333333,
             "#9c179e"
            ],
            [
             0.4444444444444444,
             "#bd3786"
            ],
            [
             0.5555555555555556,
             "#d8576b"
            ],
            [
             0.6666666666666666,
             "#ed7953"
            ],
            [
             0.7777777777777778,
             "#fb9f3a"
            ],
            [
             0.8888888888888888,
             "#fdca26"
            ],
            [
             1,
             "#f0f921"
            ]
           ],
           "sequentialminus": [
            [
             0,
             "#0d0887"
            ],
            [
             0.1111111111111111,
             "#46039f"
            ],
            [
             0.2222222222222222,
             "#7201a8"
            ],
            [
             0.3333333333333333,
             "#9c179e"
            ],
            [
             0.4444444444444444,
             "#bd3786"
            ],
            [
             0.5555555555555556,
             "#d8576b"
            ],
            [
             0.6666666666666666,
             "#ed7953"
            ],
            [
             0.7777777777777778,
             "#fb9f3a"
            ],
            [
             0.8888888888888888,
             "#fdca26"
            ],
            [
             1,
             "#f0f921"
            ]
           ]
          },
          "colorway": [
           "#636efa",
           "#EF553B",
           "#00cc96",
           "#ab63fa",
           "#FFA15A",
           "#19d3f3",
           "#FF6692",
           "#B6E880",
           "#FF97FF",
           "#FECB52"
          ],
          "font": {
           "color": "#2a3f5f"
          },
          "geo": {
           "bgcolor": "white",
           "lakecolor": "white",
           "landcolor": "#E5ECF6",
           "showlakes": true,
           "showland": true,
           "subunitcolor": "white"
          },
          "hoverlabel": {
           "align": "left"
          },
          "hovermode": "closest",
          "mapbox": {
           "style": "light"
          },
          "paper_bgcolor": "white",
          "plot_bgcolor": "#E5ECF6",
          "polar": {
           "angularaxis": {
            "gridcolor": "white",
            "linecolor": "white",
            "ticks": ""
           },
           "bgcolor": "#E5ECF6",
           "radialaxis": {
            "gridcolor": "white",
            "linecolor": "white",
            "ticks": ""
           }
          },
          "scene": {
           "xaxis": {
            "backgroundcolor": "#E5ECF6",
            "gridcolor": "white",
            "gridwidth": 2,
            "linecolor": "white",
            "showbackground": true,
            "ticks": "",
            "zerolinecolor": "white"
           },
           "yaxis": {
            "backgroundcolor": "#E5ECF6",
            "gridcolor": "white",
            "gridwidth": 2,
            "linecolor": "white",
            "showbackground": true,
            "ticks": "",
            "zerolinecolor": "white"
           },
           "zaxis": {
            "backgroundcolor": "#E5ECF6",
            "gridcolor": "white",
            "gridwidth": 2,
            "linecolor": "white",
            "showbackground": true,
            "ticks": "",
            "zerolinecolor": "white"
           }
          },
          "shapedefaults": {
           "line": {
            "color": "#2a3f5f"
           }
          },
          "ternary": {
           "aaxis": {
            "gridcolor": "white",
            "linecolor": "white",
            "ticks": ""
           },
           "baxis": {
            "gridcolor": "white",
            "linecolor": "white",
            "ticks": ""
           },
           "bgcolor": "#E5ECF6",
           "caxis": {
            "gridcolor": "white",
            "linecolor": "white",
            "ticks": ""
           }
          },
          "title": {
           "x": 0.05
          },
          "xaxis": {
           "automargin": true,
           "gridcolor": "white",
           "linecolor": "white",
           "ticks": "",
           "title": {
            "standoff": 15
           },
           "zerolinecolor": "white",
           "zerolinewidth": 2
          },
          "yaxis": {
           "automargin": true,
           "gridcolor": "white",
           "linecolor": "white",
           "ticks": "",
           "title": {
            "standoff": 15
           },
           "zerolinecolor": "white",
           "zerolinewidth": 2
          }
         }
        },
        "title": {
         "text": "Core Suite: Imbalance"
        },
        "width": 1000,
        "xaxis": {
         "anchor": "y",
         "domain": [
          0,
          1
         ],
         "title": {
          "text": "data_set"
         }
        },
        "yaxis": {
         "anchor": "x",
         "domain": [
          0,
          1
         ],
         "title": {
          "text": "value"
         },
         "type": "log"
        }
       }
      },
      "text/html": [
       "<div>                            <div id=\"1759cd3a-b556-4c7d-951d-86dccf23a1e1\" class=\"plotly-graph-div\" style=\"height:500px; width:1000px;\"></div>            <script type=\"text/javascript\">                require([\"plotly\"], function(Plotly) {                    window.PLOTLYENV=window.PLOTLYENV || {};                                    if (document.getElementById(\"1759cd3a-b556-4c7d-951d-86dccf23a1e1\")) {                    Plotly.newPlot(                        \"1759cd3a-b556-4c7d-951d-86dccf23a1e1\",                        [{\"hovertemplate\":\"variable=pos_ratio<br>data_set=%{x}<br>value=%{y}<extra></extra>\",\"legendgroup\":\"pos_ratio\",\"line\":{\"color\":\"#636efa\",\"dash\":\"solid\"},\"marker\":{\"symbol\":\"circle\"},\"mode\":\"markers+lines\",\"name\":\"pos_ratio\",\"orientation\":\"v\",\"showlegend\":true,\"x\":[\"fraud_detection\",\"bike_75\",\"fraud_oracle\",\"orange_churn\",\"orange_up\",\"bank_marketing\",\"telco_churn\",\"taiwan_credit\",\"adult\",\"house\",\"german_credit\",\"bike_mean\",\"boston\",\"electricity\",\"compas\",\"heloc\",\"telco_churn_2\"],\"xaxis\":\"x\",\"y\":[0.0017,0.007,0.0599,0.0734,0.0736,0.1095,0.1449,0.2212,0.2408,0.296,0.3,0.4022,0.413,0.4245,0.4508,0.4781,0.5],\"yaxis\":\"y\",\"type\":\"scatter\"}],                        {\"template\":{\"data\":{\"histogram2dcontour\":[{\"type\":\"histogram2dcontour\",\"colorbar\":{\"outlinewidth\":0,\"ticks\":\"\"},\"colorscale\":[[0.0,\"#0d0887\"],[0.1111111111111111,\"#46039f\"],[0.2222222222222222,\"#7201a8\"],[0.3333333333333333,\"#9c179e\"],[0.4444444444444444,\"#bd3786\"],[0.5555555555555556,\"#d8576b\"],[0.6666666666666666,\"#ed7953\"],[0.7777777777777778,\"#fb9f3a\"],[0.8888888888888888,\"#fdca26\"],[1.0,\"#f0f921\"]]}],\"choropleth\":[{\"type\":\"choropleth\",\"colorbar\":{\"outlinewidth\":0,\"ticks\":\"\"}}],\"histogram2d\":[{\"type\":\"histogram2d\",\"colorbar\":{\"outlinewidth\":0,\"ticks\":\"\"},\"colorscale\":[[0.0,\"#0d0887\"],[0.1111111111111111,\"#46039f\"],[0.2222222222222222,\"#7201a8\"],[0.3333333333333333,\"#9c179e\"],[0.4444444444444444,\"#bd3786\"],[0.5555555555555556,\"#d8576b\"],[0.6666666666666666,\"#ed7953\"],[0.7777777777777778,\"#fb9f3a\"],[0.8888888888888888,\"#fdca26\"],[1.0,\"#f0f921\"]]}],\"heatmap\":[{\"type\":\"heatmap\",\"colorbar\":{\"outlinewidth\":0,\"ticks\":\"\"},\"colorscale\":[[0.0,\"#0d0887\"],[0.1111111111111111,\"#46039f\"],[0.2222222222222222,\"#7201a8\"],[0.3333333333333333,\"#9c179e\"],[0.4444444444444444,\"#bd3786\"],[0.5555555555555556,\"#d8576b\"],[0.6666666666666666,\"#ed7953\"],[0.7777777777777778,\"#fb9f3a\"],[0.8888888888888888,\"#fdca26\"],[1.0,\"#f0f921\"]]}],\"heatmapgl\":[{\"type\":\"heatmapgl\",\"colorbar\":{\"outlinewidth\":0,\"ticks\":\"\"},\"colorscale\":[[0.0,\"#0d0887\"],[0.1111111111111111,\"#46039f\"],[0.2222222222222222,\"#7201a8\"],[0.3333333333333333,\"#9c179e\"],[0.4444444444444444,\"#bd3786\"],[0.5555555555555556,\"#d8576b\"],[0.6666666666666666,\"#ed7953\"],[0.7777777777777778,\"#fb9f3a\"],[0.8888888888888888,\"#fdca26\"],[1.0,\"#f0f921\"]]}],\"contourcarpet\":[{\"type\":\"contourcarpet\",\"colorbar\":{\"outlinewidth\":0,\"ticks\":\"\"}}],\"contour\":[{\"type\":\"contour\",\"colorbar\":{\"outlinewidth\":0,\"ticks\":\"\"},\"colorscale\":[[0.0,\"#0d0887\"],[0.1111111111111111,\"#46039f\"],[0.2222222222222222,\"#7201a8\"],[0.3333333333333333,\"#9c179e\"],[0.4444444444444444,\"#bd3786\"],[0.5555555555555556,\"#d8576b\"],[0.6666666666666666,\"#ed7953\"],[0.7777777777777778,\"#fb9f3a\"],[0.8888888888888888,\"#fdca26\"],[1.0,\"#f0f921\"]]}],\"surface\":[{\"type\":\"surface\",\"colorbar\":{\"outlinewidth\":0,\"ticks\":\"\"},\"colorscale\":[[0.0,\"#0d0887\"],[0.1111111111111111,\"#46039f\"],[0.2222222222222222,\"#7201a8\"],[0.3333333333333333,\"#9c179e\"],[0.4444444444444444,\"#bd3786\"],[0.5555555555555556,\"#d8576b\"],[0.6666666666666666,\"#ed7953\"],[0.7777777777777778,\"#fb9f3a\"],[0.8888888888888888,\"#fdca26\"],[1.0,\"#f0f921\"]]}],\"mesh3d\":[{\"type\":\"mesh3d\",\"colorbar\":{\"outlinewidth\":0,\"ticks\":\"\"}}],\"scatter\":[{\"fillpattern\":{\"fillmode\":\"overlay\",\"size\":10,\"solidity\":0.2},\"type\":\"scatter\"}],\"parcoords\":[{\"type\":\"parcoords\",\"line\":{\"colorbar\":{\"outlinewidth\":0,\"ticks\":\"\"}}}],\"scatterpolargl\":[{\"type\":\"scatterpolargl\",\"marker\":{\"colorbar\":{\"outlinewidth\":0,\"ticks\":\"\"}}}],\"bar\":[{\"error_x\":{\"color\":\"#2a3f5f\"},\"error_y\":{\"color\":\"#2a3f5f\"},\"marker\":{\"line\":{\"color\":\"#E5ECF6\",\"width\":0.5},\"pattern\":{\"fillmode\":\"overlay\",\"size\":10,\"solidity\":0.2}},\"type\":\"bar\"}],\"scattergeo\":[{\"type\":\"scattergeo\",\"marker\":{\"colorbar\":{\"outlinewidth\":0,\"ticks\":\"\"}}}],\"scatterpolar\":[{\"type\":\"scatterpolar\",\"marker\":{\"colorbar\":{\"outlinewidth\":0,\"ticks\":\"\"}}}],\"histogram\":[{\"marker\":{\"pattern\":{\"fillmode\":\"overlay\",\"size\":10,\"solidity\":0.2}},\"type\":\"histogram\"}],\"scattergl\":[{\"type\":\"scattergl\",\"marker\":{\"colorbar\":{\"outlinewidth\":0,\"ticks\":\"\"}}}],\"scatter3d\":[{\"type\":\"scatter3d\",\"line\":{\"colorbar\":{\"outlinewidth\":0,\"ticks\":\"\"}},\"marker\":{\"colorbar\":{\"outlinewidth\":0,\"ticks\":\"\"}}}],\"scattermapbox\":[{\"type\":\"scattermapbox\",\"marker\":{\"colorbar\":{\"outlinewidth\":0,\"ticks\":\"\"}}}],\"scatterternary\":[{\"type\":\"scatterternary\",\"marker\":{\"colorbar\":{\"outlinewidth\":0,\"ticks\":\"\"}}}],\"scattercarpet\":[{\"type\":\"scattercarpet\",\"marker\":{\"colorbar\":{\"outlinewidth\":0,\"ticks\":\"\"}}}],\"carpet\":[{\"aaxis\":{\"endlinecolor\":\"#2a3f5f\",\"gridcolor\":\"white\",\"linecolor\":\"white\",\"minorgridcolor\":\"white\",\"startlinecolor\":\"#2a3f5f\"},\"baxis\":{\"endlinecolor\":\"#2a3f5f\",\"gridcolor\":\"white\",\"linecolor\":\"white\",\"minorgridcolor\":\"white\",\"startlinecolor\":\"#2a3f5f\"},\"type\":\"carpet\"}],\"table\":[{\"cells\":{\"fill\":{\"color\":\"#EBF0F8\"},\"line\":{\"color\":\"white\"}},\"header\":{\"fill\":{\"color\":\"#C8D4E3\"},\"line\":{\"color\":\"white\"}},\"type\":\"table\"}],\"barpolar\":[{\"marker\":{\"line\":{\"color\":\"#E5ECF6\",\"width\":0.5},\"pattern\":{\"fillmode\":\"overlay\",\"size\":10,\"solidity\":0.2}},\"type\":\"barpolar\"}],\"pie\":[{\"automargin\":true,\"type\":\"pie\"}]},\"layout\":{\"autotypenumbers\":\"strict\",\"colorway\":[\"#636efa\",\"#EF553B\",\"#00cc96\",\"#ab63fa\",\"#FFA15A\",\"#19d3f3\",\"#FF6692\",\"#B6E880\",\"#FF97FF\",\"#FECB52\"],\"font\":{\"color\":\"#2a3f5f\"},\"hovermode\":\"closest\",\"hoverlabel\":{\"align\":\"left\"},\"paper_bgcolor\":\"white\",\"plot_bgcolor\":\"#E5ECF6\",\"polar\":{\"bgcolor\":\"#E5ECF6\",\"angularaxis\":{\"gridcolor\":\"white\",\"linecolor\":\"white\",\"ticks\":\"\"},\"radialaxis\":{\"gridcolor\":\"white\",\"linecolor\":\"white\",\"ticks\":\"\"}},\"ternary\":{\"bgcolor\":\"#E5ECF6\",\"aaxis\":{\"gridcolor\":\"white\",\"linecolor\":\"white\",\"ticks\":\"\"},\"baxis\":{\"gridcolor\":\"white\",\"linecolor\":\"white\",\"ticks\":\"\"},\"caxis\":{\"gridcolor\":\"white\",\"linecolor\":\"white\",\"ticks\":\"\"}},\"coloraxis\":{\"colorbar\":{\"outlinewidth\":0,\"ticks\":\"\"}},\"colorscale\":{\"sequential\":[[0.0,\"#0d0887\"],[0.1111111111111111,\"#46039f\"],[0.2222222222222222,\"#7201a8\"],[0.3333333333333333,\"#9c179e\"],[0.4444444444444444,\"#bd3786\"],[0.5555555555555556,\"#d8576b\"],[0.6666666666666666,\"#ed7953\"],[0.7777777777777778,\"#fb9f3a\"],[0.8888888888888888,\"#fdca26\"],[1.0,\"#f0f921\"]],\"sequentialminus\":[[0.0,\"#0d0887\"],[0.1111111111111111,\"#46039f\"],[0.2222222222222222,\"#7201a8\"],[0.3333333333333333,\"#9c179e\"],[0.4444444444444444,\"#bd3786\"],[0.5555555555555556,\"#d8576b\"],[0.6666666666666666,\"#ed7953\"],[0.7777777777777778,\"#fb9f3a\"],[0.8888888888888888,\"#fdca26\"],[1.0,\"#f0f921\"]],\"diverging\":[[0,\"#8e0152\"],[0.1,\"#c51b7d\"],[0.2,\"#de77ae\"],[0.3,\"#f1b6da\"],[0.4,\"#fde0ef\"],[0.5,\"#f7f7f7\"],[0.6,\"#e6f5d0\"],[0.7,\"#b8e186\"],[0.8,\"#7fbc41\"],[0.9,\"#4d9221\"],[1,\"#276419\"]]},\"xaxis\":{\"gridcolor\":\"white\",\"linecolor\":\"white\",\"ticks\":\"\",\"title\":{\"standoff\":15},\"zerolinecolor\":\"white\",\"automargin\":true,\"zerolinewidth\":2},\"yaxis\":{\"gridcolor\":\"white\",\"linecolor\":\"white\",\"ticks\":\"\",\"title\":{\"standoff\":15},\"zerolinecolor\":\"white\",\"automargin\":true,\"zerolinewidth\":2},\"scene\":{\"xaxis\":{\"backgroundcolor\":\"#E5ECF6\",\"gridcolor\":\"white\",\"linecolor\":\"white\",\"showbackground\":true,\"ticks\":\"\",\"zerolinecolor\":\"white\",\"gridwidth\":2},\"yaxis\":{\"backgroundcolor\":\"#E5ECF6\",\"gridcolor\":\"white\",\"linecolor\":\"white\",\"showbackground\":true,\"ticks\":\"\",\"zerolinecolor\":\"white\",\"gridwidth\":2},\"zaxis\":{\"backgroundcolor\":\"#E5ECF6\",\"gridcolor\":\"white\",\"linecolor\":\"white\",\"showbackground\":true,\"ticks\":\"\",\"zerolinecolor\":\"white\",\"gridwidth\":2}},\"shapedefaults\":{\"line\":{\"color\":\"#2a3f5f\"}},\"annotationdefaults\":{\"arrowcolor\":\"#2a3f5f\",\"arrowhead\":0,\"arrowwidth\":1},\"geo\":{\"bgcolor\":\"white\",\"landcolor\":\"#E5ECF6\",\"subunitcolor\":\"white\",\"showland\":true,\"showlakes\":true,\"lakecolor\":\"white\"},\"title\":{\"x\":0.05},\"mapbox\":{\"style\":\"light\"}}},\"xaxis\":{\"anchor\":\"y\",\"domain\":[0.0,1.0],\"title\":{\"text\":\"data_set\"}},\"yaxis\":{\"anchor\":\"x\",\"domain\":[0.0,1.0],\"title\":{\"text\":\"value\"},\"type\":\"log\"},\"legend\":{\"title\":{\"text\":\"variable\"},\"tracegroupgap\":0},\"title\":{\"text\":\"Core Suite: Imbalance\"},\"height\":500,\"width\":1000},                        {\"responsive\": true}                    ).then(function(){\n",
       "                            \n",
       "var gd = document.getElementById('1759cd3a-b556-4c7d-951d-86dccf23a1e1');\n",
       "var x = new MutationObserver(function (mutations, observer) {{\n",
       "        var display = window.getComputedStyle(gd).display;\n",
       "        if (!display || display === 'none') {{\n",
       "            console.log([gd, 'removed!']);\n",
       "            Plotly.purge(gd);\n",
       "            observer.disconnect();\n",
       "        }}\n",
       "}});\n",
       "\n",
       "// Listen for the removal of the full notebook cells\n",
       "var notebookContainer = gd.closest('#notebook-container');\n",
       "if (notebookContainer) {{\n",
       "    x.observe(notebookContainer, {childList: true});\n",
       "}}\n",
       "\n",
       "// Listen for the clearing of the current output cell\n",
       "var outputEl = gd.closest('.output');\n",
       "if (outputEl) {{\n",
       "    x.observe(outputEl, {childList: true});\n",
       "}}\n",
       "\n",
       "                        })                };                });            </script>        </div>"
      ]
     },
     "metadata": {},
     "output_type": "display_data"
    }
   ],
   "source": [
    "fig = px.line(df_core_suite, x='data_set', y=['pos_ratio'], log_y=True, title='Core Suite: Imbalance')\n",
    "fig.update_traces(mode='markers+lines')\n",
    "fig.update_layout(height=500, width=1000)\n",
    "fig.show()"
   ]
  },
  {
   "attachments": {},
   "cell_type": "markdown",
   "metadata": {},
   "source": [
    "## General Performance on Core Suite"
   ]
  },
  {
   "attachments": {},
   "cell_type": "markdown",
   "metadata": {},
   "source": [
    "### Result Table"
   ]
  },
  {
   "cell_type": "code",
   "execution_count": 87,
   "metadata": {},
   "outputs": [
    {
     "data": {
      "text/html": [
       "<div>\n",
       "<style scoped>\n",
       "    .dataframe tbody tr th:only-of-type {\n",
       "        vertical-align: middle;\n",
       "    }\n",
       "\n",
       "    .dataframe tbody tr th {\n",
       "        vertical-align: top;\n",
       "    }\n",
       "\n",
       "    .dataframe thead th {\n",
       "        text-align: right;\n",
       "    }\n",
       "</style>\n",
       "<table border=\"1\" class=\"dataframe\">\n",
       "  <thead>\n",
       "    <tr style=\"text-align: right;\">\n",
       "      <th></th>\n",
       "      <th>data_set</th>\n",
       "      <th>NATIVE-RIPPER_f2</th>\n",
       "      <th>LENC-CART:4_f2</th>\n",
       "      <th>TREES-BRCG_f2</th>\n",
       "      <th>TREES-CORELS_f2</th>\n",
       "      <th>NATIVE-R2N_f2</th>\n",
       "      <th>BRSPREP-BRS_f2</th>\n",
       "      <th>LENC-XGB_f2</th>\n",
       "      <th>NATIVE-RIPPER_recall</th>\n",
       "      <th>LENC-CART:4_recall</th>\n",
       "      <th>...</th>\n",
       "      <th>NATIVE-R2N_precision</th>\n",
       "      <th>BRSPREP-BRS_precision</th>\n",
       "      <th>LENC-XGB_precision</th>\n",
       "      <th>NATIVE-RIPPER_adj_bal_acc</th>\n",
       "      <th>LENC-CART:4_adj_bal_acc</th>\n",
       "      <th>TREES-BRCG_adj_bal_acc</th>\n",
       "      <th>TREES-CORELS_adj_bal_acc</th>\n",
       "      <th>NATIVE-R2N_adj_bal_acc</th>\n",
       "      <th>BRSPREP-BRS_adj_bal_acc</th>\n",
       "      <th>LENC-XGB_adj_bal_acc</th>\n",
       "    </tr>\n",
       "  </thead>\n",
       "  <tbody>\n",
       "    <tr>\n",
       "      <th>0</th>\n",
       "      <td>orange_churn</td>\n",
       "      <td>0.00</td>\n",
       "      <td>0.02</td>\n",
       "      <td>0.00</td>\n",
       "      <td>0.00</td>\n",
       "      <td>NaN</td>\n",
       "      <td>0.00</td>\n",
       "      <td>0.04</td>\n",
       "      <td>0.00</td>\n",
       "      <td>0.02</td>\n",
       "      <td>...</td>\n",
       "      <td>NaN</td>\n",
       "      <td>1.00</td>\n",
       "      <td>0.50</td>\n",
       "      <td>0.00</td>\n",
       "      <td>0.02</td>\n",
       "      <td>0.00</td>\n",
       "      <td>0.00</td>\n",
       "      <td>NaN</td>\n",
       "      <td>0.00</td>\n",
       "      <td>0.03</td>\n",
       "    </tr>\n",
       "    <tr>\n",
       "      <th>1</th>\n",
       "      <td>bike_75</td>\n",
       "      <td>0.26</td>\n",
       "      <td>0.34</td>\n",
       "      <td>0.00</td>\n",
       "      <td>0.00</td>\n",
       "      <td>0.00</td>\n",
       "      <td>0.00</td>\n",
       "      <td>0.16</td>\n",
       "      <td>0.24</td>\n",
       "      <td>0.33</td>\n",
       "      <td>...</td>\n",
       "      <td>1.00</td>\n",
       "      <td>1.00</td>\n",
       "      <td>0.38</td>\n",
       "      <td>0.24</td>\n",
       "      <td>0.33</td>\n",
       "      <td>0.00</td>\n",
       "      <td>0.00</td>\n",
       "      <td>0.00</td>\n",
       "      <td>0.00</td>\n",
       "      <td>0.14</td>\n",
       "    </tr>\n",
       "    <tr>\n",
       "      <th>2</th>\n",
       "      <td>fraud_oracle</td>\n",
       "      <td>0.00</td>\n",
       "      <td>0.06</td>\n",
       "      <td>0.00</td>\n",
       "      <td>0.00</td>\n",
       "      <td>0.00</td>\n",
       "      <td>0.42</td>\n",
       "      <td>0.38</td>\n",
       "      <td>0.00</td>\n",
       "      <td>0.05</td>\n",
       "      <td>...</td>\n",
       "      <td>1.00</td>\n",
       "      <td>0.13</td>\n",
       "      <td>0.78</td>\n",
       "      <td>0.00</td>\n",
       "      <td>0.05</td>\n",
       "      <td>0.00</td>\n",
       "      <td>0.00</td>\n",
       "      <td>0.00</td>\n",
       "      <td>0.56</td>\n",
       "      <td>0.33</td>\n",
       "    </tr>\n",
       "    <tr>\n",
       "      <th>3</th>\n",
       "      <td>taiwan_credit</td>\n",
       "      <td>0.38</td>\n",
       "      <td>0.34</td>\n",
       "      <td>0.35</td>\n",
       "      <td>0.35</td>\n",
       "      <td>0.35</td>\n",
       "      <td>0.43</td>\n",
       "      <td>0.39</td>\n",
       "      <td>0.34</td>\n",
       "      <td>0.30</td>\n",
       "      <td>...</td>\n",
       "      <td>0.72</td>\n",
       "      <td>0.64</td>\n",
       "      <td>0.64</td>\n",
       "      <td>0.29</td>\n",
       "      <td>0.27</td>\n",
       "      <td>0.27</td>\n",
       "      <td>0.27</td>\n",
       "      <td>0.27</td>\n",
       "      <td>0.33</td>\n",
       "      <td>0.29</td>\n",
       "    </tr>\n",
       "    <tr>\n",
       "      <th>4</th>\n",
       "      <td>orange_up</td>\n",
       "      <td>0.45</td>\n",
       "      <td>0.47</td>\n",
       "      <td>0.47</td>\n",
       "      <td>0.47</td>\n",
       "      <td>NaN</td>\n",
       "      <td>0.50</td>\n",
       "      <td>0.45</td>\n",
       "      <td>0.41</td>\n",
       "      <td>0.43</td>\n",
       "      <td>...</td>\n",
       "      <td>NaN</td>\n",
       "      <td>0.61</td>\n",
       "      <td>0.79</td>\n",
       "      <td>0.40</td>\n",
       "      <td>0.42</td>\n",
       "      <td>0.42</td>\n",
       "      <td>0.42</td>\n",
       "      <td>NaN</td>\n",
       "      <td>0.46</td>\n",
       "      <td>0.40</td>\n",
       "    </tr>\n",
       "    <tr>\n",
       "      <th>5</th>\n",
       "      <td>german_credit</td>\n",
       "      <td>0.00</td>\n",
       "      <td>0.50</td>\n",
       "      <td>0.29</td>\n",
       "      <td>0.19</td>\n",
       "      <td>0.00</td>\n",
       "      <td>0.07</td>\n",
       "      <td>0.45</td>\n",
       "      <td>0.00</td>\n",
       "      <td>0.49</td>\n",
       "      <td>...</td>\n",
       "      <td>1.00</td>\n",
       "      <td>0.42</td>\n",
       "      <td>0.51</td>\n",
       "      <td>0.00</td>\n",
       "      <td>0.32</td>\n",
       "      <td>0.19</td>\n",
       "      <td>0.10</td>\n",
       "      <td>0.00</td>\n",
       "      <td>0.03</td>\n",
       "      <td>0.28</td>\n",
       "    </tr>\n",
       "    <tr>\n",
       "      <th>6</th>\n",
       "      <td>bank_marketing</td>\n",
       "      <td>0.44</td>\n",
       "      <td>0.50</td>\n",
       "      <td>0.41</td>\n",
       "      <td>0.37</td>\n",
       "      <td>0.26</td>\n",
       "      <td>0.54</td>\n",
       "      <td>0.56</td>\n",
       "      <td>0.40</td>\n",
       "      <td>0.48</td>\n",
       "      <td>...</td>\n",
       "      <td>0.57</td>\n",
       "      <td>0.59</td>\n",
       "      <td>0.59</td>\n",
       "      <td>0.38</td>\n",
       "      <td>0.43</td>\n",
       "      <td>0.35</td>\n",
       "      <td>0.31</td>\n",
       "      <td>0.21</td>\n",
       "      <td>0.48</td>\n",
       "      <td>0.50</td>\n",
       "    </tr>\n",
       "    <tr>\n",
       "      <th>7</th>\n",
       "      <td>compas</td>\n",
       "      <td>0.00</td>\n",
       "      <td>0.55</td>\n",
       "      <td>0.57</td>\n",
       "      <td>0.49</td>\n",
       "      <td>0.53</td>\n",
       "      <td>0.60</td>\n",
       "      <td>0.61</td>\n",
       "      <td>0.00</td>\n",
       "      <td>0.53</td>\n",
       "      <td>...</td>\n",
       "      <td>0.64</td>\n",
       "      <td>0.62</td>\n",
       "      <td>0.63</td>\n",
       "      <td>0.00</td>\n",
       "      <td>0.30</td>\n",
       "      <td>0.30</td>\n",
       "      <td>0.25</td>\n",
       "      <td>0.28</td>\n",
       "      <td>0.30</td>\n",
       "      <td>0.32</td>\n",
       "    </tr>\n",
       "    <tr>\n",
       "      <th>8</th>\n",
       "      <td>heloc</td>\n",
       "      <td>0.70</td>\n",
       "      <td>0.71</td>\n",
       "      <td>0.67</td>\n",
       "      <td>0.62</td>\n",
       "      <td>0.64</td>\n",
       "      <td>0.65</td>\n",
       "      <td>0.66</td>\n",
       "      <td>0.71</td>\n",
       "      <td>0.71</td>\n",
       "      <td>...</td>\n",
       "      <td>0.71</td>\n",
       "      <td>0.70</td>\n",
       "      <td>0.69</td>\n",
       "      <td>0.39</td>\n",
       "      <td>0.41</td>\n",
       "      <td>0.41</td>\n",
       "      <td>0.40</td>\n",
       "      <td>0.39</td>\n",
       "      <td>0.39</td>\n",
       "      <td>0.38</td>\n",
       "    </tr>\n",
       "    <tr>\n",
       "      <th>9</th>\n",
       "      <td>adult</td>\n",
       "      <td>0.56</td>\n",
       "      <td>0.30</td>\n",
       "      <td>0.43</td>\n",
       "      <td>0.32</td>\n",
       "      <td>0.73</td>\n",
       "      <td>0.71</td>\n",
       "      <td>0.69</td>\n",
       "      <td>0.53</td>\n",
       "      <td>0.25</td>\n",
       "      <td>...</td>\n",
       "      <td>0.44</td>\n",
       "      <td>0.51</td>\n",
       "      <td>0.76</td>\n",
       "      <td>0.47</td>\n",
       "      <td>0.25</td>\n",
       "      <td>0.35</td>\n",
       "      <td>0.26</td>\n",
       "      <td>0.53</td>\n",
       "      <td>0.56</td>\n",
       "      <td>0.61</td>\n",
       "    </tr>\n",
       "    <tr>\n",
       "      <th>10</th>\n",
       "      <td>telco_churn_2</td>\n",
       "      <td>0.69</td>\n",
       "      <td>0.66</td>\n",
       "      <td>0.69</td>\n",
       "      <td>0.72</td>\n",
       "      <td>0.48</td>\n",
       "      <td>0.74</td>\n",
       "      <td>0.72</td>\n",
       "      <td>0.67</td>\n",
       "      <td>0.64</td>\n",
       "      <td>...</td>\n",
       "      <td>0.78</td>\n",
       "      <td>0.71</td>\n",
       "      <td>0.77</td>\n",
       "      <td>0.45</td>\n",
       "      <td>0.43</td>\n",
       "      <td>0.45</td>\n",
       "      <td>0.43</td>\n",
       "      <td>0.31</td>\n",
       "      <td>0.42</td>\n",
       "      <td>0.48</td>\n",
       "    </tr>\n",
       "    <tr>\n",
       "      <th>11</th>\n",
       "      <td>telco_churn</td>\n",
       "      <td>0.74</td>\n",
       "      <td>0.55</td>\n",
       "      <td>0.65</td>\n",
       "      <td>0.41</td>\n",
       "      <td>0.56</td>\n",
       "      <td>0.47</td>\n",
       "      <td>0.77</td>\n",
       "      <td>0.71</td>\n",
       "      <td>0.51</td>\n",
       "      <td>...</td>\n",
       "      <td>0.79</td>\n",
       "      <td>0.94</td>\n",
       "      <td>0.89</td>\n",
       "      <td>0.70</td>\n",
       "      <td>0.49</td>\n",
       "      <td>0.60</td>\n",
       "      <td>0.35</td>\n",
       "      <td>0.49</td>\n",
       "      <td>0.42</td>\n",
       "      <td>0.73</td>\n",
       "    </tr>\n",
       "    <tr>\n",
       "      <th>12</th>\n",
       "      <td>house</td>\n",
       "      <td>0.71</td>\n",
       "      <td>0.67</td>\n",
       "      <td>0.64</td>\n",
       "      <td>0.56</td>\n",
       "      <td>0.74</td>\n",
       "      <td>NaN</td>\n",
       "      <td>0.79</td>\n",
       "      <td>0.69</td>\n",
       "      <td>0.66</td>\n",
       "      <td>...</td>\n",
       "      <td>0.66</td>\n",
       "      <td>NaN</td>\n",
       "      <td>0.83</td>\n",
       "      <td>0.63</td>\n",
       "      <td>0.55</td>\n",
       "      <td>0.54</td>\n",
       "      <td>0.44</td>\n",
       "      <td>0.60</td>\n",
       "      <td>NaN</td>\n",
       "      <td>0.71</td>\n",
       "    </tr>\n",
       "    <tr>\n",
       "      <th>13</th>\n",
       "      <td>boston</td>\n",
       "      <td>0.80</td>\n",
       "      <td>0.77</td>\n",
       "      <td>0.77</td>\n",
       "      <td>0.81</td>\n",
       "      <td>0.87</td>\n",
       "      <td>0.76</td>\n",
       "      <td>0.84</td>\n",
       "      <td>0.80</td>\n",
       "      <td>0.74</td>\n",
       "      <td>...</td>\n",
       "      <td>0.88</td>\n",
       "      <td>0.98</td>\n",
       "      <td>0.90</td>\n",
       "      <td>0.66</td>\n",
       "      <td>0.69</td>\n",
       "      <td>0.70</td>\n",
       "      <td>0.71</td>\n",
       "      <td>0.77</td>\n",
       "      <td>0.71</td>\n",
       "      <td>0.75</td>\n",
       "    </tr>\n",
       "    <tr>\n",
       "      <th>14</th>\n",
       "      <td>fraud_detection</td>\n",
       "      <td>0.79</td>\n",
       "      <td>0.77</td>\n",
       "      <td>0.00</td>\n",
       "      <td>0.00</td>\n",
       "      <td>0.00</td>\n",
       "      <td>NaN</td>\n",
       "      <td>0.85</td>\n",
       "      <td>0.76</td>\n",
       "      <td>0.75</td>\n",
       "      <td>...</td>\n",
       "      <td>1.00</td>\n",
       "      <td>NaN</td>\n",
       "      <td>0.96</td>\n",
       "      <td>0.76</td>\n",
       "      <td>0.75</td>\n",
       "      <td>0.00</td>\n",
       "      <td>0.00</td>\n",
       "      <td>0.00</td>\n",
       "      <td>NaN</td>\n",
       "      <td>0.83</td>\n",
       "    </tr>\n",
       "    <tr>\n",
       "      <th>15</th>\n",
       "      <td>electricity</td>\n",
       "      <td>0.77</td>\n",
       "      <td>0.60</td>\n",
       "      <td>0.63</td>\n",
       "      <td>0.60</td>\n",
       "      <td>0.64</td>\n",
       "      <td>NaN</td>\n",
       "      <td>0.89</td>\n",
       "      <td>0.75</td>\n",
       "      <td>0.56</td>\n",
       "      <td>...</td>\n",
       "      <td>0.80</td>\n",
       "      <td>NaN</td>\n",
       "      <td>0.90</td>\n",
       "      <td>0.67</td>\n",
       "      <td>0.47</td>\n",
       "      <td>0.49</td>\n",
       "      <td>0.47</td>\n",
       "      <td>0.49</td>\n",
       "      <td>NaN</td>\n",
       "      <td>0.82</td>\n",
       "    </tr>\n",
       "    <tr>\n",
       "      <th>16</th>\n",
       "      <td>bike_mean</td>\n",
       "      <td>0.91</td>\n",
       "      <td>0.91</td>\n",
       "      <td>0.91</td>\n",
       "      <td>0.83</td>\n",
       "      <td>0.71</td>\n",
       "      <td>0.77</td>\n",
       "      <td>0.92</td>\n",
       "      <td>0.93</td>\n",
       "      <td>0.94</td>\n",
       "      <td>...</td>\n",
       "      <td>0.63</td>\n",
       "      <td>0.78</td>\n",
       "      <td>0.92</td>\n",
       "      <td>0.80</td>\n",
       "      <td>0.80</td>\n",
       "      <td>0.80</td>\n",
       "      <td>0.69</td>\n",
       "      <td>0.44</td>\n",
       "      <td>0.62</td>\n",
       "      <td>0.86</td>\n",
       "    </tr>\n",
       "  </tbody>\n",
       "</table>\n",
       "<p>17 rows × 29 columns</p>\n",
       "</div>"
      ],
      "text/plain": [
       "           data_set  NATIVE-RIPPER_f2  LENC-CART:4_f2  TREES-BRCG_f2  \\\n",
       "0      orange_churn              0.00            0.02           0.00   \n",
       "1           bike_75              0.26            0.34           0.00   \n",
       "2      fraud_oracle              0.00            0.06           0.00   \n",
       "3     taiwan_credit              0.38            0.34           0.35   \n",
       "4         orange_up              0.45            0.47           0.47   \n",
       "5     german_credit              0.00            0.50           0.29   \n",
       "6    bank_marketing              0.44            0.50           0.41   \n",
       "7            compas              0.00            0.55           0.57   \n",
       "8             heloc              0.70            0.71           0.67   \n",
       "9             adult              0.56            0.30           0.43   \n",
       "10    telco_churn_2              0.69            0.66           0.69   \n",
       "11      telco_churn              0.74            0.55           0.65   \n",
       "12            house              0.71            0.67           0.64   \n",
       "13           boston              0.80            0.77           0.77   \n",
       "14  fraud_detection              0.79            0.77           0.00   \n",
       "15      electricity              0.77            0.60           0.63   \n",
       "16        bike_mean              0.91            0.91           0.91   \n",
       "\n",
       "    TREES-CORELS_f2  NATIVE-R2N_f2  BRSPREP-BRS_f2  LENC-XGB_f2  \\\n",
       "0              0.00            NaN            0.00         0.04   \n",
       "1              0.00           0.00            0.00         0.16   \n",
       "2              0.00           0.00            0.42         0.38   \n",
       "3              0.35           0.35            0.43         0.39   \n",
       "4              0.47            NaN            0.50         0.45   \n",
       "5              0.19           0.00            0.07         0.45   \n",
       "6              0.37           0.26            0.54         0.56   \n",
       "7              0.49           0.53            0.60         0.61   \n",
       "8              0.62           0.64            0.65         0.66   \n",
       "9              0.32           0.73            0.71         0.69   \n",
       "10             0.72           0.48            0.74         0.72   \n",
       "11             0.41           0.56            0.47         0.77   \n",
       "12             0.56           0.74             NaN         0.79   \n",
       "13             0.81           0.87            0.76         0.84   \n",
       "14             0.00           0.00             NaN         0.85   \n",
       "15             0.60           0.64             NaN         0.89   \n",
       "16             0.83           0.71            0.77         0.92   \n",
       "\n",
       "    NATIVE-RIPPER_recall  LENC-CART:4_recall  ...  NATIVE-R2N_precision  \\\n",
       "0                   0.00                0.02  ...                   NaN   \n",
       "1                   0.24                0.33  ...                  1.00   \n",
       "2                   0.00                0.05  ...                  1.00   \n",
       "3                   0.34                0.30  ...                  0.72   \n",
       "4                   0.41                0.43  ...                   NaN   \n",
       "5                   0.00                0.49  ...                  1.00   \n",
       "6                   0.40                0.48  ...                  0.57   \n",
       "7                   0.00                0.53  ...                  0.64   \n",
       "8                   0.71                0.71  ...                  0.71   \n",
       "9                   0.53                0.25  ...                  0.44   \n",
       "10                  0.67                0.64  ...                  0.78   \n",
       "11                  0.71                0.51  ...                  0.79   \n",
       "12                  0.69                0.66  ...                  0.66   \n",
       "13                  0.80                0.74  ...                  0.88   \n",
       "14                  0.76                0.75  ...                  1.00   \n",
       "15                  0.75                0.56  ...                  0.80   \n",
       "16                  0.93                0.94  ...                  0.63   \n",
       "\n",
       "    BRSPREP-BRS_precision  LENC-XGB_precision  NATIVE-RIPPER_adj_bal_acc  \\\n",
       "0                    1.00                0.50                       0.00   \n",
       "1                    1.00                0.38                       0.24   \n",
       "2                    0.13                0.78                       0.00   \n",
       "3                    0.64                0.64                       0.29   \n",
       "4                    0.61                0.79                       0.40   \n",
       "5                    0.42                0.51                       0.00   \n",
       "6                    0.59                0.59                       0.38   \n",
       "7                    0.62                0.63                       0.00   \n",
       "8                    0.70                0.69                       0.39   \n",
       "9                    0.51                0.76                       0.47   \n",
       "10                   0.71                0.77                       0.45   \n",
       "11                   0.94                0.89                       0.70   \n",
       "12                    NaN                0.83                       0.63   \n",
       "13                   0.98                0.90                       0.66   \n",
       "14                    NaN                0.96                       0.76   \n",
       "15                    NaN                0.90                       0.67   \n",
       "16                   0.78                0.92                       0.80   \n",
       "\n",
       "    LENC-CART:4_adj_bal_acc  TREES-BRCG_adj_bal_acc  TREES-CORELS_adj_bal_acc  \\\n",
       "0                      0.02                    0.00                      0.00   \n",
       "1                      0.33                    0.00                      0.00   \n",
       "2                      0.05                    0.00                      0.00   \n",
       "3                      0.27                    0.27                      0.27   \n",
       "4                      0.42                    0.42                      0.42   \n",
       "5                      0.32                    0.19                      0.10   \n",
       "6                      0.43                    0.35                      0.31   \n",
       "7                      0.30                    0.30                      0.25   \n",
       "8                      0.41                    0.41                      0.40   \n",
       "9                      0.25                    0.35                      0.26   \n",
       "10                     0.43                    0.45                      0.43   \n",
       "11                     0.49                    0.60                      0.35   \n",
       "12                     0.55                    0.54                      0.44   \n",
       "13                     0.69                    0.70                      0.71   \n",
       "14                     0.75                    0.00                      0.00   \n",
       "15                     0.47                    0.49                      0.47   \n",
       "16                     0.80                    0.80                      0.69   \n",
       "\n",
       "    NATIVE-R2N_adj_bal_acc  BRSPREP-BRS_adj_bal_acc  LENC-XGB_adj_bal_acc  \n",
       "0                      NaN                     0.00                  0.03  \n",
       "1                     0.00                     0.00                  0.14  \n",
       "2                     0.00                     0.56                  0.33  \n",
       "3                     0.27                     0.33                  0.29  \n",
       "4                      NaN                     0.46                  0.40  \n",
       "5                     0.00                     0.03                  0.28  \n",
       "6                     0.21                     0.48                  0.50  \n",
       "7                     0.28                     0.30                  0.32  \n",
       "8                     0.39                     0.39                  0.38  \n",
       "9                     0.53                     0.56                  0.61  \n",
       "10                    0.31                     0.42                  0.48  \n",
       "11                    0.49                     0.42                  0.73  \n",
       "12                    0.60                      NaN                  0.71  \n",
       "13                    0.77                     0.71                  0.75  \n",
       "14                    0.00                      NaN                  0.83  \n",
       "15                    0.49                      NaN                  0.82  \n",
       "16                    0.44                     0.62                  0.86  \n",
       "\n",
       "[17 rows x 29 columns]"
      ]
     },
     "execution_count": 87,
     "metadata": {},
     "output_type": "execute_result"
    }
   ],
   "source": [
    "trans_map = {\n",
    "    'LENC-XGB': 'xgb/',\n",
    "    'NATIVE-RIPPER': 'rip/',\n",
    "    'TREES-BRCG': 'brcg/',\n",
    "    'TREES-CORELS': 'cor/',\n",
    "    'NATIVE-R2N': 'r2n/',\n",
    "    '\\_f2': 'f2',\n",
    "    '\\_recall': 're',\n",
    "    '\\_precision': 'pr',\n",
    "    '\\_adj\\_bal\\_acc': 'ba',\n",
    "    '\\_acc': 'acc',\n",
    "    '\\_nof\\_rules': 'nor',\n",
    "    '\\_sum\\_preds': 'sop'\n",
    "}\n",
    "\n",
    "# Create table\n",
    "pipelines = DEFAULT_PIPELINES\n",
    "metrics = ['f2', 'recall', 'precision', 'adj_bal_acc']  # 'f', 'acc'\n",
    "cols = ['data_set'] + [p+'_'+m for m in metrics for p in pipelines]\n",
    "df = df_core_suite[cols]\n",
    "df = df.sort_values('LENC-XGB_f2', ignore_index=True)\n",
    "# latex_table = df.to_latex(index=False, longtable=True)\n",
    "# for x in trans_map:\n",
    "#         latex_table = latex_table.replace(x, trans_map[x])\n",
    "# # print(latex_table)\n",
    "df"
   ]
  },
  {
   "attachments": {},
   "cell_type": "markdown",
   "metadata": {},
   "source": [
    "### Performance of rule induction vs. XGBoost"
   ]
  },
  {
   "cell_type": "code",
   "execution_count": null,
   "metadata": {},
   "outputs": [],
   "source": [
    "main_metric = 'f'\n",
    "sorted_df = df_core_suite.sort_values('LENC-XGB_'+main_metric, ignore_index=True)\n",
    "single_chart(pipelines=['LENC-XGB', 'NATIVE-CONST', 'maxRI', 'maxRI50', 'maxRI25', 'maxRI10', 'maxRI5'], metric=main_metric, df=sorted_df, df_long_name='core suite')"
   ]
  },
  {
   "cell_type": "code",
   "execution_count": null,
   "metadata": {},
   "outputs": [],
   "source": [
    "sorted_df = df_core_suite.sort_values('LENC-XGB_adj_bal_acc', ignore_index=True)\n",
    "single_chart(pipelines=['LENC-XGB', 'NATIVE-CONST', 'maxRI', 'maxRI50', 'maxRI25', 'maxRI10', 'maxRI5'], metric='adj_bal_acc', df=sorted_df, df_long_name='core suite')"
   ]
  },
  {
   "cell_type": "code",
   "execution_count": null,
   "metadata": {},
   "outputs": [],
   "source": [
    "sorted_df = df_core_suite.sort_values('LENC-XGB_f2', ignore_index=True)\n",
    "single_chart(pipelines=['LENC-XGB', 'NATIVE-CONST', 'maxRI', 'maxRI50', 'maxRI25', 'maxRI10', 'maxRI5'], metric='f2', df=sorted_df, df_long_name='core suite')"
   ]
  },
  {
   "attachments": {},
   "cell_type": "markdown",
   "metadata": {},
   "source": [
    "### Pipelines with standard settings on core suite"
   ]
  },
  {
   "cell_type": "code",
   "execution_count": null,
   "metadata": {},
   "outputs": [],
   "source": [
    "perf_metric = 'acc'\n",
    "sorted_df = df_core_suite.sort_values('LENC-XGB_'+perf_metric, ignore_index=True)\n",
    "triple_chart(pipelines=DEFAULT_RI_PIPELINES, performance_metric=perf_metric, complexity_metric='nof_rules', df=sorted_df, df_long_name='core suite')"
   ]
  },
  {
   "cell_type": "code",
   "execution_count": null,
   "metadata": {},
   "outputs": [],
   "source": [
    "main_metric = 'recall'\n",
    "sorted_df = df_core_suite.sort_values('LENC-XGB_'+main_metric, ignore_index=True)\n",
    "quad_chart(pipelines=DEFAULT_RI_PIPELINES, performance_metric_1=main_metric, performance_metric_2='precision', complexity_metric='nof_rules', df=sorted_df, df_long_name='core suite')"
   ]
  },
  {
   "cell_type": "code",
   "execution_count": null,
   "metadata": {},
   "outputs": [],
   "source": [
    "perf_metric = 'f2'\n",
    "sorted_df = df_core_suite.sort_values('LENC-XGB_'+perf_metric, ignore_index=True)\n",
    "triple_chart(pipelines=DEFAULT_RI_PIPELINES, performance_metric=perf_metric, complexity_metric='nof_rules', df=sorted_df, df_long_name='core suite')"
   ]
  },
  {
   "cell_type": "code",
   "execution_count": null,
   "metadata": {},
   "outputs": [],
   "source": [
    "perf_metric = 'adj_bal_acc'\n",
    "sorted_df = df_core_suite.sort_values('LENC-XGB_'+perf_metric, ignore_index=True)\n",
    "triple_chart(pipelines=DEFAULT_RI_PIPELINES, performance_metric=perf_metric, complexity_metric='nof_rules', df=sorted_df, df_long_name='core suite')"
   ]
  },
  {
   "cell_type": "code",
   "execution_count": null,
   "metadata": {},
   "outputs": [],
   "source": [
    "perf_metric = 'f'\n",
    "sorted_df = df_core_suite.sort_values('LENC-XGB_'+perf_metric, ignore_index=True)\n",
    "triple_chart(pipelines=DEFAULT_RI_PIPELINES, performance_metric=perf_metric, complexity_metric='sum_preds', df=sorted_df, df_long_name='core suite')"
   ]
  },
  {
   "cell_type": "code",
   "execution_count": null,
   "metadata": {},
   "outputs": [],
   "source": [
    "perf_metric = 'f'\n",
    "sorted_df = df_core_suite.sort_values('LENC-XGB_'+perf_metric, ignore_index=True)\n",
    "triple_chart(pipelines=DEFAULT_RI_PIPELINES, performance_metric=perf_metric, complexity_metric='avg_preds', df=sorted_df, df_long_name='core suite')"
   ]
  },
  {
   "attachments": {},
   "cell_type": "markdown",
   "metadata": {},
   "source": [
    "## Pipelines with non-standard configurations on core suite"
   ]
  },
  {
   "attachments": {},
   "cell_type": "markdown",
   "metadata": {},
   "source": [
    "### Overview: All pipelines"
   ]
  },
  {
   "cell_type": "code",
   "execution_count": null,
   "metadata": {},
   "outputs": [],
   "source": [
    "perf_metric = 'f'\n",
    "sorted_df = df_core_suite.sort_values('LENC-XGB_'+perf_metric, ignore_index=True)\n",
    "triple_chart(pipelines=ALL_RI_PIPELINES, performance_metric=perf_metric, complexity_metric='nof_rules', df=sorted_df, df_long_name='core suite')"
   ]
  },
  {
   "attachments": {},
   "cell_type": "markdown",
   "metadata": {},
   "source": [
    "### CART"
   ]
  },
  {
   "cell_type": "code",
   "execution_count": null,
   "metadata": {},
   "outputs": [],
   "source": [
    "perf_metric = 'f'\n",
    "sorted_df = df_core_suite.sort_values('LENC-XGB_'+perf_metric, ignore_index=True)\n",
    "triple_chart(pipelines=CART_PIPELINES, performance_metric=perf_metric, complexity_metric='nof_rules', df=sorted_df, df_long_name='core suite')\n",
    "# dual_chart(pipelines=CART_PIPELINES, performance_metric=perf_metric, complexity_metric='nof_rules', df=sorted_df, df_long_name='core suite')"
   ]
  },
  {
   "attachments": {},
   "cell_type": "markdown",
   "metadata": {},
   "source": [
    "### BRCG"
   ]
  },
  {
   "cell_type": "code",
   "execution_count": null,
   "metadata": {},
   "outputs": [],
   "source": [
    "perf_metric = 'f'\n",
    "sorted_df = df_core_suite.sort_values('LENC-XGB_'+perf_metric, ignore_index=True)\n",
    "triple_chart(pipelines=BRCG_PIPELINES, performance_metric=perf_metric, complexity_metric='nof_rules', df=sorted_df, df_long_name='core suite')"
   ]
  },
  {
   "attachments": {},
   "cell_type": "markdown",
   "metadata": {},
   "source": [
    "### CORELS"
   ]
  },
  {
   "cell_type": "code",
   "execution_count": null,
   "metadata": {},
   "outputs": [],
   "source": [
    "perf_metric = 'f'\n",
    "sorted_df = df_core_suite.sort_values('LENC-XGB_'+perf_metric, ignore_index=True)\n",
    "triple_chart(pipelines=CORELS_PIPELINES, performance_metric=perf_metric, complexity_metric='nof_rules', df=sorted_df, df_long_name='core suite')"
   ]
  },
  {
   "attachments": {},
   "cell_type": "markdown",
   "metadata": {},
   "source": [
    "### RIPPER"
   ]
  },
  {
   "cell_type": "code",
   "execution_count": null,
   "metadata": {},
   "outputs": [],
   "source": [
    "perf_metric = 'f'\n",
    "sorted_df = df_core_suite.sort_values('LENC-XGB_'+perf_metric, ignore_index=True)\n",
    "triple_chart(pipelines=RIPPER_PIPELINES, performance_metric=perf_metric, complexity_metric='nof_rules', df=sorted_df, df_long_name='core suite')"
   ]
  },
  {
   "attachments": {},
   "cell_type": "markdown",
   "metadata": {},
   "source": [
    "### Base Performance"
   ]
  },
  {
   "cell_type": "code",
   "execution_count": 71,
   "metadata": {},
   "outputs": [
    {
     "data": {
      "application/vnd.plotly.v1+json": {
       "config": {
        "plotlyServerURL": "https://plot.ly"
       },
       "data": [
        {
         "line": {
          "color": "gray",
          "dash": "solid",
          "width": 2
         },
         "marker": {
          "symbol": "circle"
         },
         "mode": "markers+lines",
         "name": "LENC-XGB",
         "showlegend": true,
         "type": "scatter",
         "x": [
          "orange_churn",
          "bike_75",
          "taiwan_credit",
          "fraud_oracle",
          "german_credit",
          "orange_up",
          "bank_marketing",
          "compas",
          "heloc",
          "adult",
          "telco_churn_2",
          "telco_churn",
          "house",
          "boston",
          "fraud_detection",
          "electricity",
          "bike_mean"
         ],
         "xaxis": "x4",
         "y": [
          0.04,
          0.16,
          0.39,
          0.38,
          0.45,
          0.45,
          0.56,
          0.61,
          0.66,
          0.69,
          0.72,
          0.77,
          0.79,
          0.84,
          0.85,
          0.89,
          0.92
         ],
         "yaxis": "y4"
        },
        {
         "line": {
          "color": "darkkhaki",
          "dash": "solid",
          "width": 2
         },
         "marker": {
          "symbol": "cross"
         },
         "mode": "markers+lines",
         "name": "NATIVE-CONST",
         "showlegend": true,
         "type": "scatter",
         "x": [
          "orange_churn",
          "bike_75",
          "taiwan_credit",
          "fraud_oracle",
          "german_credit",
          "orange_up",
          "bank_marketing",
          "compas",
          "heloc",
          "adult",
          "telco_churn_2",
          "telco_churn",
          "house",
          "boston",
          "fraud_detection",
          "electricity",
          "bike_mean"
         ],
         "xaxis": "x4",
         "y": [
          0.29,
          0.04,
          0.59,
          0.23,
          0.66,
          0.29,
          0.39,
          0.8,
          0.82,
          0.61,
          0.84,
          0.46,
          0.68,
          0.81,
          0.01,
          0.79,
          0.77
         ],
         "yaxis": "y4"
        },
        {
         "line": {
          "color": "magenta",
          "dash": "solid",
          "width": 2
         },
         "marker": {
          "symbol": "cross"
         },
         "mode": "markers+lines",
         "name": "NATIVE-CONST2",
         "showlegend": true,
         "type": "scatter",
         "x": [
          "orange_churn",
          "bike_75",
          "taiwan_credit",
          "fraud_oracle",
          "german_credit",
          "orange_up",
          "bank_marketing",
          "compas",
          "heloc",
          "adult",
          "telco_churn_2",
          "telco_churn",
          "house",
          "boston",
          "fraud_detection",
          "electricity",
          "bike_mean"
         ],
         "xaxis": "x4",
         "y": [
          0,
          0,
          0,
          0,
          0,
          0,
          0,
          0,
          0,
          0,
          0,
          0,
          0,
          0,
          0,
          0,
          0
         ],
         "yaxis": "y4"
        },
        {
         "line": {
          "color": "gray",
          "dash": "solid",
          "width": 2
         },
         "marker": {
          "symbol": "circle"
         },
         "mode": "markers+lines",
         "name": "LENC-XGB",
         "showlegend": false,
         "type": "scatter",
         "x": [
          "orange_churn",
          "bike_75",
          "taiwan_credit",
          "fraud_oracle",
          "german_credit",
          "orange_up",
          "bank_marketing",
          "compas",
          "heloc",
          "adult",
          "telco_churn_2",
          "telco_churn",
          "house",
          "boston",
          "fraud_detection",
          "electricity",
          "bike_mean"
         ],
         "xaxis": "x3",
         "y": [
          0.07,
          0.21,
          0.45,
          0.47,
          0.47,
          0.54,
          0.57,
          0.62,
          0.67,
          0.71,
          0.73,
          0.81,
          0.81,
          0.86,
          0.89,
          0.9,
          0.92
         ],
         "yaxis": "y3"
        },
        {
         "line": {
          "color": "darkkhaki",
          "dash": "solid",
          "width": 2
         },
         "marker": {
          "symbol": "cross"
         },
         "mode": "markers+lines",
         "name": "NATIVE-CONST",
         "showlegend": false,
         "type": "scatter",
         "x": [
          "orange_churn",
          "bike_75",
          "taiwan_credit",
          "fraud_oracle",
          "german_credit",
          "orange_up",
          "bank_marketing",
          "compas",
          "heloc",
          "adult",
          "telco_churn_2",
          "telco_churn",
          "house",
          "boston",
          "fraud_detection",
          "electricity",
          "bike_mean"
         ],
         "xaxis": "x3",
         "y": [
          0.14,
          0.02,
          0.37,
          0.11,
          0.44,
          0.14,
          0.2,
          0.61,
          0.65,
          0.39,
          0.68,
          0.26,
          0.46,
          0.62,
          0,
          0.6,
          0.58
         ],
         "yaxis": "y3"
        },
        {
         "line": {
          "color": "magenta",
          "dash": "solid",
          "width": 2
         },
         "marker": {
          "symbol": "cross"
         },
         "mode": "markers+lines",
         "name": "NATIVE-CONST2",
         "showlegend": false,
         "type": "scatter",
         "x": [
          "orange_churn",
          "bike_75",
          "taiwan_credit",
          "fraud_oracle",
          "german_credit",
          "orange_up",
          "bank_marketing",
          "compas",
          "heloc",
          "adult",
          "telco_churn_2",
          "telco_churn",
          "house",
          "boston",
          "fraud_detection",
          "electricity",
          "bike_mean"
         ],
         "xaxis": "x3",
         "y": [
          0,
          0,
          0,
          0,
          0,
          0,
          0,
          0,
          0,
          0,
          0,
          0,
          0,
          0,
          0,
          0,
          0
         ],
         "yaxis": "y3"
        },
        {
         "line": {
          "color": "gray",
          "dash": "solid",
          "width": 2
         },
         "marker": {
          "symbol": "circle"
         },
         "mode": "markers+lines",
         "name": "LENC-XGB",
         "showlegend": false,
         "type": "scatter",
         "x": [
          "orange_churn",
          "bike_75",
          "taiwan_credit",
          "fraud_oracle",
          "german_credit",
          "orange_up",
          "bank_marketing",
          "compas",
          "heloc",
          "adult",
          "telco_churn_2",
          "telco_churn",
          "house",
          "boston",
          "fraud_detection",
          "electricity",
          "bike_mean"
         ],
         "xaxis": "x",
         "y": [
          3.52,
          1.15,
          1.8399999999999999,
          1.53,
          1.19,
          3.51,
          1.25,
          1.26,
          1.34,
          1.41,
          1.23,
          1.23,
          1.69,
          1.1,
          5.96,
          1.71,
          1.31
         ],
         "yaxis": "y"
        }
       ],
       "layout": {
        "height": 600,
        "plot_bgcolor": "whitesmoke",
        "template": {
         "data": {
          "bar": [
           {
            "error_x": {
             "color": "#2a3f5f"
            },
            "error_y": {
             "color": "#2a3f5f"
            },
            "marker": {
             "line": {
              "color": "#E5ECF6",
              "width": 0.5
             },
             "pattern": {
              "fillmode": "overlay",
              "size": 10,
              "solidity": 0.2
             }
            },
            "type": "bar"
           }
          ],
          "barpolar": [
           {
            "marker": {
             "line": {
              "color": "#E5ECF6",
              "width": 0.5
             },
             "pattern": {
              "fillmode": "overlay",
              "size": 10,
              "solidity": 0.2
             }
            },
            "type": "barpolar"
           }
          ],
          "carpet": [
           {
            "aaxis": {
             "endlinecolor": "#2a3f5f",
             "gridcolor": "white",
             "linecolor": "white",
             "minorgridcolor": "white",
             "startlinecolor": "#2a3f5f"
            },
            "baxis": {
             "endlinecolor": "#2a3f5f",
             "gridcolor": "white",
             "linecolor": "white",
             "minorgridcolor": "white",
             "startlinecolor": "#2a3f5f"
            },
            "type": "carpet"
           }
          ],
          "choropleth": [
           {
            "colorbar": {
             "outlinewidth": 0,
             "ticks": ""
            },
            "type": "choropleth"
           }
          ],
          "contour": [
           {
            "colorbar": {
             "outlinewidth": 0,
             "ticks": ""
            },
            "colorscale": [
             [
              0,
              "#0d0887"
             ],
             [
              0.1111111111111111,
              "#46039f"
             ],
             [
              0.2222222222222222,
              "#7201a8"
             ],
             [
              0.3333333333333333,
              "#9c179e"
             ],
             [
              0.4444444444444444,
              "#bd3786"
             ],
             [
              0.5555555555555556,
              "#d8576b"
             ],
             [
              0.6666666666666666,
              "#ed7953"
             ],
             [
              0.7777777777777778,
              "#fb9f3a"
             ],
             [
              0.8888888888888888,
              "#fdca26"
             ],
             [
              1,
              "#f0f921"
             ]
            ],
            "type": "contour"
           }
          ],
          "contourcarpet": [
           {
            "colorbar": {
             "outlinewidth": 0,
             "ticks": ""
            },
            "type": "contourcarpet"
           }
          ],
          "heatmap": [
           {
            "colorbar": {
             "outlinewidth": 0,
             "ticks": ""
            },
            "colorscale": [
             [
              0,
              "#0d0887"
             ],
             [
              0.1111111111111111,
              "#46039f"
             ],
             [
              0.2222222222222222,
              "#7201a8"
             ],
             [
              0.3333333333333333,
              "#9c179e"
             ],
             [
              0.4444444444444444,
              "#bd3786"
             ],
             [
              0.5555555555555556,
              "#d8576b"
             ],
             [
              0.6666666666666666,
              "#ed7953"
             ],
             [
              0.7777777777777778,
              "#fb9f3a"
             ],
             [
              0.8888888888888888,
              "#fdca26"
             ],
             [
              1,
              "#f0f921"
             ]
            ],
            "type": "heatmap"
           }
          ],
          "heatmapgl": [
           {
            "colorbar": {
             "outlinewidth": 0,
             "ticks": ""
            },
            "colorscale": [
             [
              0,
              "#0d0887"
             ],
             [
              0.1111111111111111,
              "#46039f"
             ],
             [
              0.2222222222222222,
              "#7201a8"
             ],
             [
              0.3333333333333333,
              "#9c179e"
             ],
             [
              0.4444444444444444,
              "#bd3786"
             ],
             [
              0.5555555555555556,
              "#d8576b"
             ],
             [
              0.6666666666666666,
              "#ed7953"
             ],
             [
              0.7777777777777778,
              "#fb9f3a"
             ],
             [
              0.8888888888888888,
              "#fdca26"
             ],
             [
              1,
              "#f0f921"
             ]
            ],
            "type": "heatmapgl"
           }
          ],
          "histogram": [
           {
            "marker": {
             "pattern": {
              "fillmode": "overlay",
              "size": 10,
              "solidity": 0.2
             }
            },
            "type": "histogram"
           }
          ],
          "histogram2d": [
           {
            "colorbar": {
             "outlinewidth": 0,
             "ticks": ""
            },
            "colorscale": [
             [
              0,
              "#0d0887"
             ],
             [
              0.1111111111111111,
              "#46039f"
             ],
             [
              0.2222222222222222,
              "#7201a8"
             ],
             [
              0.3333333333333333,
              "#9c179e"
             ],
             [
              0.4444444444444444,
              "#bd3786"
             ],
             [
              0.5555555555555556,
              "#d8576b"
             ],
             [
              0.6666666666666666,
              "#ed7953"
             ],
             [
              0.7777777777777778,
              "#fb9f3a"
             ],
             [
              0.8888888888888888,
              "#fdca26"
             ],
             [
              1,
              "#f0f921"
             ]
            ],
            "type": "histogram2d"
           }
          ],
          "histogram2dcontour": [
           {
            "colorbar": {
             "outlinewidth": 0,
             "ticks": ""
            },
            "colorscale": [
             [
              0,
              "#0d0887"
             ],
             [
              0.1111111111111111,
              "#46039f"
             ],
             [
              0.2222222222222222,
              "#7201a8"
             ],
             [
              0.3333333333333333,
              "#9c179e"
             ],
             [
              0.4444444444444444,
              "#bd3786"
             ],
             [
              0.5555555555555556,
              "#d8576b"
             ],
             [
              0.6666666666666666,
              "#ed7953"
             ],
             [
              0.7777777777777778,
              "#fb9f3a"
             ],
             [
              0.8888888888888888,
              "#fdca26"
             ],
             [
              1,
              "#f0f921"
             ]
            ],
            "type": "histogram2dcontour"
           }
          ],
          "mesh3d": [
           {
            "colorbar": {
             "outlinewidth": 0,
             "ticks": ""
            },
            "type": "mesh3d"
           }
          ],
          "parcoords": [
           {
            "line": {
             "colorbar": {
              "outlinewidth": 0,
              "ticks": ""
             }
            },
            "type": "parcoords"
           }
          ],
          "pie": [
           {
            "automargin": true,
            "type": "pie"
           }
          ],
          "scatter": [
           {
            "fillpattern": {
             "fillmode": "overlay",
             "size": 10,
             "solidity": 0.2
            },
            "type": "scatter"
           }
          ],
          "scatter3d": [
           {
            "line": {
             "colorbar": {
              "outlinewidth": 0,
              "ticks": ""
             }
            },
            "marker": {
             "colorbar": {
              "outlinewidth": 0,
              "ticks": ""
             }
            },
            "type": "scatter3d"
           }
          ],
          "scattercarpet": [
           {
            "marker": {
             "colorbar": {
              "outlinewidth": 0,
              "ticks": ""
             }
            },
            "type": "scattercarpet"
           }
          ],
          "scattergeo": [
           {
            "marker": {
             "colorbar": {
              "outlinewidth": 0,
              "ticks": ""
             }
            },
            "type": "scattergeo"
           }
          ],
          "scattergl": [
           {
            "marker": {
             "colorbar": {
              "outlinewidth": 0,
              "ticks": ""
             }
            },
            "type": "scattergl"
           }
          ],
          "scattermapbox": [
           {
            "marker": {
             "colorbar": {
              "outlinewidth": 0,
              "ticks": ""
             }
            },
            "type": "scattermapbox"
           }
          ],
          "scatterpolar": [
           {
            "marker": {
             "colorbar": {
              "outlinewidth": 0,
              "ticks": ""
             }
            },
            "type": "scatterpolar"
           }
          ],
          "scatterpolargl": [
           {
            "marker": {
             "colorbar": {
              "outlinewidth": 0,
              "ticks": ""
             }
            },
            "type": "scatterpolargl"
           }
          ],
          "scatterternary": [
           {
            "marker": {
             "colorbar": {
              "outlinewidth": 0,
              "ticks": ""
             }
            },
            "type": "scatterternary"
           }
          ],
          "surface": [
           {
            "colorbar": {
             "outlinewidth": 0,
             "ticks": ""
            },
            "colorscale": [
             [
              0,
              "#0d0887"
             ],
             [
              0.1111111111111111,
              "#46039f"
             ],
             [
              0.2222222222222222,
              "#7201a8"
             ],
             [
              0.3333333333333333,
              "#9c179e"
             ],
             [
              0.4444444444444444,
              "#bd3786"
             ],
             [
              0.5555555555555556,
              "#d8576b"
             ],
             [
              0.6666666666666666,
              "#ed7953"
             ],
             [
              0.7777777777777778,
              "#fb9f3a"
             ],
             [
              0.8888888888888888,
              "#fdca26"
             ],
             [
              1,
              "#f0f921"
             ]
            ],
            "type": "surface"
           }
          ],
          "table": [
           {
            "cells": {
             "fill": {
              "color": "#EBF0F8"
             },
             "line": {
              "color": "white"
             }
            },
            "header": {
             "fill": {
              "color": "#C8D4E3"
             },
             "line": {
              "color": "white"
             }
            },
            "type": "table"
           }
          ]
         },
         "layout": {
          "annotationdefaults": {
           "arrowcolor": "#2a3f5f",
           "arrowhead": 0,
           "arrowwidth": 1
          },
          "autotypenumbers": "strict",
          "coloraxis": {
           "colorbar": {
            "outlinewidth": 0,
            "ticks": ""
           }
          },
          "colorscale": {
           "diverging": [
            [
             0,
             "#8e0152"
            ],
            [
             0.1,
             "#c51b7d"
            ],
            [
             0.2,
             "#de77ae"
            ],
            [
             0.3,
             "#f1b6da"
            ],
            [
             0.4,
             "#fde0ef"
            ],
            [
             0.5,
             "#f7f7f7"
            ],
            [
             0.6,
             "#e6f5d0"
            ],
            [
             0.7,
             "#b8e186"
            ],
            [
             0.8,
             "#7fbc41"
            ],
            [
             0.9,
             "#4d9221"
            ],
            [
             1,
             "#276419"
            ]
           ],
           "sequential": [
            [
             0,
             "#0d0887"
            ],
            [
             0.1111111111111111,
             "#46039f"
            ],
            [
             0.2222222222222222,
             "#7201a8"
            ],
            [
             0.3333333333333333,
             "#9c179e"
            ],
            [
             0.4444444444444444,
             "#bd3786"
            ],
            [
             0.5555555555555556,
             "#d8576b"
            ],
            [
             0.6666666666666666,
             "#ed7953"
            ],
            [
             0.7777777777777778,
             "#fb9f3a"
            ],
            [
             0.8888888888888888,
             "#fdca26"
            ],
            [
             1,
             "#f0f921"
            ]
           ],
           "sequentialminus": [
            [
             0,
             "#0d0887"
            ],
            [
             0.1111111111111111,
             "#46039f"
            ],
            [
             0.2222222222222222,
             "#7201a8"
            ],
            [
             0.3333333333333333,
             "#9c179e"
            ],
            [
             0.4444444444444444,
             "#bd3786"
            ],
            [
             0.5555555555555556,
             "#d8576b"
            ],
            [
             0.6666666666666666,
             "#ed7953"
            ],
            [
             0.7777777777777778,
             "#fb9f3a"
            ],
            [
             0.8888888888888888,
             "#fdca26"
            ],
            [
             1,
             "#f0f921"
            ]
           ]
          },
          "colorway": [
           "#636efa",
           "#EF553B",
           "#00cc96",
           "#ab63fa",
           "#FFA15A",
           "#19d3f3",
           "#FF6692",
           "#B6E880",
           "#FF97FF",
           "#FECB52"
          ],
          "font": {
           "color": "#2a3f5f"
          },
          "geo": {
           "bgcolor": "white",
           "lakecolor": "white",
           "landcolor": "#E5ECF6",
           "showlakes": true,
           "showland": true,
           "subunitcolor": "white"
          },
          "hoverlabel": {
           "align": "left"
          },
          "hovermode": "closest",
          "mapbox": {
           "style": "light"
          },
          "paper_bgcolor": "white",
          "plot_bgcolor": "#E5ECF6",
          "polar": {
           "angularaxis": {
            "gridcolor": "white",
            "linecolor": "white",
            "ticks": ""
           },
           "bgcolor": "#E5ECF6",
           "radialaxis": {
            "gridcolor": "white",
            "linecolor": "white",
            "ticks": ""
           }
          },
          "scene": {
           "xaxis": {
            "backgroundcolor": "#E5ECF6",
            "gridcolor": "white",
            "gridwidth": 2,
            "linecolor": "white",
            "showbackground": true,
            "ticks": "",
            "zerolinecolor": "white"
           },
           "yaxis": {
            "backgroundcolor": "#E5ECF6",
            "gridcolor": "white",
            "gridwidth": 2,
            "linecolor": "white",
            "showbackground": true,
            "ticks": "",
            "zerolinecolor": "white"
           },
           "zaxis": {
            "backgroundcolor": "#E5ECF6",
            "gridcolor": "white",
            "gridwidth": 2,
            "linecolor": "white",
            "showbackground": true,
            "ticks": "",
            "zerolinecolor": "white"
           }
          },
          "shapedefaults": {
           "line": {
            "color": "#2a3f5f"
           }
          },
          "ternary": {
           "aaxis": {
            "gridcolor": "white",
            "linecolor": "white",
            "ticks": ""
           },
           "baxis": {
            "gridcolor": "white",
            "linecolor": "white",
            "ticks": ""
           },
           "bgcolor": "#E5ECF6",
           "caxis": {
            "gridcolor": "white",
            "linecolor": "white",
            "ticks": ""
           }
          },
          "title": {
           "x": 0.05
          },
          "xaxis": {
           "automargin": true,
           "gridcolor": "white",
           "linecolor": "white",
           "ticks": "",
           "title": {
            "standoff": 15
           },
           "zerolinecolor": "white",
           "zerolinewidth": 2
          },
          "yaxis": {
           "automargin": true,
           "gridcolor": "white",
           "linecolor": "white",
           "ticks": "",
           "title": {
            "standoff": 15
           },
           "zerolinecolor": "white",
           "zerolinewidth": 2
          }
         }
        },
        "title": {
         "text": "f2-score, f-score, number of rules and training time on core suite"
        },
        "width": 1000,
        "xaxis": {
         "anchor": "y",
         "domain": [
          0,
          1
         ],
         "matches": "x4",
         "showticklabels": false
        },
        "xaxis2": {
         "anchor": "y2",
         "domain": [
          0,
          1
         ],
         "matches": "x4",
         "showticklabels": false
        },
        "xaxis3": {
         "anchor": "y3",
         "domain": [
          0,
          1
         ],
         "matches": "x4",
         "showticklabels": false
        },
        "xaxis4": {
         "anchor": "y4",
         "domain": [
          0,
          1
         ]
        },
        "yaxis": {
         "anchor": "x",
         "domain": [
          0.7875,
          1
         ],
         "title": {
          "text": "time (secs)"
         },
         "type": "log"
        },
        "yaxis2": {
         "anchor": "x2",
         "domain": [
          0.525,
          0.7375
         ],
         "title": {
          "text": "number of rules"
         },
         "type": "log"
        },
        "yaxis3": {
         "anchor": "x3",
         "domain": [
          0.2625,
          0.475
         ],
         "title": {
          "text": "f-score"
         }
        },
        "yaxis4": {
         "anchor": "x4",
         "domain": [
          0,
          0.2125
         ],
         "title": {
          "text": "f2-score"
         }
        }
       }
      },
      "text/html": [
       "<div>                            <div id=\"c0a4dce3-32c3-4593-80fa-33929f85dd23\" class=\"plotly-graph-div\" style=\"height:600px; width:1000px;\"></div>            <script type=\"text/javascript\">                require([\"plotly\"], function(Plotly) {                    window.PLOTLYENV=window.PLOTLYENV || {};                                    if (document.getElementById(\"c0a4dce3-32c3-4593-80fa-33929f85dd23\")) {                    Plotly.newPlot(                        \"c0a4dce3-32c3-4593-80fa-33929f85dd23\",                        [{\"line\":{\"color\":\"gray\",\"dash\":\"solid\",\"width\":2},\"marker\":{\"symbol\":\"circle\"},\"mode\":\"markers+lines\",\"name\":\"LENC-XGB\",\"showlegend\":true,\"x\":[\"orange_churn\",\"bike_75\",\"taiwan_credit\",\"fraud_oracle\",\"german_credit\",\"orange_up\",\"bank_marketing\",\"compas\",\"heloc\",\"adult\",\"telco_churn_2\",\"telco_churn\",\"house\",\"boston\",\"fraud_detection\",\"electricity\",\"bike_mean\"],\"y\":[0.04,0.16,0.39,0.38,0.45,0.45,0.56,0.61,0.66,0.69,0.72,0.77,0.79,0.84,0.85,0.89,0.92],\"type\":\"scatter\",\"xaxis\":\"x4\",\"yaxis\":\"y4\"},{\"line\":{\"color\":\"darkkhaki\",\"dash\":\"solid\",\"width\":2},\"marker\":{\"symbol\":\"cross\"},\"mode\":\"markers+lines\",\"name\":\"NATIVE-CONST\",\"showlegend\":true,\"x\":[\"orange_churn\",\"bike_75\",\"taiwan_credit\",\"fraud_oracle\",\"german_credit\",\"orange_up\",\"bank_marketing\",\"compas\",\"heloc\",\"adult\",\"telco_churn_2\",\"telco_churn\",\"house\",\"boston\",\"fraud_detection\",\"electricity\",\"bike_mean\"],\"y\":[0.29,0.04,0.59,0.23,0.66,0.29,0.39,0.8,0.82,0.61,0.84,0.46,0.68,0.81,0.01,0.79,0.77],\"type\":\"scatter\",\"xaxis\":\"x4\",\"yaxis\":\"y4\"},{\"line\":{\"color\":\"magenta\",\"dash\":\"solid\",\"width\":2},\"marker\":{\"symbol\":\"cross\"},\"mode\":\"markers+lines\",\"name\":\"NATIVE-CONST2\",\"showlegend\":true,\"x\":[\"orange_churn\",\"bike_75\",\"taiwan_credit\",\"fraud_oracle\",\"german_credit\",\"orange_up\",\"bank_marketing\",\"compas\",\"heloc\",\"adult\",\"telco_churn_2\",\"telco_churn\",\"house\",\"boston\",\"fraud_detection\",\"electricity\",\"bike_mean\"],\"y\":[0.0,0.0,0.0,0.0,0.0,0.0,0.0,0.0,0.0,0.0,0.0,0.0,0.0,0.0,0.0,0.0,0.0],\"type\":\"scatter\",\"xaxis\":\"x4\",\"yaxis\":\"y4\"},{\"line\":{\"color\":\"gray\",\"dash\":\"solid\",\"width\":2},\"marker\":{\"symbol\":\"circle\"},\"mode\":\"markers+lines\",\"name\":\"LENC-XGB\",\"showlegend\":false,\"x\":[\"orange_churn\",\"bike_75\",\"taiwan_credit\",\"fraud_oracle\",\"german_credit\",\"orange_up\",\"bank_marketing\",\"compas\",\"heloc\",\"adult\",\"telco_churn_2\",\"telco_churn\",\"house\",\"boston\",\"fraud_detection\",\"electricity\",\"bike_mean\"],\"y\":[0.07,0.21,0.45,0.47,0.47,0.54,0.57,0.62,0.67,0.71,0.73,0.81,0.81,0.86,0.89,0.9,0.92],\"type\":\"scatter\",\"xaxis\":\"x3\",\"yaxis\":\"y3\"},{\"line\":{\"color\":\"darkkhaki\",\"dash\":\"solid\",\"width\":2},\"marker\":{\"symbol\":\"cross\"},\"mode\":\"markers+lines\",\"name\":\"NATIVE-CONST\",\"showlegend\":false,\"x\":[\"orange_churn\",\"bike_75\",\"taiwan_credit\",\"fraud_oracle\",\"german_credit\",\"orange_up\",\"bank_marketing\",\"compas\",\"heloc\",\"adult\",\"telco_churn_2\",\"telco_churn\",\"house\",\"boston\",\"fraud_detection\",\"electricity\",\"bike_mean\"],\"y\":[0.14,0.02,0.37,0.11,0.44,0.14,0.2,0.61,0.65,0.39,0.68,0.26,0.46,0.62,0.0,0.6,0.58],\"type\":\"scatter\",\"xaxis\":\"x3\",\"yaxis\":\"y3\"},{\"line\":{\"color\":\"magenta\",\"dash\":\"solid\",\"width\":2},\"marker\":{\"symbol\":\"cross\"},\"mode\":\"markers+lines\",\"name\":\"NATIVE-CONST2\",\"showlegend\":false,\"x\":[\"orange_churn\",\"bike_75\",\"taiwan_credit\",\"fraud_oracle\",\"german_credit\",\"orange_up\",\"bank_marketing\",\"compas\",\"heloc\",\"adult\",\"telco_churn_2\",\"telco_churn\",\"house\",\"boston\",\"fraud_detection\",\"electricity\",\"bike_mean\"],\"y\":[0.0,0.0,0.0,0.0,0.0,0.0,0.0,0.0,0.0,0.0,0.0,0.0,0.0,0.0,0.0,0.0,0.0],\"type\":\"scatter\",\"xaxis\":\"x3\",\"yaxis\":\"y3\"},{\"line\":{\"color\":\"gray\",\"dash\":\"solid\",\"width\":2},\"marker\":{\"symbol\":\"circle\"},\"mode\":\"markers+lines\",\"name\":\"LENC-XGB\",\"showlegend\":false,\"x\":[\"orange_churn\",\"bike_75\",\"taiwan_credit\",\"fraud_oracle\",\"german_credit\",\"orange_up\",\"bank_marketing\",\"compas\",\"heloc\",\"adult\",\"telco_churn_2\",\"telco_churn\",\"house\",\"boston\",\"fraud_detection\",\"electricity\",\"bike_mean\"],\"y\":[3.52,1.15,1.8399999999999999,1.53,1.19,3.51,1.25,1.26,1.34,1.41,1.23,1.23,1.69,1.1,5.96,1.71,1.31],\"type\":\"scatter\",\"xaxis\":\"x\",\"yaxis\":\"y\"}],                        {\"template\":{\"data\":{\"histogram2dcontour\":[{\"type\":\"histogram2dcontour\",\"colorbar\":{\"outlinewidth\":0,\"ticks\":\"\"},\"colorscale\":[[0.0,\"#0d0887\"],[0.1111111111111111,\"#46039f\"],[0.2222222222222222,\"#7201a8\"],[0.3333333333333333,\"#9c179e\"],[0.4444444444444444,\"#bd3786\"],[0.5555555555555556,\"#d8576b\"],[0.6666666666666666,\"#ed7953\"],[0.7777777777777778,\"#fb9f3a\"],[0.8888888888888888,\"#fdca26\"],[1.0,\"#f0f921\"]]}],\"choropleth\":[{\"type\":\"choropleth\",\"colorbar\":{\"outlinewidth\":0,\"ticks\":\"\"}}],\"histogram2d\":[{\"type\":\"histogram2d\",\"colorbar\":{\"outlinewidth\":0,\"ticks\":\"\"},\"colorscale\":[[0.0,\"#0d0887\"],[0.1111111111111111,\"#46039f\"],[0.2222222222222222,\"#7201a8\"],[0.3333333333333333,\"#9c179e\"],[0.4444444444444444,\"#bd3786\"],[0.5555555555555556,\"#d8576b\"],[0.6666666666666666,\"#ed7953\"],[0.7777777777777778,\"#fb9f3a\"],[0.8888888888888888,\"#fdca26\"],[1.0,\"#f0f921\"]]}],\"heatmap\":[{\"type\":\"heatmap\",\"colorbar\":{\"outlinewidth\":0,\"ticks\":\"\"},\"colorscale\":[[0.0,\"#0d0887\"],[0.1111111111111111,\"#46039f\"],[0.2222222222222222,\"#7201a8\"],[0.3333333333333333,\"#9c179e\"],[0.4444444444444444,\"#bd3786\"],[0.5555555555555556,\"#d8576b\"],[0.6666666666666666,\"#ed7953\"],[0.7777777777777778,\"#fb9f3a\"],[0.8888888888888888,\"#fdca26\"],[1.0,\"#f0f921\"]]}],\"heatmapgl\":[{\"type\":\"heatmapgl\",\"colorbar\":{\"outlinewidth\":0,\"ticks\":\"\"},\"colorscale\":[[0.0,\"#0d0887\"],[0.1111111111111111,\"#46039f\"],[0.2222222222222222,\"#7201a8\"],[0.3333333333333333,\"#9c179e\"],[0.4444444444444444,\"#bd3786\"],[0.5555555555555556,\"#d8576b\"],[0.6666666666666666,\"#ed7953\"],[0.7777777777777778,\"#fb9f3a\"],[0.8888888888888888,\"#fdca26\"],[1.0,\"#f0f921\"]]}],\"contourcarpet\":[{\"type\":\"contourcarpet\",\"colorbar\":{\"outlinewidth\":0,\"ticks\":\"\"}}],\"contour\":[{\"type\":\"contour\",\"colorbar\":{\"outlinewidth\":0,\"ticks\":\"\"},\"colorscale\":[[0.0,\"#0d0887\"],[0.1111111111111111,\"#46039f\"],[0.2222222222222222,\"#7201a8\"],[0.3333333333333333,\"#9c179e\"],[0.4444444444444444,\"#bd3786\"],[0.5555555555555556,\"#d8576b\"],[0.6666666666666666,\"#ed7953\"],[0.7777777777777778,\"#fb9f3a\"],[0.8888888888888888,\"#fdca26\"],[1.0,\"#f0f921\"]]}],\"surface\":[{\"type\":\"surface\",\"colorbar\":{\"outlinewidth\":0,\"ticks\":\"\"},\"colorscale\":[[0.0,\"#0d0887\"],[0.1111111111111111,\"#46039f\"],[0.2222222222222222,\"#7201a8\"],[0.3333333333333333,\"#9c179e\"],[0.4444444444444444,\"#bd3786\"],[0.5555555555555556,\"#d8576b\"],[0.6666666666666666,\"#ed7953\"],[0.7777777777777778,\"#fb9f3a\"],[0.8888888888888888,\"#fdca26\"],[1.0,\"#f0f921\"]]}],\"mesh3d\":[{\"type\":\"mesh3d\",\"colorbar\":{\"outlinewidth\":0,\"ticks\":\"\"}}],\"scatter\":[{\"fillpattern\":{\"fillmode\":\"overlay\",\"size\":10,\"solidity\":0.2},\"type\":\"scatter\"}],\"parcoords\":[{\"type\":\"parcoords\",\"line\":{\"colorbar\":{\"outlinewidth\":0,\"ticks\":\"\"}}}],\"scatterpolargl\":[{\"type\":\"scatterpolargl\",\"marker\":{\"colorbar\":{\"outlinewidth\":0,\"ticks\":\"\"}}}],\"bar\":[{\"error_x\":{\"color\":\"#2a3f5f\"},\"error_y\":{\"color\":\"#2a3f5f\"},\"marker\":{\"line\":{\"color\":\"#E5ECF6\",\"width\":0.5},\"pattern\":{\"fillmode\":\"overlay\",\"size\":10,\"solidity\":0.2}},\"type\":\"bar\"}],\"scattergeo\":[{\"type\":\"scattergeo\",\"marker\":{\"colorbar\":{\"outlinewidth\":0,\"ticks\":\"\"}}}],\"scatterpolar\":[{\"type\":\"scatterpolar\",\"marker\":{\"colorbar\":{\"outlinewidth\":0,\"ticks\":\"\"}}}],\"histogram\":[{\"marker\":{\"pattern\":{\"fillmode\":\"overlay\",\"size\":10,\"solidity\":0.2}},\"type\":\"histogram\"}],\"scattergl\":[{\"type\":\"scattergl\",\"marker\":{\"colorbar\":{\"outlinewidth\":0,\"ticks\":\"\"}}}],\"scatter3d\":[{\"type\":\"scatter3d\",\"line\":{\"colorbar\":{\"outlinewidth\":0,\"ticks\":\"\"}},\"marker\":{\"colorbar\":{\"outlinewidth\":0,\"ticks\":\"\"}}}],\"scattermapbox\":[{\"type\":\"scattermapbox\",\"marker\":{\"colorbar\":{\"outlinewidth\":0,\"ticks\":\"\"}}}],\"scatterternary\":[{\"type\":\"scatterternary\",\"marker\":{\"colorbar\":{\"outlinewidth\":0,\"ticks\":\"\"}}}],\"scattercarpet\":[{\"type\":\"scattercarpet\",\"marker\":{\"colorbar\":{\"outlinewidth\":0,\"ticks\":\"\"}}}],\"carpet\":[{\"aaxis\":{\"endlinecolor\":\"#2a3f5f\",\"gridcolor\":\"white\",\"linecolor\":\"white\",\"minorgridcolor\":\"white\",\"startlinecolor\":\"#2a3f5f\"},\"baxis\":{\"endlinecolor\":\"#2a3f5f\",\"gridcolor\":\"white\",\"linecolor\":\"white\",\"minorgridcolor\":\"white\",\"startlinecolor\":\"#2a3f5f\"},\"type\":\"carpet\"}],\"table\":[{\"cells\":{\"fill\":{\"color\":\"#EBF0F8\"},\"line\":{\"color\":\"white\"}},\"header\":{\"fill\":{\"color\":\"#C8D4E3\"},\"line\":{\"color\":\"white\"}},\"type\":\"table\"}],\"barpolar\":[{\"marker\":{\"line\":{\"color\":\"#E5ECF6\",\"width\":0.5},\"pattern\":{\"fillmode\":\"overlay\",\"size\":10,\"solidity\":0.2}},\"type\":\"barpolar\"}],\"pie\":[{\"automargin\":true,\"type\":\"pie\"}]},\"layout\":{\"autotypenumbers\":\"strict\",\"colorway\":[\"#636efa\",\"#EF553B\",\"#00cc96\",\"#ab63fa\",\"#FFA15A\",\"#19d3f3\",\"#FF6692\",\"#B6E880\",\"#FF97FF\",\"#FECB52\"],\"font\":{\"color\":\"#2a3f5f\"},\"hovermode\":\"closest\",\"hoverlabel\":{\"align\":\"left\"},\"paper_bgcolor\":\"white\",\"plot_bgcolor\":\"#E5ECF6\",\"polar\":{\"bgcolor\":\"#E5ECF6\",\"angularaxis\":{\"gridcolor\":\"white\",\"linecolor\":\"white\",\"ticks\":\"\"},\"radialaxis\":{\"gridcolor\":\"white\",\"linecolor\":\"white\",\"ticks\":\"\"}},\"ternary\":{\"bgcolor\":\"#E5ECF6\",\"aaxis\":{\"gridcolor\":\"white\",\"linecolor\":\"white\",\"ticks\":\"\"},\"baxis\":{\"gridcolor\":\"white\",\"linecolor\":\"white\",\"ticks\":\"\"},\"caxis\":{\"gridcolor\":\"white\",\"linecolor\":\"white\",\"ticks\":\"\"}},\"coloraxis\":{\"colorbar\":{\"outlinewidth\":0,\"ticks\":\"\"}},\"colorscale\":{\"sequential\":[[0.0,\"#0d0887\"],[0.1111111111111111,\"#46039f\"],[0.2222222222222222,\"#7201a8\"],[0.3333333333333333,\"#9c179e\"],[0.4444444444444444,\"#bd3786\"],[0.5555555555555556,\"#d8576b\"],[0.6666666666666666,\"#ed7953\"],[0.7777777777777778,\"#fb9f3a\"],[0.8888888888888888,\"#fdca26\"],[1.0,\"#f0f921\"]],\"sequentialminus\":[[0.0,\"#0d0887\"],[0.1111111111111111,\"#46039f\"],[0.2222222222222222,\"#7201a8\"],[0.3333333333333333,\"#9c179e\"],[0.4444444444444444,\"#bd3786\"],[0.5555555555555556,\"#d8576b\"],[0.6666666666666666,\"#ed7953\"],[0.7777777777777778,\"#fb9f3a\"],[0.8888888888888888,\"#fdca26\"],[1.0,\"#f0f921\"]],\"diverging\":[[0,\"#8e0152\"],[0.1,\"#c51b7d\"],[0.2,\"#de77ae\"],[0.3,\"#f1b6da\"],[0.4,\"#fde0ef\"],[0.5,\"#f7f7f7\"],[0.6,\"#e6f5d0\"],[0.7,\"#b8e186\"],[0.8,\"#7fbc41\"],[0.9,\"#4d9221\"],[1,\"#276419\"]]},\"xaxis\":{\"gridcolor\":\"white\",\"linecolor\":\"white\",\"ticks\":\"\",\"title\":{\"standoff\":15},\"zerolinecolor\":\"white\",\"automargin\":true,\"zerolinewidth\":2},\"yaxis\":{\"gridcolor\":\"white\",\"linecolor\":\"white\",\"ticks\":\"\",\"title\":{\"standoff\":15},\"zerolinecolor\":\"white\",\"automargin\":true,\"zerolinewidth\":2},\"scene\":{\"xaxis\":{\"backgroundcolor\":\"#E5ECF6\",\"gridcolor\":\"white\",\"linecolor\":\"white\",\"showbackground\":true,\"ticks\":\"\",\"zerolinecolor\":\"white\",\"gridwidth\":2},\"yaxis\":{\"backgroundcolor\":\"#E5ECF6\",\"gridcolor\":\"white\",\"linecolor\":\"white\",\"showbackground\":true,\"ticks\":\"\",\"zerolinecolor\":\"white\",\"gridwidth\":2},\"zaxis\":{\"backgroundcolor\":\"#E5ECF6\",\"gridcolor\":\"white\",\"linecolor\":\"white\",\"showbackground\":true,\"ticks\":\"\",\"zerolinecolor\":\"white\",\"gridwidth\":2}},\"shapedefaults\":{\"line\":{\"color\":\"#2a3f5f\"}},\"annotationdefaults\":{\"arrowcolor\":\"#2a3f5f\",\"arrowhead\":0,\"arrowwidth\":1},\"geo\":{\"bgcolor\":\"white\",\"landcolor\":\"#E5ECF6\",\"subunitcolor\":\"white\",\"showland\":true,\"showlakes\":true,\"lakecolor\":\"white\"},\"title\":{\"x\":0.05},\"mapbox\":{\"style\":\"light\"}}},\"xaxis\":{\"anchor\":\"y\",\"domain\":[0.0,1.0],\"matches\":\"x4\",\"showticklabels\":false},\"yaxis\":{\"anchor\":\"x\",\"domain\":[0.7875,1.0],\"type\":\"log\",\"title\":{\"text\":\"time (secs)\"}},\"xaxis2\":{\"anchor\":\"y2\",\"domain\":[0.0,1.0],\"matches\":\"x4\",\"showticklabels\":false},\"yaxis2\":{\"anchor\":\"x2\",\"domain\":[0.525,0.7375],\"type\":\"log\",\"title\":{\"text\":\"number of rules\"}},\"xaxis3\":{\"anchor\":\"y3\",\"domain\":[0.0,1.0],\"matches\":\"x4\",\"showticklabels\":false},\"yaxis3\":{\"anchor\":\"x3\",\"domain\":[0.2625,0.475],\"title\":{\"text\":\"f-score\"}},\"xaxis4\":{\"anchor\":\"y4\",\"domain\":[0.0,1.0]},\"yaxis4\":{\"anchor\":\"x4\",\"domain\":[0.0,0.2125],\"title\":{\"text\":\"f2-score\"}},\"title\":{\"text\":\"f2-score, f-score, number of rules and training time on core suite\"},\"plot_bgcolor\":\"whitesmoke\",\"height\":600,\"width\":1000},                        {\"responsive\": true}                    ).then(function(){\n",
       "                            \n",
       "var gd = document.getElementById('c0a4dce3-32c3-4593-80fa-33929f85dd23');\n",
       "var x = new MutationObserver(function (mutations, observer) {{\n",
       "        var display = window.getComputedStyle(gd).display;\n",
       "        if (!display || display === 'none') {{\n",
       "            console.log([gd, 'removed!']);\n",
       "            Plotly.purge(gd);\n",
       "            observer.disconnect();\n",
       "        }}\n",
       "}});\n",
       "\n",
       "// Listen for the removal of the full notebook cells\n",
       "var notebookContainer = gd.closest('#notebook-container');\n",
       "if (notebookContainer) {{\n",
       "    x.observe(notebookContainer, {childList: true});\n",
       "}}\n",
       "\n",
       "// Listen for the clearing of the current output cell\n",
       "var outputEl = gd.closest('.output');\n",
       "if (outputEl) {{\n",
       "    x.observe(outputEl, {childList: true});\n",
       "}}\n",
       "\n",
       "                        })                };                });            </script>        </div>"
      ]
     },
     "metadata": {},
     "output_type": "display_data"
    }
   ],
   "source": [
    "perf_metric = ('f','f2', 'f')\n",
    "sorted_df = df_core_suite.sort_values('LENC-XGB_'+perf_metric[0], ignore_index=True)\n",
    "quad_chart(pipelines=[], performance_metric_1=perf_metric[1], performance_metric_2=perf_metric[2] , complexity_metric='nof_rules', df=sorted_df, df_long_name='core suite')"
   ]
  },
  {
   "attachments": {},
   "cell_type": "markdown",
   "metadata": {},
   "source": [
    "### BRS"
   ]
  },
  {
   "cell_type": "code",
   "execution_count": 100,
   "metadata": {},
   "outputs": [
    {
     "data": {
      "application/vnd.plotly.v1+json": {
       "config": {
        "plotlyServerURL": "https://plot.ly"
       },
       "data": [
        {
         "line": {
          "color": "gray",
          "dash": "solid",
          "width": 2
         },
         "marker": {
          "symbol": "circle"
         },
         "mode": "markers+lines",
         "name": "LENC-XGB",
         "showlegend": true,
         "type": "scatter",
         "x": [
          "orange_churn",
          "bike_75",
          "taiwan_credit",
          "fraud_oracle",
          "german_credit",
          "orange_up",
          "bank_marketing",
          "compas",
          "heloc",
          "adult",
          "telco_churn_2",
          "telco_churn",
          "house",
          "boston",
          "fraud_detection",
          "electricity",
          "bike_mean"
         ],
         "xaxis": "x4",
         "y": [
          0.03,
          0.14,
          0.29,
          0.33,
          0.28,
          0.4,
          0.5,
          0.32,
          0.38,
          0.61,
          0.48,
          0.73,
          0.71,
          0.75,
          0.83,
          0.82,
          0.86
         ],
         "yaxis": "y4"
        },
        {
         "line": {
          "color": "darkkhaki",
          "dash": "solid",
          "width": 2
         },
         "marker": {
          "symbol": "cross"
         },
         "mode": "markers+lines",
         "name": "NATIVE-CONST",
         "showlegend": true,
         "type": "scatter",
         "x": [
          "orange_churn",
          "bike_75",
          "taiwan_credit",
          "fraud_oracle",
          "german_credit",
          "orange_up",
          "bank_marketing",
          "compas",
          "heloc",
          "adult",
          "telco_churn_2",
          "telco_churn",
          "house",
          "boston",
          "fraud_detection",
          "electricity",
          "bike_mean"
         ],
         "xaxis": "x4",
         "y": [
          0,
          0,
          0,
          0,
          0,
          0,
          0,
          0,
          0,
          0,
          0,
          0,
          0,
          0,
          0,
          0,
          0
         ],
         "yaxis": "y4"
        },
        {
         "line": {
          "color": "cyan",
          "dash": "dot",
          "width": 2
         },
         "marker": {
          "symbol": "square"
         },
         "mode": "markers+lines",
         "name": "BRSPREP-BRS",
         "showlegend": true,
         "type": "scatter",
         "x": [
          "orange_churn",
          "bike_75",
          "taiwan_credit",
          "fraud_oracle",
          "german_credit",
          "orange_up",
          "bank_marketing",
          "compas",
          "heloc",
          "adult",
          "telco_churn_2",
          "telco_churn",
          "house",
          "boston",
          "fraud_detection",
          "electricity",
          "bike_mean"
         ],
         "xaxis": "x4",
         "y": [
          0,
          0,
          0.33,
          0.56,
          0.03,
          0.46,
          0.48,
          0.3,
          0.39,
          0.56,
          0.42,
          0.42,
          null,
          0.71,
          null,
          null,
          0.62
         ],
         "yaxis": "y4"
        },
        {
         "line": {
          "color": "silver",
          "dash": "dot",
          "width": 2
         },
         "marker": {
          "symbol": "square"
         },
         "mode": "markers+lines",
         "name": "NATIVE-R2N",
         "showlegend": true,
         "type": "scatter",
         "x": [
          "orange_churn",
          "bike_75",
          "taiwan_credit",
          "fraud_oracle",
          "german_credit",
          "orange_up",
          "bank_marketing",
          "compas",
          "heloc",
          "adult",
          "telco_churn_2",
          "telco_churn",
          "house",
          "boston",
          "fraud_detection",
          "electricity",
          "bike_mean"
         ],
         "xaxis": "x4",
         "y": [
          null,
          0,
          0.27,
          0,
          0,
          null,
          0.21,
          0.28,
          0.39,
          0.53,
          0.31,
          0.49,
          0.6,
          0.77,
          0,
          0.49,
          0.44
         ],
         "yaxis": "y4"
        },
        {
         "line": {
          "color": "gray",
          "dash": "solid",
          "width": 2
         },
         "marker": {
          "symbol": "circle"
         },
         "mode": "markers+lines",
         "name": "LENC-XGB",
         "showlegend": false,
         "type": "scatter",
         "x": [
          "orange_churn",
          "bike_75",
          "taiwan_credit",
          "fraud_oracle",
          "german_credit",
          "orange_up",
          "bank_marketing",
          "compas",
          "heloc",
          "adult",
          "telco_churn_2",
          "telco_churn",
          "house",
          "boston",
          "fraud_detection",
          "electricity",
          "bike_mean"
         ],
         "xaxis": "x3",
         "y": [
          0.07,
          0.21,
          0.45,
          0.47,
          0.47,
          0.54,
          0.57,
          0.62,
          0.67,
          0.71,
          0.73,
          0.81,
          0.81,
          0.86,
          0.89,
          0.9,
          0.92
         ],
         "yaxis": "y3"
        },
        {
         "line": {
          "color": "darkkhaki",
          "dash": "solid",
          "width": 2
         },
         "marker": {
          "symbol": "cross"
         },
         "mode": "markers+lines",
         "name": "NATIVE-CONST",
         "showlegend": false,
         "type": "scatter",
         "x": [
          "orange_churn",
          "bike_75",
          "taiwan_credit",
          "fraud_oracle",
          "german_credit",
          "orange_up",
          "bank_marketing",
          "compas",
          "heloc",
          "adult",
          "telco_churn_2",
          "telco_churn",
          "house",
          "boston",
          "fraud_detection",
          "electricity",
          "bike_mean"
         ],
         "xaxis": "x3",
         "y": [
          0.14,
          0.02,
          0.37,
          0.11,
          0.44,
          0.14,
          0.2,
          0.61,
          0.65,
          0.39,
          0.68,
          0.26,
          0.46,
          0.62,
          0,
          0.6,
          0.58
         ],
         "yaxis": "y3"
        },
        {
         "line": {
          "color": "cyan",
          "dash": "dot",
          "width": 2
         },
         "marker": {
          "symbol": "square"
         },
         "mode": "markers+lines",
         "name": "BRSPREP-BRS",
         "showlegend": false,
         "type": "scatter",
         "x": [
          "orange_churn",
          "bike_75",
          "taiwan_credit",
          "fraud_oracle",
          "german_credit",
          "orange_up",
          "bank_marketing",
          "compas",
          "heloc",
          "adult",
          "telco_churn_2",
          "telco_churn",
          "house",
          "boston",
          "fraud_detection",
          "electricity",
          "bike_mean"
         ],
         "xaxis": "x3",
         "y": [
          0,
          0,
          0.49,
          0.23,
          0.1,
          0.54,
          0.56,
          0.6,
          0.67,
          0.62,
          0.73,
          0.58,
          null,
          0.83,
          null,
          null,
          0.77
         ],
         "yaxis": "y3"
        },
        {
         "line": {
          "color": "silver",
          "dash": "dot",
          "width": 2
         },
         "marker": {
          "symbol": "square"
         },
         "mode": "markers+lines",
         "name": "NATIVE-R2N",
         "showlegend": false,
         "type": "scatter",
         "x": [
          "orange_churn",
          "bike_75",
          "taiwan_credit",
          "fraud_oracle",
          "german_credit",
          "orange_up",
          "bank_marketing",
          "compas",
          "heloc",
          "adult",
          "telco_churn_2",
          "telco_churn",
          "house",
          "boston",
          "fraud_detection",
          "electricity",
          "bike_mean"
         ],
         "xaxis": "x3",
         "y": [
          null,
          0,
          0.43,
          0,
          0,
          null,
          0.32,
          0.57,
          0.66,
          0.59,
          0.56,
          0.63,
          0.71,
          0.88,
          0,
          0.69,
          0.68
         ],
         "yaxis": "y3"
        },
        {
         "line": {
          "color": "cyan",
          "dash": "dot",
          "width": 2
         },
         "marker": {
          "symbol": "square"
         },
         "mode": "markers+lines",
         "name": "BRSPREP-BRS",
         "showlegend": false,
         "type": "scatter",
         "x": [
          "orange_churn",
          "bike_75",
          "taiwan_credit",
          "fraud_oracle",
          "german_credit",
          "orange_up",
          "bank_marketing",
          "compas",
          "heloc",
          "adult",
          "telco_churn_2",
          "telco_churn",
          "house",
          "boston",
          "fraud_detection",
          "electricity",
          "bike_mean"
         ],
         "xaxis": "x2",
         "y": [
          1,
          1,
          7,
          3,
          2,
          2,
          7,
          5,
          4,
          9,
          3,
          4,
          null,
          3,
          null,
          null,
          3
         ],
         "yaxis": "y2"
        },
        {
         "line": {
          "color": "silver",
          "dash": "dot",
          "width": 2
         },
         "marker": {
          "symbol": "square"
         },
         "mode": "markers+lines",
         "name": "NATIVE-R2N",
         "showlegend": false,
         "type": "scatter",
         "x": [
          "orange_churn",
          "bike_75",
          "taiwan_credit",
          "fraud_oracle",
          "german_credit",
          "orange_up",
          "bank_marketing",
          "compas",
          "heloc",
          "adult",
          "telco_churn_2",
          "telco_churn",
          "house",
          "boston",
          "fraud_detection",
          "electricity",
          "bike_mean"
         ],
         "xaxis": "x2",
         "y": [
          null,
          1,
          3,
          1,
          4,
          null,
          3,
          4,
          2,
          4,
          4,
          4,
          4,
          5,
          1,
          4,
          3
         ],
         "yaxis": "y2"
        },
        {
         "line": {
          "color": "gray",
          "dash": "solid",
          "width": 2
         },
         "marker": {
          "symbol": "circle"
         },
         "mode": "markers+lines",
         "name": "LENC-XGB",
         "showlegend": false,
         "type": "scatter",
         "x": [
          "orange_churn",
          "bike_75",
          "taiwan_credit",
          "fraud_oracle",
          "german_credit",
          "orange_up",
          "bank_marketing",
          "compas",
          "heloc",
          "adult",
          "telco_churn_2",
          "telco_churn",
          "house",
          "boston",
          "fraud_detection",
          "electricity",
          "bike_mean"
         ],
         "xaxis": "x",
         "y": [
          3.52,
          1.15,
          1.8399999999999999,
          1.53,
          1.19,
          3.51,
          1.25,
          1.26,
          1.34,
          1.41,
          1.23,
          1.23,
          1.69,
          1.1,
          5.96,
          1.71,
          1.31
         ],
         "yaxis": "y"
        },
        {
         "line": {
          "color": "cyan",
          "dash": "dot",
          "width": 2
         },
         "marker": {
          "symbol": "square"
         },
         "mode": "markers+lines",
         "name": "BRSPREP-BRS",
         "showlegend": false,
         "type": "scatter",
         "x": [
          "orange_churn",
          "bike_75",
          "taiwan_credit",
          "fraud_oracle",
          "german_credit",
          "orange_up",
          "bank_marketing",
          "compas",
          "heloc",
          "adult",
          "telco_churn_2",
          "telco_churn",
          "house",
          "boston",
          "fraud_detection",
          "electricity",
          "bike_mean"
         ],
         "xaxis": "x",
         "y": [
          4791.96,
          21.78,
          28871.16,
          35.17,
          6.83,
          20949.35,
          23.77,
          7.92,
          66.63,
          50.17,
          115.82,
          40.74,
          null,
          7.38,
          null,
          null,
          225.19
         ],
         "yaxis": "y"
        },
        {
         "line": {
          "color": "silver",
          "dash": "dot",
          "width": 2
         },
         "marker": {
          "symbol": "square"
         },
         "mode": "markers+lines",
         "name": "NATIVE-R2N",
         "showlegend": false,
         "type": "scatter",
         "x": [
          "orange_churn",
          "bike_75",
          "taiwan_credit",
          "fraud_oracle",
          "german_credit",
          "orange_up",
          "bank_marketing",
          "compas",
          "heloc",
          "adult",
          "telco_churn_2",
          "telco_churn",
          "house",
          "boston",
          "fraud_detection",
          "electricity",
          "bike_mean"
         ],
         "xaxis": "x",
         "y": [
          0,
          189.21,
          569.03,
          298.55,
          17.25,
          0,
          66.94,
          99.04,
          170.89,
          626.75,
          32.79,
          55.26,
          357.45,
          9.94,
          4448.07,
          700.06,
          193.01
         ],
         "yaxis": "y"
        }
       ],
       "layout": {
        "height": 600,
        "plot_bgcolor": "whitesmoke",
        "template": {
         "data": {
          "bar": [
           {
            "error_x": {
             "color": "#2a3f5f"
            },
            "error_y": {
             "color": "#2a3f5f"
            },
            "marker": {
             "line": {
              "color": "#E5ECF6",
              "width": 0.5
             },
             "pattern": {
              "fillmode": "overlay",
              "size": 10,
              "solidity": 0.2
             }
            },
            "type": "bar"
           }
          ],
          "barpolar": [
           {
            "marker": {
             "line": {
              "color": "#E5ECF6",
              "width": 0.5
             },
             "pattern": {
              "fillmode": "overlay",
              "size": 10,
              "solidity": 0.2
             }
            },
            "type": "barpolar"
           }
          ],
          "carpet": [
           {
            "aaxis": {
             "endlinecolor": "#2a3f5f",
             "gridcolor": "white",
             "linecolor": "white",
             "minorgridcolor": "white",
             "startlinecolor": "#2a3f5f"
            },
            "baxis": {
             "endlinecolor": "#2a3f5f",
             "gridcolor": "white",
             "linecolor": "white",
             "minorgridcolor": "white",
             "startlinecolor": "#2a3f5f"
            },
            "type": "carpet"
           }
          ],
          "choropleth": [
           {
            "colorbar": {
             "outlinewidth": 0,
             "ticks": ""
            },
            "type": "choropleth"
           }
          ],
          "contour": [
           {
            "colorbar": {
             "outlinewidth": 0,
             "ticks": ""
            },
            "colorscale": [
             [
              0,
              "#0d0887"
             ],
             [
              0.1111111111111111,
              "#46039f"
             ],
             [
              0.2222222222222222,
              "#7201a8"
             ],
             [
              0.3333333333333333,
              "#9c179e"
             ],
             [
              0.4444444444444444,
              "#bd3786"
             ],
             [
              0.5555555555555556,
              "#d8576b"
             ],
             [
              0.6666666666666666,
              "#ed7953"
             ],
             [
              0.7777777777777778,
              "#fb9f3a"
             ],
             [
              0.8888888888888888,
              "#fdca26"
             ],
             [
              1,
              "#f0f921"
             ]
            ],
            "type": "contour"
           }
          ],
          "contourcarpet": [
           {
            "colorbar": {
             "outlinewidth": 0,
             "ticks": ""
            },
            "type": "contourcarpet"
           }
          ],
          "heatmap": [
           {
            "colorbar": {
             "outlinewidth": 0,
             "ticks": ""
            },
            "colorscale": [
             [
              0,
              "#0d0887"
             ],
             [
              0.1111111111111111,
              "#46039f"
             ],
             [
              0.2222222222222222,
              "#7201a8"
             ],
             [
              0.3333333333333333,
              "#9c179e"
             ],
             [
              0.4444444444444444,
              "#bd3786"
             ],
             [
              0.5555555555555556,
              "#d8576b"
             ],
             [
              0.6666666666666666,
              "#ed7953"
             ],
             [
              0.7777777777777778,
              "#fb9f3a"
             ],
             [
              0.8888888888888888,
              "#fdca26"
             ],
             [
              1,
              "#f0f921"
             ]
            ],
            "type": "heatmap"
           }
          ],
          "heatmapgl": [
           {
            "colorbar": {
             "outlinewidth": 0,
             "ticks": ""
            },
            "colorscale": [
             [
              0,
              "#0d0887"
             ],
             [
              0.1111111111111111,
              "#46039f"
             ],
             [
              0.2222222222222222,
              "#7201a8"
             ],
             [
              0.3333333333333333,
              "#9c179e"
             ],
             [
              0.4444444444444444,
              "#bd3786"
             ],
             [
              0.5555555555555556,
              "#d8576b"
             ],
             [
              0.6666666666666666,
              "#ed7953"
             ],
             [
              0.7777777777777778,
              "#fb9f3a"
             ],
             [
              0.8888888888888888,
              "#fdca26"
             ],
             [
              1,
              "#f0f921"
             ]
            ],
            "type": "heatmapgl"
           }
          ],
          "histogram": [
           {
            "marker": {
             "pattern": {
              "fillmode": "overlay",
              "size": 10,
              "solidity": 0.2
             }
            },
            "type": "histogram"
           }
          ],
          "histogram2d": [
           {
            "colorbar": {
             "outlinewidth": 0,
             "ticks": ""
            },
            "colorscale": [
             [
              0,
              "#0d0887"
             ],
             [
              0.1111111111111111,
              "#46039f"
             ],
             [
              0.2222222222222222,
              "#7201a8"
             ],
             [
              0.3333333333333333,
              "#9c179e"
             ],
             [
              0.4444444444444444,
              "#bd3786"
             ],
             [
              0.5555555555555556,
              "#d8576b"
             ],
             [
              0.6666666666666666,
              "#ed7953"
             ],
             [
              0.7777777777777778,
              "#fb9f3a"
             ],
             [
              0.8888888888888888,
              "#fdca26"
             ],
             [
              1,
              "#f0f921"
             ]
            ],
            "type": "histogram2d"
           }
          ],
          "histogram2dcontour": [
           {
            "colorbar": {
             "outlinewidth": 0,
             "ticks": ""
            },
            "colorscale": [
             [
              0,
              "#0d0887"
             ],
             [
              0.1111111111111111,
              "#46039f"
             ],
             [
              0.2222222222222222,
              "#7201a8"
             ],
             [
              0.3333333333333333,
              "#9c179e"
             ],
             [
              0.4444444444444444,
              "#bd3786"
             ],
             [
              0.5555555555555556,
              "#d8576b"
             ],
             [
              0.6666666666666666,
              "#ed7953"
             ],
             [
              0.7777777777777778,
              "#fb9f3a"
             ],
             [
              0.8888888888888888,
              "#fdca26"
             ],
             [
              1,
              "#f0f921"
             ]
            ],
            "type": "histogram2dcontour"
           }
          ],
          "mesh3d": [
           {
            "colorbar": {
             "outlinewidth": 0,
             "ticks": ""
            },
            "type": "mesh3d"
           }
          ],
          "parcoords": [
           {
            "line": {
             "colorbar": {
              "outlinewidth": 0,
              "ticks": ""
             }
            },
            "type": "parcoords"
           }
          ],
          "pie": [
           {
            "automargin": true,
            "type": "pie"
           }
          ],
          "scatter": [
           {
            "fillpattern": {
             "fillmode": "overlay",
             "size": 10,
             "solidity": 0.2
            },
            "type": "scatter"
           }
          ],
          "scatter3d": [
           {
            "line": {
             "colorbar": {
              "outlinewidth": 0,
              "ticks": ""
             }
            },
            "marker": {
             "colorbar": {
              "outlinewidth": 0,
              "ticks": ""
             }
            },
            "type": "scatter3d"
           }
          ],
          "scattercarpet": [
           {
            "marker": {
             "colorbar": {
              "outlinewidth": 0,
              "ticks": ""
             }
            },
            "type": "scattercarpet"
           }
          ],
          "scattergeo": [
           {
            "marker": {
             "colorbar": {
              "outlinewidth": 0,
              "ticks": ""
             }
            },
            "type": "scattergeo"
           }
          ],
          "scattergl": [
           {
            "marker": {
             "colorbar": {
              "outlinewidth": 0,
              "ticks": ""
             }
            },
            "type": "scattergl"
           }
          ],
          "scattermapbox": [
           {
            "marker": {
             "colorbar": {
              "outlinewidth": 0,
              "ticks": ""
             }
            },
            "type": "scattermapbox"
           }
          ],
          "scatterpolar": [
           {
            "marker": {
             "colorbar": {
              "outlinewidth": 0,
              "ticks": ""
             }
            },
            "type": "scatterpolar"
           }
          ],
          "scatterpolargl": [
           {
            "marker": {
             "colorbar": {
              "outlinewidth": 0,
              "ticks": ""
             }
            },
            "type": "scatterpolargl"
           }
          ],
          "scatterternary": [
           {
            "marker": {
             "colorbar": {
              "outlinewidth": 0,
              "ticks": ""
             }
            },
            "type": "scatterternary"
           }
          ],
          "surface": [
           {
            "colorbar": {
             "outlinewidth": 0,
             "ticks": ""
            },
            "colorscale": [
             [
              0,
              "#0d0887"
             ],
             [
              0.1111111111111111,
              "#46039f"
             ],
             [
              0.2222222222222222,
              "#7201a8"
             ],
             [
              0.3333333333333333,
              "#9c179e"
             ],
             [
              0.4444444444444444,
              "#bd3786"
             ],
             [
              0.5555555555555556,
              "#d8576b"
             ],
             [
              0.6666666666666666,
              "#ed7953"
             ],
             [
              0.7777777777777778,
              "#fb9f3a"
             ],
             [
              0.8888888888888888,
              "#fdca26"
             ],
             [
              1,
              "#f0f921"
             ]
            ],
            "type": "surface"
           }
          ],
          "table": [
           {
            "cells": {
             "fill": {
              "color": "#EBF0F8"
             },
             "line": {
              "color": "white"
             }
            },
            "header": {
             "fill": {
              "color": "#C8D4E3"
             },
             "line": {
              "color": "white"
             }
            },
            "type": "table"
           }
          ]
         },
         "layout": {
          "annotationdefaults": {
           "arrowcolor": "#2a3f5f",
           "arrowhead": 0,
           "arrowwidth": 1
          },
          "autotypenumbers": "strict",
          "coloraxis": {
           "colorbar": {
            "outlinewidth": 0,
            "ticks": ""
           }
          },
          "colorscale": {
           "diverging": [
            [
             0,
             "#8e0152"
            ],
            [
             0.1,
             "#c51b7d"
            ],
            [
             0.2,
             "#de77ae"
            ],
            [
             0.3,
             "#f1b6da"
            ],
            [
             0.4,
             "#fde0ef"
            ],
            [
             0.5,
             "#f7f7f7"
            ],
            [
             0.6,
             "#e6f5d0"
            ],
            [
             0.7,
             "#b8e186"
            ],
            [
             0.8,
             "#7fbc41"
            ],
            [
             0.9,
             "#4d9221"
            ],
            [
             1,
             "#276419"
            ]
           ],
           "sequential": [
            [
             0,
             "#0d0887"
            ],
            [
             0.1111111111111111,
             "#46039f"
            ],
            [
             0.2222222222222222,
             "#7201a8"
            ],
            [
             0.3333333333333333,
             "#9c179e"
            ],
            [
             0.4444444444444444,
             "#bd3786"
            ],
            [
             0.5555555555555556,
             "#d8576b"
            ],
            [
             0.6666666666666666,
             "#ed7953"
            ],
            [
             0.7777777777777778,
             "#fb9f3a"
            ],
            [
             0.8888888888888888,
             "#fdca26"
            ],
            [
             1,
             "#f0f921"
            ]
           ],
           "sequentialminus": [
            [
             0,
             "#0d0887"
            ],
            [
             0.1111111111111111,
             "#46039f"
            ],
            [
             0.2222222222222222,
             "#7201a8"
            ],
            [
             0.3333333333333333,
             "#9c179e"
            ],
            [
             0.4444444444444444,
             "#bd3786"
            ],
            [
             0.5555555555555556,
             "#d8576b"
            ],
            [
             0.6666666666666666,
             "#ed7953"
            ],
            [
             0.7777777777777778,
             "#fb9f3a"
            ],
            [
             0.8888888888888888,
             "#fdca26"
            ],
            [
             1,
             "#f0f921"
            ]
           ]
          },
          "colorway": [
           "#636efa",
           "#EF553B",
           "#00cc96",
           "#ab63fa",
           "#FFA15A",
           "#19d3f3",
           "#FF6692",
           "#B6E880",
           "#FF97FF",
           "#FECB52"
          ],
          "font": {
           "color": "#2a3f5f"
          },
          "geo": {
           "bgcolor": "white",
           "lakecolor": "white",
           "landcolor": "#E5ECF6",
           "showlakes": true,
           "showland": true,
           "subunitcolor": "white"
          },
          "hoverlabel": {
           "align": "left"
          },
          "hovermode": "closest",
          "mapbox": {
           "style": "light"
          },
          "paper_bgcolor": "white",
          "plot_bgcolor": "#E5ECF6",
          "polar": {
           "angularaxis": {
            "gridcolor": "white",
            "linecolor": "white",
            "ticks": ""
           },
           "bgcolor": "#E5ECF6",
           "radialaxis": {
            "gridcolor": "white",
            "linecolor": "white",
            "ticks": ""
           }
          },
          "scene": {
           "xaxis": {
            "backgroundcolor": "#E5ECF6",
            "gridcolor": "white",
            "gridwidth": 2,
            "linecolor": "white",
            "showbackground": true,
            "ticks": "",
            "zerolinecolor": "white"
           },
           "yaxis": {
            "backgroundcolor": "#E5ECF6",
            "gridcolor": "white",
            "gridwidth": 2,
            "linecolor": "white",
            "showbackground": true,
            "ticks": "",
            "zerolinecolor": "white"
           },
           "zaxis": {
            "backgroundcolor": "#E5ECF6",
            "gridcolor": "white",
            "gridwidth": 2,
            "linecolor": "white",
            "showbackground": true,
            "ticks": "",
            "zerolinecolor": "white"
           }
          },
          "shapedefaults": {
           "line": {
            "color": "#2a3f5f"
           }
          },
          "ternary": {
           "aaxis": {
            "gridcolor": "white",
            "linecolor": "white",
            "ticks": ""
           },
           "baxis": {
            "gridcolor": "white",
            "linecolor": "white",
            "ticks": ""
           },
           "bgcolor": "#E5ECF6",
           "caxis": {
            "gridcolor": "white",
            "linecolor": "white",
            "ticks": ""
           }
          },
          "title": {
           "x": 0.05
          },
          "xaxis": {
           "automargin": true,
           "gridcolor": "white",
           "linecolor": "white",
           "ticks": "",
           "title": {
            "standoff": 15
           },
           "zerolinecolor": "white",
           "zerolinewidth": 2
          },
          "yaxis": {
           "automargin": true,
           "gridcolor": "white",
           "linecolor": "white",
           "ticks": "",
           "title": {
            "standoff": 15
           },
           "zerolinecolor": "white",
           "zerolinewidth": 2
          }
         }
        },
        "title": {
         "text": "balanced accuracy, f-score, number of rules and training time on core suite"
        },
        "width": 1000,
        "xaxis": {
         "anchor": "y",
         "domain": [
          0,
          1
         ],
         "matches": "x4",
         "showticklabels": false
        },
        "xaxis2": {
         "anchor": "y2",
         "domain": [
          0,
          1
         ],
         "matches": "x4",
         "showticklabels": false
        },
        "xaxis3": {
         "anchor": "y3",
         "domain": [
          0,
          1
         ],
         "matches": "x4",
         "showticklabels": false
        },
        "xaxis4": {
         "anchor": "y4",
         "domain": [
          0,
          1
         ]
        },
        "yaxis": {
         "anchor": "x",
         "domain": [
          0.7875,
          1
         ],
         "title": {
          "text": "time (secs)"
         },
         "type": "log"
        },
        "yaxis2": {
         "anchor": "x2",
         "domain": [
          0.525,
          0.7375
         ],
         "title": {
          "text": "number of rules"
         },
         "type": "log"
        },
        "yaxis3": {
         "anchor": "x3",
         "domain": [
          0.2625,
          0.475
         ],
         "title": {
          "text": "f-score"
         }
        },
        "yaxis4": {
         "anchor": "x4",
         "domain": [
          0,
          0.2125
         ],
         "title": {
          "text": "balanced accuracy"
         }
        }
       }
      },
      "text/html": [
       "<div>                            <div id=\"a565b63f-3057-4240-8e8e-960013fb54ab\" class=\"plotly-graph-div\" style=\"height:600px; width:1000px;\"></div>            <script type=\"text/javascript\">                require([\"plotly\"], function(Plotly) {                    window.PLOTLYENV=window.PLOTLYENV || {};                                    if (document.getElementById(\"a565b63f-3057-4240-8e8e-960013fb54ab\")) {                    Plotly.newPlot(                        \"a565b63f-3057-4240-8e8e-960013fb54ab\",                        [{\"line\":{\"color\":\"gray\",\"dash\":\"solid\",\"width\":2},\"marker\":{\"symbol\":\"circle\"},\"mode\":\"markers+lines\",\"name\":\"LENC-XGB\",\"showlegend\":true,\"x\":[\"orange_churn\",\"bike_75\",\"taiwan_credit\",\"fraud_oracle\",\"german_credit\",\"orange_up\",\"bank_marketing\",\"compas\",\"heloc\",\"adult\",\"telco_churn_2\",\"telco_churn\",\"house\",\"boston\",\"fraud_detection\",\"electricity\",\"bike_mean\"],\"y\":[0.03,0.14,0.29,0.33,0.28,0.4,0.5,0.32,0.38,0.61,0.48,0.73,0.71,0.75,0.83,0.82,0.86],\"type\":\"scatter\",\"xaxis\":\"x4\",\"yaxis\":\"y4\"},{\"line\":{\"color\":\"darkkhaki\",\"dash\":\"solid\",\"width\":2},\"marker\":{\"symbol\":\"cross\"},\"mode\":\"markers+lines\",\"name\":\"NATIVE-CONST\",\"showlegend\":true,\"x\":[\"orange_churn\",\"bike_75\",\"taiwan_credit\",\"fraud_oracle\",\"german_credit\",\"orange_up\",\"bank_marketing\",\"compas\",\"heloc\",\"adult\",\"telco_churn_2\",\"telco_churn\",\"house\",\"boston\",\"fraud_detection\",\"electricity\",\"bike_mean\"],\"y\":[0.0,0.0,0.0,0.0,0.0,0.0,0.0,0.0,0.0,0.0,0.0,0.0,0.0,0.0,0.0,0.0,0.0],\"type\":\"scatter\",\"xaxis\":\"x4\",\"yaxis\":\"y4\"},{\"line\":{\"color\":\"cyan\",\"dash\":\"dot\",\"width\":2},\"marker\":{\"symbol\":\"square\"},\"mode\":\"markers+lines\",\"name\":\"BRSPREP-BRS\",\"showlegend\":true,\"x\":[\"orange_churn\",\"bike_75\",\"taiwan_credit\",\"fraud_oracle\",\"german_credit\",\"orange_up\",\"bank_marketing\",\"compas\",\"heloc\",\"adult\",\"telco_churn_2\",\"telco_churn\",\"house\",\"boston\",\"fraud_detection\",\"electricity\",\"bike_mean\"],\"y\":[0.0,0.0,0.33,0.56,0.03,0.46,0.48,0.3,0.39,0.56,0.42,0.42,null,0.71,null,null,0.62],\"type\":\"scatter\",\"xaxis\":\"x4\",\"yaxis\":\"y4\"},{\"line\":{\"color\":\"silver\",\"dash\":\"dot\",\"width\":2},\"marker\":{\"symbol\":\"square\"},\"mode\":\"markers+lines\",\"name\":\"NATIVE-R2N\",\"showlegend\":true,\"x\":[\"orange_churn\",\"bike_75\",\"taiwan_credit\",\"fraud_oracle\",\"german_credit\",\"orange_up\",\"bank_marketing\",\"compas\",\"heloc\",\"adult\",\"telco_churn_2\",\"telco_churn\",\"house\",\"boston\",\"fraud_detection\",\"electricity\",\"bike_mean\"],\"y\":[null,0.0,0.27,0.0,0.0,null,0.21,0.28,0.39,0.53,0.31,0.49,0.6,0.77,0.0,0.49,0.44],\"type\":\"scatter\",\"xaxis\":\"x4\",\"yaxis\":\"y4\"},{\"line\":{\"color\":\"gray\",\"dash\":\"solid\",\"width\":2},\"marker\":{\"symbol\":\"circle\"},\"mode\":\"markers+lines\",\"name\":\"LENC-XGB\",\"showlegend\":false,\"x\":[\"orange_churn\",\"bike_75\",\"taiwan_credit\",\"fraud_oracle\",\"german_credit\",\"orange_up\",\"bank_marketing\",\"compas\",\"heloc\",\"adult\",\"telco_churn_2\",\"telco_churn\",\"house\",\"boston\",\"fraud_detection\",\"electricity\",\"bike_mean\"],\"y\":[0.07,0.21,0.45,0.47,0.47,0.54,0.57,0.62,0.67,0.71,0.73,0.81,0.81,0.86,0.89,0.9,0.92],\"type\":\"scatter\",\"xaxis\":\"x3\",\"yaxis\":\"y3\"},{\"line\":{\"color\":\"darkkhaki\",\"dash\":\"solid\",\"width\":2},\"marker\":{\"symbol\":\"cross\"},\"mode\":\"markers+lines\",\"name\":\"NATIVE-CONST\",\"showlegend\":false,\"x\":[\"orange_churn\",\"bike_75\",\"taiwan_credit\",\"fraud_oracle\",\"german_credit\",\"orange_up\",\"bank_marketing\",\"compas\",\"heloc\",\"adult\",\"telco_churn_2\",\"telco_churn\",\"house\",\"boston\",\"fraud_detection\",\"electricity\",\"bike_mean\"],\"y\":[0.14,0.02,0.37,0.11,0.44,0.14,0.2,0.61,0.65,0.39,0.68,0.26,0.46,0.62,0.0,0.6,0.58],\"type\":\"scatter\",\"xaxis\":\"x3\",\"yaxis\":\"y3\"},{\"line\":{\"color\":\"cyan\",\"dash\":\"dot\",\"width\":2},\"marker\":{\"symbol\":\"square\"},\"mode\":\"markers+lines\",\"name\":\"BRSPREP-BRS\",\"showlegend\":false,\"x\":[\"orange_churn\",\"bike_75\",\"taiwan_credit\",\"fraud_oracle\",\"german_credit\",\"orange_up\",\"bank_marketing\",\"compas\",\"heloc\",\"adult\",\"telco_churn_2\",\"telco_churn\",\"house\",\"boston\",\"fraud_detection\",\"electricity\",\"bike_mean\"],\"y\":[0.0,0.0,0.49,0.23,0.1,0.54,0.56,0.6,0.67,0.62,0.73,0.58,null,0.83,null,null,0.77],\"type\":\"scatter\",\"xaxis\":\"x3\",\"yaxis\":\"y3\"},{\"line\":{\"color\":\"silver\",\"dash\":\"dot\",\"width\":2},\"marker\":{\"symbol\":\"square\"},\"mode\":\"markers+lines\",\"name\":\"NATIVE-R2N\",\"showlegend\":false,\"x\":[\"orange_churn\",\"bike_75\",\"taiwan_credit\",\"fraud_oracle\",\"german_credit\",\"orange_up\",\"bank_marketing\",\"compas\",\"heloc\",\"adult\",\"telco_churn_2\",\"telco_churn\",\"house\",\"boston\",\"fraud_detection\",\"electricity\",\"bike_mean\"],\"y\":[null,0.0,0.43,0.0,0.0,null,0.32,0.57,0.66,0.59,0.56,0.63,0.71,0.88,0.0,0.69,0.68],\"type\":\"scatter\",\"xaxis\":\"x3\",\"yaxis\":\"y3\"},{\"line\":{\"color\":\"cyan\",\"dash\":\"dot\",\"width\":2},\"marker\":{\"symbol\":\"square\"},\"mode\":\"markers+lines\",\"name\":\"BRSPREP-BRS\",\"showlegend\":false,\"x\":[\"orange_churn\",\"bike_75\",\"taiwan_credit\",\"fraud_oracle\",\"german_credit\",\"orange_up\",\"bank_marketing\",\"compas\",\"heloc\",\"adult\",\"telco_churn_2\",\"telco_churn\",\"house\",\"boston\",\"fraud_detection\",\"electricity\",\"bike_mean\"],\"y\":[1.0,1.0,7.0,3.0,2.0,2.0,7.0,5.0,4.0,9.0,3.0,4.0,null,3.0,null,null,3.0],\"type\":\"scatter\",\"xaxis\":\"x2\",\"yaxis\":\"y2\"},{\"line\":{\"color\":\"silver\",\"dash\":\"dot\",\"width\":2},\"marker\":{\"symbol\":\"square\"},\"mode\":\"markers+lines\",\"name\":\"NATIVE-R2N\",\"showlegend\":false,\"x\":[\"orange_churn\",\"bike_75\",\"taiwan_credit\",\"fraud_oracle\",\"german_credit\",\"orange_up\",\"bank_marketing\",\"compas\",\"heloc\",\"adult\",\"telco_churn_2\",\"telco_churn\",\"house\",\"boston\",\"fraud_detection\",\"electricity\",\"bike_mean\"],\"y\":[null,1.0,3.0,1.0,4.0,null,3.0,4.0,2.0,4.0,4.0,4.0,4.0,5.0,1.0,4.0,3.0],\"type\":\"scatter\",\"xaxis\":\"x2\",\"yaxis\":\"y2\"},{\"line\":{\"color\":\"gray\",\"dash\":\"solid\",\"width\":2},\"marker\":{\"symbol\":\"circle\"},\"mode\":\"markers+lines\",\"name\":\"LENC-XGB\",\"showlegend\":false,\"x\":[\"orange_churn\",\"bike_75\",\"taiwan_credit\",\"fraud_oracle\",\"german_credit\",\"orange_up\",\"bank_marketing\",\"compas\",\"heloc\",\"adult\",\"telco_churn_2\",\"telco_churn\",\"house\",\"boston\",\"fraud_detection\",\"electricity\",\"bike_mean\"],\"y\":[3.52,1.15,1.8399999999999999,1.53,1.19,3.51,1.25,1.26,1.34,1.41,1.23,1.23,1.69,1.1,5.96,1.71,1.31],\"type\":\"scatter\",\"xaxis\":\"x\",\"yaxis\":\"y\"},{\"line\":{\"color\":\"cyan\",\"dash\":\"dot\",\"width\":2},\"marker\":{\"symbol\":\"square\"},\"mode\":\"markers+lines\",\"name\":\"BRSPREP-BRS\",\"showlegend\":false,\"x\":[\"orange_churn\",\"bike_75\",\"taiwan_credit\",\"fraud_oracle\",\"german_credit\",\"orange_up\",\"bank_marketing\",\"compas\",\"heloc\",\"adult\",\"telco_churn_2\",\"telco_churn\",\"house\",\"boston\",\"fraud_detection\",\"electricity\",\"bike_mean\"],\"y\":[4791.96,21.78,28871.16,35.17,6.83,20949.35,23.77,7.92,66.63,50.17,115.82,40.74,null,7.38,null,null,225.19],\"type\":\"scatter\",\"xaxis\":\"x\",\"yaxis\":\"y\"},{\"line\":{\"color\":\"silver\",\"dash\":\"dot\",\"width\":2},\"marker\":{\"symbol\":\"square\"},\"mode\":\"markers+lines\",\"name\":\"NATIVE-R2N\",\"showlegend\":false,\"x\":[\"orange_churn\",\"bike_75\",\"taiwan_credit\",\"fraud_oracle\",\"german_credit\",\"orange_up\",\"bank_marketing\",\"compas\",\"heloc\",\"adult\",\"telco_churn_2\",\"telco_churn\",\"house\",\"boston\",\"fraud_detection\",\"electricity\",\"bike_mean\"],\"y\":[0.0,189.21,569.03,298.55,17.25,0.0,66.94,99.04,170.89,626.75,32.79,55.26,357.45,9.94,4448.07,700.06,193.01],\"type\":\"scatter\",\"xaxis\":\"x\",\"yaxis\":\"y\"}],                        {\"template\":{\"data\":{\"histogram2dcontour\":[{\"type\":\"histogram2dcontour\",\"colorbar\":{\"outlinewidth\":0,\"ticks\":\"\"},\"colorscale\":[[0.0,\"#0d0887\"],[0.1111111111111111,\"#46039f\"],[0.2222222222222222,\"#7201a8\"],[0.3333333333333333,\"#9c179e\"],[0.4444444444444444,\"#bd3786\"],[0.5555555555555556,\"#d8576b\"],[0.6666666666666666,\"#ed7953\"],[0.7777777777777778,\"#fb9f3a\"],[0.8888888888888888,\"#fdca26\"],[1.0,\"#f0f921\"]]}],\"choropleth\":[{\"type\":\"choropleth\",\"colorbar\":{\"outlinewidth\":0,\"ticks\":\"\"}}],\"histogram2d\":[{\"type\":\"histogram2d\",\"colorbar\":{\"outlinewidth\":0,\"ticks\":\"\"},\"colorscale\":[[0.0,\"#0d0887\"],[0.1111111111111111,\"#46039f\"],[0.2222222222222222,\"#7201a8\"],[0.3333333333333333,\"#9c179e\"],[0.4444444444444444,\"#bd3786\"],[0.5555555555555556,\"#d8576b\"],[0.6666666666666666,\"#ed7953\"],[0.7777777777777778,\"#fb9f3a\"],[0.8888888888888888,\"#fdca26\"],[1.0,\"#f0f921\"]]}],\"heatmap\":[{\"type\":\"heatmap\",\"colorbar\":{\"outlinewidth\":0,\"ticks\":\"\"},\"colorscale\":[[0.0,\"#0d0887\"],[0.1111111111111111,\"#46039f\"],[0.2222222222222222,\"#7201a8\"],[0.3333333333333333,\"#9c179e\"],[0.4444444444444444,\"#bd3786\"],[0.5555555555555556,\"#d8576b\"],[0.6666666666666666,\"#ed7953\"],[0.7777777777777778,\"#fb9f3a\"],[0.8888888888888888,\"#fdca26\"],[1.0,\"#f0f921\"]]}],\"heatmapgl\":[{\"type\":\"heatmapgl\",\"colorbar\":{\"outlinewidth\":0,\"ticks\":\"\"},\"colorscale\":[[0.0,\"#0d0887\"],[0.1111111111111111,\"#46039f\"],[0.2222222222222222,\"#7201a8\"],[0.3333333333333333,\"#9c179e\"],[0.4444444444444444,\"#bd3786\"],[0.5555555555555556,\"#d8576b\"],[0.6666666666666666,\"#ed7953\"],[0.7777777777777778,\"#fb9f3a\"],[0.8888888888888888,\"#fdca26\"],[1.0,\"#f0f921\"]]}],\"contourcarpet\":[{\"type\":\"contourcarpet\",\"colorbar\":{\"outlinewidth\":0,\"ticks\":\"\"}}],\"contour\":[{\"type\":\"contour\",\"colorbar\":{\"outlinewidth\":0,\"ticks\":\"\"},\"colorscale\":[[0.0,\"#0d0887\"],[0.1111111111111111,\"#46039f\"],[0.2222222222222222,\"#7201a8\"],[0.3333333333333333,\"#9c179e\"],[0.4444444444444444,\"#bd3786\"],[0.5555555555555556,\"#d8576b\"],[0.6666666666666666,\"#ed7953\"],[0.7777777777777778,\"#fb9f3a\"],[0.8888888888888888,\"#fdca26\"],[1.0,\"#f0f921\"]]}],\"surface\":[{\"type\":\"surface\",\"colorbar\":{\"outlinewidth\":0,\"ticks\":\"\"},\"colorscale\":[[0.0,\"#0d0887\"],[0.1111111111111111,\"#46039f\"],[0.2222222222222222,\"#7201a8\"],[0.3333333333333333,\"#9c179e\"],[0.4444444444444444,\"#bd3786\"],[0.5555555555555556,\"#d8576b\"],[0.6666666666666666,\"#ed7953\"],[0.7777777777777778,\"#fb9f3a\"],[0.8888888888888888,\"#fdca26\"],[1.0,\"#f0f921\"]]}],\"mesh3d\":[{\"type\":\"mesh3d\",\"colorbar\":{\"outlinewidth\":0,\"ticks\":\"\"}}],\"scatter\":[{\"fillpattern\":{\"fillmode\":\"overlay\",\"size\":10,\"solidity\":0.2},\"type\":\"scatter\"}],\"parcoords\":[{\"type\":\"parcoords\",\"line\":{\"colorbar\":{\"outlinewidth\":0,\"ticks\":\"\"}}}],\"scatterpolargl\":[{\"type\":\"scatterpolargl\",\"marker\":{\"colorbar\":{\"outlinewidth\":0,\"ticks\":\"\"}}}],\"bar\":[{\"error_x\":{\"color\":\"#2a3f5f\"},\"error_y\":{\"color\":\"#2a3f5f\"},\"marker\":{\"line\":{\"color\":\"#E5ECF6\",\"width\":0.5},\"pattern\":{\"fillmode\":\"overlay\",\"size\":10,\"solidity\":0.2}},\"type\":\"bar\"}],\"scattergeo\":[{\"type\":\"scattergeo\",\"marker\":{\"colorbar\":{\"outlinewidth\":0,\"ticks\":\"\"}}}],\"scatterpolar\":[{\"type\":\"scatterpolar\",\"marker\":{\"colorbar\":{\"outlinewidth\":0,\"ticks\":\"\"}}}],\"histogram\":[{\"marker\":{\"pattern\":{\"fillmode\":\"overlay\",\"size\":10,\"solidity\":0.2}},\"type\":\"histogram\"}],\"scattergl\":[{\"type\":\"scattergl\",\"marker\":{\"colorbar\":{\"outlinewidth\":0,\"ticks\":\"\"}}}],\"scatter3d\":[{\"type\":\"scatter3d\",\"line\":{\"colorbar\":{\"outlinewidth\":0,\"ticks\":\"\"}},\"marker\":{\"colorbar\":{\"outlinewidth\":0,\"ticks\":\"\"}}}],\"scattermapbox\":[{\"type\":\"scattermapbox\",\"marker\":{\"colorbar\":{\"outlinewidth\":0,\"ticks\":\"\"}}}],\"scatterternary\":[{\"type\":\"scatterternary\",\"marker\":{\"colorbar\":{\"outlinewidth\":0,\"ticks\":\"\"}}}],\"scattercarpet\":[{\"type\":\"scattercarpet\",\"marker\":{\"colorbar\":{\"outlinewidth\":0,\"ticks\":\"\"}}}],\"carpet\":[{\"aaxis\":{\"endlinecolor\":\"#2a3f5f\",\"gridcolor\":\"white\",\"linecolor\":\"white\",\"minorgridcolor\":\"white\",\"startlinecolor\":\"#2a3f5f\"},\"baxis\":{\"endlinecolor\":\"#2a3f5f\",\"gridcolor\":\"white\",\"linecolor\":\"white\",\"minorgridcolor\":\"white\",\"startlinecolor\":\"#2a3f5f\"},\"type\":\"carpet\"}],\"table\":[{\"cells\":{\"fill\":{\"color\":\"#EBF0F8\"},\"line\":{\"color\":\"white\"}},\"header\":{\"fill\":{\"color\":\"#C8D4E3\"},\"line\":{\"color\":\"white\"}},\"type\":\"table\"}],\"barpolar\":[{\"marker\":{\"line\":{\"color\":\"#E5ECF6\",\"width\":0.5},\"pattern\":{\"fillmode\":\"overlay\",\"size\":10,\"solidity\":0.2}},\"type\":\"barpolar\"}],\"pie\":[{\"automargin\":true,\"type\":\"pie\"}]},\"layout\":{\"autotypenumbers\":\"strict\",\"colorway\":[\"#636efa\",\"#EF553B\",\"#00cc96\",\"#ab63fa\",\"#FFA15A\",\"#19d3f3\",\"#FF6692\",\"#B6E880\",\"#FF97FF\",\"#FECB52\"],\"font\":{\"color\":\"#2a3f5f\"},\"hovermode\":\"closest\",\"hoverlabel\":{\"align\":\"left\"},\"paper_bgcolor\":\"white\",\"plot_bgcolor\":\"#E5ECF6\",\"polar\":{\"bgcolor\":\"#E5ECF6\",\"angularaxis\":{\"gridcolor\":\"white\",\"linecolor\":\"white\",\"ticks\":\"\"},\"radialaxis\":{\"gridcolor\":\"white\",\"linecolor\":\"white\",\"ticks\":\"\"}},\"ternary\":{\"bgcolor\":\"#E5ECF6\",\"aaxis\":{\"gridcolor\":\"white\",\"linecolor\":\"white\",\"ticks\":\"\"},\"baxis\":{\"gridcolor\":\"white\",\"linecolor\":\"white\",\"ticks\":\"\"},\"caxis\":{\"gridcolor\":\"white\",\"linecolor\":\"white\",\"ticks\":\"\"}},\"coloraxis\":{\"colorbar\":{\"outlinewidth\":0,\"ticks\":\"\"}},\"colorscale\":{\"sequential\":[[0.0,\"#0d0887\"],[0.1111111111111111,\"#46039f\"],[0.2222222222222222,\"#7201a8\"],[0.3333333333333333,\"#9c179e\"],[0.4444444444444444,\"#bd3786\"],[0.5555555555555556,\"#d8576b\"],[0.6666666666666666,\"#ed7953\"],[0.7777777777777778,\"#fb9f3a\"],[0.8888888888888888,\"#fdca26\"],[1.0,\"#f0f921\"]],\"sequentialminus\":[[0.0,\"#0d0887\"],[0.1111111111111111,\"#46039f\"],[0.2222222222222222,\"#7201a8\"],[0.3333333333333333,\"#9c179e\"],[0.4444444444444444,\"#bd3786\"],[0.5555555555555556,\"#d8576b\"],[0.6666666666666666,\"#ed7953\"],[0.7777777777777778,\"#fb9f3a\"],[0.8888888888888888,\"#fdca26\"],[1.0,\"#f0f921\"]],\"diverging\":[[0,\"#8e0152\"],[0.1,\"#c51b7d\"],[0.2,\"#de77ae\"],[0.3,\"#f1b6da\"],[0.4,\"#fde0ef\"],[0.5,\"#f7f7f7\"],[0.6,\"#e6f5d0\"],[0.7,\"#b8e186\"],[0.8,\"#7fbc41\"],[0.9,\"#4d9221\"],[1,\"#276419\"]]},\"xaxis\":{\"gridcolor\":\"white\",\"linecolor\":\"white\",\"ticks\":\"\",\"title\":{\"standoff\":15},\"zerolinecolor\":\"white\",\"automargin\":true,\"zerolinewidth\":2},\"yaxis\":{\"gridcolor\":\"white\",\"linecolor\":\"white\",\"ticks\":\"\",\"title\":{\"standoff\":15},\"zerolinecolor\":\"white\",\"automargin\":true,\"zerolinewidth\":2},\"scene\":{\"xaxis\":{\"backgroundcolor\":\"#E5ECF6\",\"gridcolor\":\"white\",\"linecolor\":\"white\",\"showbackground\":true,\"ticks\":\"\",\"zerolinecolor\":\"white\",\"gridwidth\":2},\"yaxis\":{\"backgroundcolor\":\"#E5ECF6\",\"gridcolor\":\"white\",\"linecolor\":\"white\",\"showbackground\":true,\"ticks\":\"\",\"zerolinecolor\":\"white\",\"gridwidth\":2},\"zaxis\":{\"backgroundcolor\":\"#E5ECF6\",\"gridcolor\":\"white\",\"linecolor\":\"white\",\"showbackground\":true,\"ticks\":\"\",\"zerolinecolor\":\"white\",\"gridwidth\":2}},\"shapedefaults\":{\"line\":{\"color\":\"#2a3f5f\"}},\"annotationdefaults\":{\"arrowcolor\":\"#2a3f5f\",\"arrowhead\":0,\"arrowwidth\":1},\"geo\":{\"bgcolor\":\"white\",\"landcolor\":\"#E5ECF6\",\"subunitcolor\":\"white\",\"showland\":true,\"showlakes\":true,\"lakecolor\":\"white\"},\"title\":{\"x\":0.05},\"mapbox\":{\"style\":\"light\"}}},\"xaxis\":{\"anchor\":\"y\",\"domain\":[0.0,1.0],\"matches\":\"x4\",\"showticklabels\":false},\"yaxis\":{\"anchor\":\"x\",\"domain\":[0.7875,1.0],\"type\":\"log\",\"title\":{\"text\":\"time (secs)\"}},\"xaxis2\":{\"anchor\":\"y2\",\"domain\":[0.0,1.0],\"matches\":\"x4\",\"showticklabels\":false},\"yaxis2\":{\"anchor\":\"x2\",\"domain\":[0.525,0.7375],\"type\":\"log\",\"title\":{\"text\":\"number of rules\"}},\"xaxis3\":{\"anchor\":\"y3\",\"domain\":[0.0,1.0],\"matches\":\"x4\",\"showticklabels\":false},\"yaxis3\":{\"anchor\":\"x3\",\"domain\":[0.2625,0.475],\"title\":{\"text\":\"f-score\"}},\"xaxis4\":{\"anchor\":\"y4\",\"domain\":[0.0,1.0]},\"yaxis4\":{\"anchor\":\"x4\",\"domain\":[0.0,0.2125],\"title\":{\"text\":\"balanced accuracy\"}},\"title\":{\"text\":\"balanced accuracy, f-score, number of rules and training time on core suite\"},\"plot_bgcolor\":\"whitesmoke\",\"height\":600,\"width\":1000},                        {\"responsive\": true}                    ).then(function(){\n",
       "                            \n",
       "var gd = document.getElementById('a565b63f-3057-4240-8e8e-960013fb54ab');\n",
       "var x = new MutationObserver(function (mutations, observer) {{\n",
       "        var display = window.getComputedStyle(gd).display;\n",
       "        if (!display || display === 'none') {{\n",
       "            console.log([gd, 'removed!']);\n",
       "            Plotly.purge(gd);\n",
       "            observer.disconnect();\n",
       "        }}\n",
       "}});\n",
       "\n",
       "// Listen for the removal of the full notebook cells\n",
       "var notebookContainer = gd.closest('#notebook-container');\n",
       "if (notebookContainer) {{\n",
       "    x.observe(notebookContainer, {childList: true});\n",
       "}}\n",
       "\n",
       "// Listen for the clearing of the current output cell\n",
       "var outputEl = gd.closest('.output');\n",
       "if (outputEl) {{\n",
       "    x.observe(outputEl, {childList: true});\n",
       "}}\n",
       "\n",
       "                        })                };                });            </script>        </div>"
      ]
     },
     "metadata": {},
     "output_type": "display_data"
    }
   ],
   "source": [
    "perf_metric = ('f','adj_bal_acc', 'f')\n",
    "sorted_df = df_core_suite.sort_values('LENC-XGB_'+perf_metric[0], ignore_index=True)\n",
    "quad_chart(pipelines=['BRSPREP-BRS', 'NATIVE-R2N'], performance_metric_1=perf_metric[1], performance_metric_2=perf_metric[2] , complexity_metric='nof_rules', df=sorted_df, df_long_name='core suite')"
   ]
  },
  {
   "attachments": {},
   "cell_type": "markdown",
   "metadata": {},
   "source": [
    "### IGUANAS"
   ]
  },
  {
   "cell_type": "code",
   "execution_count": null,
   "metadata": {},
   "outputs": [
    {
     "data": {
      "application/vnd.plotly.v1+json": {
       "config": {
        "plotlyServerURL": "https://plot.ly"
       },
       "data": [
        {
         "line": {
          "color": "gray",
          "dash": "solid",
          "width": 2
         },
         "marker": {
          "symbol": "circle"
         },
         "mode": "markers+lines",
         "name": "LENC-XGB",
         "showlegend": true,
         "type": "scatter",
         "x": [
          "orange_churn",
          "bike_75",
          "taiwan_credit",
          "fraud_oracle",
          "german_credit",
          "orange_up",
          "bank_marketing",
          "compas",
          "heloc",
          "adult",
          "telco_churn_2",
          "telco_churn",
          "house",
          "boston",
          "fraud_detection",
          "electricity",
          "bike_mean"
         ],
         "xaxis": "x4",
         "y": [
          0.03,
          0.14,
          0.29,
          0.33,
          0.28,
          0.4,
          0.5,
          0.32,
          0.38,
          0.61,
          0.48,
          0.73,
          0.71,
          0.75,
          0.83,
          0.82,
          0.86
         ],
         "yaxis": "y4"
        },
        {
         "line": {
          "color": "darkkhaki",
          "dash": "solid",
          "width": 2
         },
         "marker": {
          "symbol": "cross"
         },
         "mode": "markers+lines",
         "name": "NATIVE-CONST",
         "showlegend": true,
         "type": "scatter",
         "x": [
          "orange_churn",
          "bike_75",
          "taiwan_credit",
          "fraud_oracle",
          "german_credit",
          "orange_up",
          "bank_marketing",
          "compas",
          "heloc",
          "adult",
          "telco_churn_2",
          "telco_churn",
          "house",
          "boston",
          "fraud_detection",
          "electricity",
          "bike_mean"
         ],
         "xaxis": "x4",
         "y": [
          0,
          0,
          0,
          0,
          0,
          0,
          0,
          0,
          0,
          0,
          0,
          0,
          0,
          0,
          0,
          0,
          0
         ],
         "yaxis": "y4"
        },
        {
         "line": {
          "color": "yellowgreen",
          "dash": "solid",
          "width": 2
         },
         "marker": {
          "symbol": "cross"
         },
         "mode": "markers+lines",
         "name": "IGPREP-IGUANASOPTCV",
         "showlegend": true,
         "type": "scatter",
         "x": [
          "orange_churn",
          "bike_75",
          "taiwan_credit",
          "fraud_oracle",
          "german_credit",
          "orange_up",
          "bank_marketing",
          "compas",
          "heloc",
          "adult",
          "telco_churn_2",
          "telco_churn",
          "house",
          "boston",
          "fraud_detection",
          "electricity",
          "bike_mean"
         ],
         "xaxis": "x4",
         "y": [
          0.21,
          0.65,
          0.34,
          0.31,
          0.35,
          0.41,
          0.73,
          0.27,
          0.33,
          0.59,
          0.32,
          0.63,
          0.6,
          0.65,
          0.8,
          0.44,
          0.46
         ],
         "yaxis": "y4"
        },
        {
         "line": {
          "color": "silver",
          "dash": "dot",
          "width": 2
         },
         "marker": {
          "symbol": "square"
         },
         "mode": "markers+lines",
         "name": "NATIVE-R2N",
         "showlegend": true,
         "type": "scatter",
         "x": [
          "orange_churn",
          "bike_75",
          "taiwan_credit",
          "fraud_oracle",
          "german_credit",
          "orange_up",
          "bank_marketing",
          "compas",
          "heloc",
          "adult",
          "telco_churn_2",
          "telco_churn",
          "house",
          "boston",
          "fraud_detection",
          "electricity",
          "bike_mean"
         ],
         "xaxis": "x4",
         "y": [
          null,
          0,
          0.27,
          0,
          0,
          null,
          0.21,
          0.28,
          0.39,
          0.53,
          0.31,
          0.49,
          0.6,
          0.77,
          0,
          0.49,
          0.44
         ],
         "yaxis": "y4"
        },
        {
         "line": {
          "color": "gray",
          "dash": "solid",
          "width": 2
         },
         "marker": {
          "symbol": "circle"
         },
         "mode": "markers+lines",
         "name": "LENC-XGB",
         "showlegend": false,
         "type": "scatter",
         "x": [
          "orange_churn",
          "bike_75",
          "taiwan_credit",
          "fraud_oracle",
          "german_credit",
          "orange_up",
          "bank_marketing",
          "compas",
          "heloc",
          "adult",
          "telco_churn_2",
          "telco_churn",
          "house",
          "boston",
          "fraud_detection",
          "electricity",
          "bike_mean"
         ],
         "xaxis": "x3",
         "y": [
          0.07,
          0.21,
          0.45,
          0.47,
          0.47,
          0.54,
          0.57,
          0.62,
          0.67,
          0.71,
          0.73,
          0.81,
          0.81,
          0.86,
          0.89,
          0.9,
          0.92
         ],
         "yaxis": "y3"
        },
        {
         "line": {
          "color": "darkkhaki",
          "dash": "solid",
          "width": 2
         },
         "marker": {
          "symbol": "cross"
         },
         "mode": "markers+lines",
         "name": "NATIVE-CONST",
         "showlegend": false,
         "type": "scatter",
         "x": [
          "orange_churn",
          "bike_75",
          "taiwan_credit",
          "fraud_oracle",
          "german_credit",
          "orange_up",
          "bank_marketing",
          "compas",
          "heloc",
          "adult",
          "telco_churn_2",
          "telco_churn",
          "house",
          "boston",
          "fraud_detection",
          "electricity",
          "bike_mean"
         ],
         "xaxis": "x3",
         "y": [
          0.14,
          0.02,
          0.37,
          0.11,
          0.44,
          0.14,
          0.2,
          0.61,
          0.65,
          0.39,
          0.68,
          0.26,
          0.46,
          0.62,
          0,
          0.6,
          0.58
         ],
         "yaxis": "y3"
        },
        {
         "line": {
          "color": "yellowgreen",
          "dash": "solid",
          "width": 2
         },
         "marker": {
          "symbol": "cross"
         },
         "mode": "markers+lines",
         "name": "IGPREP-IGUANASOPTCV",
         "showlegend": false,
         "type": "scatter",
         "x": [
          "orange_churn",
          "bike_75",
          "taiwan_credit",
          "fraud_oracle",
          "german_credit",
          "orange_up",
          "bank_marketing",
          "compas",
          "heloc",
          "adult",
          "telco_churn_2",
          "telco_churn",
          "house",
          "boston",
          "fraud_detection",
          "electricity",
          "bike_mean"
         ],
         "xaxis": "x3",
         "y": [
          0.21,
          0.42,
          0.49,
          0.2,
          0.54,
          0.54,
          0.61,
          0.62,
          0.69,
          0.64,
          0.73,
          0.7,
          0.7,
          0.81,
          0.78,
          0.71,
          0.66
         ],
         "yaxis": "y3"
        },
        {
         "line": {
          "color": "silver",
          "dash": "dot",
          "width": 2
         },
         "marker": {
          "symbol": "square"
         },
         "mode": "markers+lines",
         "name": "NATIVE-R2N",
         "showlegend": false,
         "type": "scatter",
         "x": [
          "orange_churn",
          "bike_75",
          "taiwan_credit",
          "fraud_oracle",
          "german_credit",
          "orange_up",
          "bank_marketing",
          "compas",
          "heloc",
          "adult",
          "telco_churn_2",
          "telco_churn",
          "house",
          "boston",
          "fraud_detection",
          "electricity",
          "bike_mean"
         ],
         "xaxis": "x3",
         "y": [
          null,
          0,
          0.43,
          0,
          0,
          null,
          0.32,
          0.57,
          0.66,
          0.59,
          0.56,
          0.63,
          0.71,
          0.88,
          0,
          0.69,
          0.68
         ],
         "yaxis": "y3"
        },
        {
         "line": {
          "color": "yellowgreen",
          "dash": "solid",
          "width": 2
         },
         "marker": {
          "symbol": "cross"
         },
         "mode": "markers+lines",
         "name": "IGPREP-IGUANASOPTCV",
         "showlegend": false,
         "type": "scatter",
         "x": [
          "orange_churn",
          "bike_75",
          "taiwan_credit",
          "fraud_oracle",
          "german_credit",
          "orange_up",
          "bank_marketing",
          "compas",
          "heloc",
          "adult",
          "telco_churn_2",
          "telco_churn",
          "house",
          "boston",
          "fraud_detection",
          "electricity",
          "bike_mean"
         ],
         "xaxis": "x2",
         "y": [
          94,
          8,
          13,
          58,
          15,
          60,
          100,
          163,
          21,
          30,
          65,
          18,
          13,
          9,
          14,
          262,
          2
         ],
         "yaxis": "y2"
        },
        {
         "line": {
          "color": "silver",
          "dash": "dot",
          "width": 2
         },
         "marker": {
          "symbol": "square"
         },
         "mode": "markers+lines",
         "name": "NATIVE-R2N",
         "showlegend": false,
         "type": "scatter",
         "x": [
          "orange_churn",
          "bike_75",
          "taiwan_credit",
          "fraud_oracle",
          "german_credit",
          "orange_up",
          "bank_marketing",
          "compas",
          "heloc",
          "adult",
          "telco_churn_2",
          "telco_churn",
          "house",
          "boston",
          "fraud_detection",
          "electricity",
          "bike_mean"
         ],
         "xaxis": "x2",
         "y": [
          null,
          1,
          3,
          1,
          4,
          null,
          3,
          4,
          2,
          4,
          4,
          4,
          4,
          5,
          1,
          4,
          3
         ],
         "yaxis": "y2"
        },
        {
         "line": {
          "color": "gray",
          "dash": "solid",
          "width": 2
         },
         "marker": {
          "symbol": "circle"
         },
         "mode": "markers+lines",
         "name": "LENC-XGB",
         "showlegend": false,
         "type": "scatter",
         "x": [
          "orange_churn",
          "bike_75",
          "taiwan_credit",
          "fraud_oracle",
          "german_credit",
          "orange_up",
          "bank_marketing",
          "compas",
          "heloc",
          "adult",
          "telco_churn_2",
          "telco_churn",
          "house",
          "boston",
          "fraud_detection",
          "electricity",
          "bike_mean"
         ],
         "xaxis": "x",
         "y": [
          3.52,
          1.15,
          1.8399999999999999,
          1.53,
          1.19,
          3.51,
          1.25,
          1.26,
          1.34,
          1.41,
          1.23,
          1.23,
          1.69,
          1.1,
          5.96,
          1.71,
          1.31
         ],
         "yaxis": "y"
        },
        {
         "line": {
          "color": "yellowgreen",
          "dash": "solid",
          "width": 2
         },
         "marker": {
          "symbol": "cross"
         },
         "mode": "markers+lines",
         "name": "IGPREP-IGUANASOPTCV",
         "showlegend": false,
         "type": "scatter",
         "x": [
          "orange_churn",
          "bike_75",
          "taiwan_credit",
          "fraud_oracle",
          "german_credit",
          "orange_up",
          "bank_marketing",
          "compas",
          "heloc",
          "adult",
          "telco_churn_2",
          "telco_churn",
          "house",
          "boston",
          "fraud_detection",
          "electricity",
          "bike_mean"
         ],
         "xaxis": "x",
         "y": [
          275.82,
          33.62,
          149.09,
          60.73,
          63.04,
          270.21,
          67.87,
          62.43,
          92.82,
          101.43,
          77.36,
          70.63,
          182.63,
          65.53,
          2791.5,
          165.39,
          67.98
         ],
         "yaxis": "y"
        },
        {
         "line": {
          "color": "silver",
          "dash": "dot",
          "width": 2
         },
         "marker": {
          "symbol": "square"
         },
         "mode": "markers+lines",
         "name": "NATIVE-R2N",
         "showlegend": false,
         "type": "scatter",
         "x": [
          "orange_churn",
          "bike_75",
          "taiwan_credit",
          "fraud_oracle",
          "german_credit",
          "orange_up",
          "bank_marketing",
          "compas",
          "heloc",
          "adult",
          "telco_churn_2",
          "telco_churn",
          "house",
          "boston",
          "fraud_detection",
          "electricity",
          "bike_mean"
         ],
         "xaxis": "x",
         "y": [
          0,
          189.21,
          569.03,
          298.55,
          17.25,
          0,
          66.94,
          99.04,
          170.89,
          626.75,
          32.79,
          55.26,
          357.45,
          9.94,
          4448.07,
          700.06,
          193.01
         ],
         "yaxis": "y"
        }
       ],
       "layout": {
        "height": 600,
        "plot_bgcolor": "whitesmoke",
        "template": {
         "data": {
          "bar": [
           {
            "error_x": {
             "color": "#2a3f5f"
            },
            "error_y": {
             "color": "#2a3f5f"
            },
            "marker": {
             "line": {
              "color": "#E5ECF6",
              "width": 0.5
             },
             "pattern": {
              "fillmode": "overlay",
              "size": 10,
              "solidity": 0.2
             }
            },
            "type": "bar"
           }
          ],
          "barpolar": [
           {
            "marker": {
             "line": {
              "color": "#E5ECF6",
              "width": 0.5
             },
             "pattern": {
              "fillmode": "overlay",
              "size": 10,
              "solidity": 0.2
             }
            },
            "type": "barpolar"
           }
          ],
          "carpet": [
           {
            "aaxis": {
             "endlinecolor": "#2a3f5f",
             "gridcolor": "white",
             "linecolor": "white",
             "minorgridcolor": "white",
             "startlinecolor": "#2a3f5f"
            },
            "baxis": {
             "endlinecolor": "#2a3f5f",
             "gridcolor": "white",
             "linecolor": "white",
             "minorgridcolor": "white",
             "startlinecolor": "#2a3f5f"
            },
            "type": "carpet"
           }
          ],
          "choropleth": [
           {
            "colorbar": {
             "outlinewidth": 0,
             "ticks": ""
            },
            "type": "choropleth"
           }
          ],
          "contour": [
           {
            "colorbar": {
             "outlinewidth": 0,
             "ticks": ""
            },
            "colorscale": [
             [
              0,
              "#0d0887"
             ],
             [
              0.1111111111111111,
              "#46039f"
             ],
             [
              0.2222222222222222,
              "#7201a8"
             ],
             [
              0.3333333333333333,
              "#9c179e"
             ],
             [
              0.4444444444444444,
              "#bd3786"
             ],
             [
              0.5555555555555556,
              "#d8576b"
             ],
             [
              0.6666666666666666,
              "#ed7953"
             ],
             [
              0.7777777777777778,
              "#fb9f3a"
             ],
             [
              0.8888888888888888,
              "#fdca26"
             ],
             [
              1,
              "#f0f921"
             ]
            ],
            "type": "contour"
           }
          ],
          "contourcarpet": [
           {
            "colorbar": {
             "outlinewidth": 0,
             "ticks": ""
            },
            "type": "contourcarpet"
           }
          ],
          "heatmap": [
           {
            "colorbar": {
             "outlinewidth": 0,
             "ticks": ""
            },
            "colorscale": [
             [
              0,
              "#0d0887"
             ],
             [
              0.1111111111111111,
              "#46039f"
             ],
             [
              0.2222222222222222,
              "#7201a8"
             ],
             [
              0.3333333333333333,
              "#9c179e"
             ],
             [
              0.4444444444444444,
              "#bd3786"
             ],
             [
              0.5555555555555556,
              "#d8576b"
             ],
             [
              0.6666666666666666,
              "#ed7953"
             ],
             [
              0.7777777777777778,
              "#fb9f3a"
             ],
             [
              0.8888888888888888,
              "#fdca26"
             ],
             [
              1,
              "#f0f921"
             ]
            ],
            "type": "heatmap"
           }
          ],
          "heatmapgl": [
           {
            "colorbar": {
             "outlinewidth": 0,
             "ticks": ""
            },
            "colorscale": [
             [
              0,
              "#0d0887"
             ],
             [
              0.1111111111111111,
              "#46039f"
             ],
             [
              0.2222222222222222,
              "#7201a8"
             ],
             [
              0.3333333333333333,
              "#9c179e"
             ],
             [
              0.4444444444444444,
              "#bd3786"
             ],
             [
              0.5555555555555556,
              "#d8576b"
             ],
             [
              0.6666666666666666,
              "#ed7953"
             ],
             [
              0.7777777777777778,
              "#fb9f3a"
             ],
             [
              0.8888888888888888,
              "#fdca26"
             ],
             [
              1,
              "#f0f921"
             ]
            ],
            "type": "heatmapgl"
           }
          ],
          "histogram": [
           {
            "marker": {
             "pattern": {
              "fillmode": "overlay",
              "size": 10,
              "solidity": 0.2
             }
            },
            "type": "histogram"
           }
          ],
          "histogram2d": [
           {
            "colorbar": {
             "outlinewidth": 0,
             "ticks": ""
            },
            "colorscale": [
             [
              0,
              "#0d0887"
             ],
             [
              0.1111111111111111,
              "#46039f"
             ],
             [
              0.2222222222222222,
              "#7201a8"
             ],
             [
              0.3333333333333333,
              "#9c179e"
             ],
             [
              0.4444444444444444,
              "#bd3786"
             ],
             [
              0.5555555555555556,
              "#d8576b"
             ],
             [
              0.6666666666666666,
              "#ed7953"
             ],
             [
              0.7777777777777778,
              "#fb9f3a"
             ],
             [
              0.8888888888888888,
              "#fdca26"
             ],
             [
              1,
              "#f0f921"
             ]
            ],
            "type": "histogram2d"
           }
          ],
          "histogram2dcontour": [
           {
            "colorbar": {
             "outlinewidth": 0,
             "ticks": ""
            },
            "colorscale": [
             [
              0,
              "#0d0887"
             ],
             [
              0.1111111111111111,
              "#46039f"
             ],
             [
              0.2222222222222222,
              "#7201a8"
             ],
             [
              0.3333333333333333,
              "#9c179e"
             ],
             [
              0.4444444444444444,
              "#bd3786"
             ],
             [
              0.5555555555555556,
              "#d8576b"
             ],
             [
              0.6666666666666666,
              "#ed7953"
             ],
             [
              0.7777777777777778,
              "#fb9f3a"
             ],
             [
              0.8888888888888888,
              "#fdca26"
             ],
             [
              1,
              "#f0f921"
             ]
            ],
            "type": "histogram2dcontour"
           }
          ],
          "mesh3d": [
           {
            "colorbar": {
             "outlinewidth": 0,
             "ticks": ""
            },
            "type": "mesh3d"
           }
          ],
          "parcoords": [
           {
            "line": {
             "colorbar": {
              "outlinewidth": 0,
              "ticks": ""
             }
            },
            "type": "parcoords"
           }
          ],
          "pie": [
           {
            "automargin": true,
            "type": "pie"
           }
          ],
          "scatter": [
           {
            "fillpattern": {
             "fillmode": "overlay",
             "size": 10,
             "solidity": 0.2
            },
            "type": "scatter"
           }
          ],
          "scatter3d": [
           {
            "line": {
             "colorbar": {
              "outlinewidth": 0,
              "ticks": ""
             }
            },
            "marker": {
             "colorbar": {
              "outlinewidth": 0,
              "ticks": ""
             }
            },
            "type": "scatter3d"
           }
          ],
          "scattercarpet": [
           {
            "marker": {
             "colorbar": {
              "outlinewidth": 0,
              "ticks": ""
             }
            },
            "type": "scattercarpet"
           }
          ],
          "scattergeo": [
           {
            "marker": {
             "colorbar": {
              "outlinewidth": 0,
              "ticks": ""
             }
            },
            "type": "scattergeo"
           }
          ],
          "scattergl": [
           {
            "marker": {
             "colorbar": {
              "outlinewidth": 0,
              "ticks": ""
             }
            },
            "type": "scattergl"
           }
          ],
          "scattermapbox": [
           {
            "marker": {
             "colorbar": {
              "outlinewidth": 0,
              "ticks": ""
             }
            },
            "type": "scattermapbox"
           }
          ],
          "scatterpolar": [
           {
            "marker": {
             "colorbar": {
              "outlinewidth": 0,
              "ticks": ""
             }
            },
            "type": "scatterpolar"
           }
          ],
          "scatterpolargl": [
           {
            "marker": {
             "colorbar": {
              "outlinewidth": 0,
              "ticks": ""
             }
            },
            "type": "scatterpolargl"
           }
          ],
          "scatterternary": [
           {
            "marker": {
             "colorbar": {
              "outlinewidth": 0,
              "ticks": ""
             }
            },
            "type": "scatterternary"
           }
          ],
          "surface": [
           {
            "colorbar": {
             "outlinewidth": 0,
             "ticks": ""
            },
            "colorscale": [
             [
              0,
              "#0d0887"
             ],
             [
              0.1111111111111111,
              "#46039f"
             ],
             [
              0.2222222222222222,
              "#7201a8"
             ],
             [
              0.3333333333333333,
              "#9c179e"
             ],
             [
              0.4444444444444444,
              "#bd3786"
             ],
             [
              0.5555555555555556,
              "#d8576b"
             ],
             [
              0.6666666666666666,
              "#ed7953"
             ],
             [
              0.7777777777777778,
              "#fb9f3a"
             ],
             [
              0.8888888888888888,
              "#fdca26"
             ],
             [
              1,
              "#f0f921"
             ]
            ],
            "type": "surface"
           }
          ],
          "table": [
           {
            "cells": {
             "fill": {
              "color": "#EBF0F8"
             },
             "line": {
              "color": "white"
             }
            },
            "header": {
             "fill": {
              "color": "#C8D4E3"
             },
             "line": {
              "color": "white"
             }
            },
            "type": "table"
           }
          ]
         },
         "layout": {
          "annotationdefaults": {
           "arrowcolor": "#2a3f5f",
           "arrowhead": 0,
           "arrowwidth": 1
          },
          "autotypenumbers": "strict",
          "coloraxis": {
           "colorbar": {
            "outlinewidth": 0,
            "ticks": ""
           }
          },
          "colorscale": {
           "diverging": [
            [
             0,
             "#8e0152"
            ],
            [
             0.1,
             "#c51b7d"
            ],
            [
             0.2,
             "#de77ae"
            ],
            [
             0.3,
             "#f1b6da"
            ],
            [
             0.4,
             "#fde0ef"
            ],
            [
             0.5,
             "#f7f7f7"
            ],
            [
             0.6,
             "#e6f5d0"
            ],
            [
             0.7,
             "#b8e186"
            ],
            [
             0.8,
             "#7fbc41"
            ],
            [
             0.9,
             "#4d9221"
            ],
            [
             1,
             "#276419"
            ]
           ],
           "sequential": [
            [
             0,
             "#0d0887"
            ],
            [
             0.1111111111111111,
             "#46039f"
            ],
            [
             0.2222222222222222,
             "#7201a8"
            ],
            [
             0.3333333333333333,
             "#9c179e"
            ],
            [
             0.4444444444444444,
             "#bd3786"
            ],
            [
             0.5555555555555556,
             "#d8576b"
            ],
            [
             0.6666666666666666,
             "#ed7953"
            ],
            [
             0.7777777777777778,
             "#fb9f3a"
            ],
            [
             0.8888888888888888,
             "#fdca26"
            ],
            [
             1,
             "#f0f921"
            ]
           ],
           "sequentialminus": [
            [
             0,
             "#0d0887"
            ],
            [
             0.1111111111111111,
             "#46039f"
            ],
            [
             0.2222222222222222,
             "#7201a8"
            ],
            [
             0.3333333333333333,
             "#9c179e"
            ],
            [
             0.4444444444444444,
             "#bd3786"
            ],
            [
             0.5555555555555556,
             "#d8576b"
            ],
            [
             0.6666666666666666,
             "#ed7953"
            ],
            [
             0.7777777777777778,
             "#fb9f3a"
            ],
            [
             0.8888888888888888,
             "#fdca26"
            ],
            [
             1,
             "#f0f921"
            ]
           ]
          },
          "colorway": [
           "#636efa",
           "#EF553B",
           "#00cc96",
           "#ab63fa",
           "#FFA15A",
           "#19d3f3",
           "#FF6692",
           "#B6E880",
           "#FF97FF",
           "#FECB52"
          ],
          "font": {
           "color": "#2a3f5f"
          },
          "geo": {
           "bgcolor": "white",
           "lakecolor": "white",
           "landcolor": "#E5ECF6",
           "showlakes": true,
           "showland": true,
           "subunitcolor": "white"
          },
          "hoverlabel": {
           "align": "left"
          },
          "hovermode": "closest",
          "mapbox": {
           "style": "light"
          },
          "paper_bgcolor": "white",
          "plot_bgcolor": "#E5ECF6",
          "polar": {
           "angularaxis": {
            "gridcolor": "white",
            "linecolor": "white",
            "ticks": ""
           },
           "bgcolor": "#E5ECF6",
           "radialaxis": {
            "gridcolor": "white",
            "linecolor": "white",
            "ticks": ""
           }
          },
          "scene": {
           "xaxis": {
            "backgroundcolor": "#E5ECF6",
            "gridcolor": "white",
            "gridwidth": 2,
            "linecolor": "white",
            "showbackground": true,
            "ticks": "",
            "zerolinecolor": "white"
           },
           "yaxis": {
            "backgroundcolor": "#E5ECF6",
            "gridcolor": "white",
            "gridwidth": 2,
            "linecolor": "white",
            "showbackground": true,
            "ticks": "",
            "zerolinecolor": "white"
           },
           "zaxis": {
            "backgroundcolor": "#E5ECF6",
            "gridcolor": "white",
            "gridwidth": 2,
            "linecolor": "white",
            "showbackground": true,
            "ticks": "",
            "zerolinecolor": "white"
           }
          },
          "shapedefaults": {
           "line": {
            "color": "#2a3f5f"
           }
          },
          "ternary": {
           "aaxis": {
            "gridcolor": "white",
            "linecolor": "white",
            "ticks": ""
           },
           "baxis": {
            "gridcolor": "white",
            "linecolor": "white",
            "ticks": ""
           },
           "bgcolor": "#E5ECF6",
           "caxis": {
            "gridcolor": "white",
            "linecolor": "white",
            "ticks": ""
           }
          },
          "title": {
           "x": 0.05
          },
          "xaxis": {
           "automargin": true,
           "gridcolor": "white",
           "linecolor": "white",
           "ticks": "",
           "title": {
            "standoff": 15
           },
           "zerolinecolor": "white",
           "zerolinewidth": 2
          },
          "yaxis": {
           "automargin": true,
           "gridcolor": "white",
           "linecolor": "white",
           "ticks": "",
           "title": {
            "standoff": 15
           },
           "zerolinecolor": "white",
           "zerolinewidth": 2
          }
         }
        },
        "title": {
         "text": "balanced accuracy, f-score, number of rules and training time on core suite"
        },
        "width": 1000,
        "xaxis": {
         "anchor": "y",
         "domain": [
          0,
          1
         ],
         "matches": "x4",
         "showticklabels": false
        },
        "xaxis2": {
         "anchor": "y2",
         "domain": [
          0,
          1
         ],
         "matches": "x4",
         "showticklabels": false
        },
        "xaxis3": {
         "anchor": "y3",
         "domain": [
          0,
          1
         ],
         "matches": "x4",
         "showticklabels": false
        },
        "xaxis4": {
         "anchor": "y4",
         "domain": [
          0,
          1
         ]
        },
        "yaxis": {
         "anchor": "x",
         "domain": [
          0.7875,
          1
         ],
         "title": {
          "text": "time (secs)"
         },
         "type": "log"
        },
        "yaxis2": {
         "anchor": "x2",
         "domain": [
          0.525,
          0.7375
         ],
         "title": {
          "text": "number of rules"
         },
         "type": "log"
        },
        "yaxis3": {
         "anchor": "x3",
         "domain": [
          0.2625,
          0.475
         ],
         "title": {
          "text": "f-score"
         }
        },
        "yaxis4": {
         "anchor": "x4",
         "domain": [
          0,
          0.2125
         ],
         "title": {
          "text": "balanced accuracy"
         }
        }
       }
      },
      "text/html": [
       "<div>                            <div id=\"061da3f0-31ce-419a-9dba-63a02cf85f88\" class=\"plotly-graph-div\" style=\"height:600px; width:1000px;\"></div>            <script type=\"text/javascript\">                require([\"plotly\"], function(Plotly) {                    window.PLOTLYENV=window.PLOTLYENV || {};                                    if (document.getElementById(\"061da3f0-31ce-419a-9dba-63a02cf85f88\")) {                    Plotly.newPlot(                        \"061da3f0-31ce-419a-9dba-63a02cf85f88\",                        [{\"line\":{\"color\":\"gray\",\"dash\":\"solid\",\"width\":2},\"marker\":{\"symbol\":\"circle\"},\"mode\":\"markers+lines\",\"name\":\"LENC-XGB\",\"showlegend\":true,\"x\":[\"orange_churn\",\"bike_75\",\"taiwan_credit\",\"fraud_oracle\",\"german_credit\",\"orange_up\",\"bank_marketing\",\"compas\",\"heloc\",\"adult\",\"telco_churn_2\",\"telco_churn\",\"house\",\"boston\",\"fraud_detection\",\"electricity\",\"bike_mean\"],\"y\":[0.03,0.14,0.29,0.33,0.28,0.4,0.5,0.32,0.38,0.61,0.48,0.73,0.71,0.75,0.83,0.82,0.86],\"type\":\"scatter\",\"xaxis\":\"x4\",\"yaxis\":\"y4\"},{\"line\":{\"color\":\"darkkhaki\",\"dash\":\"solid\",\"width\":2},\"marker\":{\"symbol\":\"cross\"},\"mode\":\"markers+lines\",\"name\":\"NATIVE-CONST\",\"showlegend\":true,\"x\":[\"orange_churn\",\"bike_75\",\"taiwan_credit\",\"fraud_oracle\",\"german_credit\",\"orange_up\",\"bank_marketing\",\"compas\",\"heloc\",\"adult\",\"telco_churn_2\",\"telco_churn\",\"house\",\"boston\",\"fraud_detection\",\"electricity\",\"bike_mean\"],\"y\":[0.0,0.0,0.0,0.0,0.0,0.0,0.0,0.0,0.0,0.0,0.0,0.0,0.0,0.0,0.0,0.0,0.0],\"type\":\"scatter\",\"xaxis\":\"x4\",\"yaxis\":\"y4\"},{\"line\":{\"color\":\"yellowgreen\",\"dash\":\"solid\",\"width\":2},\"marker\":{\"symbol\":\"cross\"},\"mode\":\"markers+lines\",\"name\":\"IGPREP-IGUANASOPTCV\",\"showlegend\":true,\"x\":[\"orange_churn\",\"bike_75\",\"taiwan_credit\",\"fraud_oracle\",\"german_credit\",\"orange_up\",\"bank_marketing\",\"compas\",\"heloc\",\"adult\",\"telco_churn_2\",\"telco_churn\",\"house\",\"boston\",\"fraud_detection\",\"electricity\",\"bike_mean\"],\"y\":[0.21,0.65,0.34,0.31,0.35,0.41,0.73,0.27,0.33,0.59,0.32,0.63,0.6,0.65,0.8,0.44,0.46],\"type\":\"scatter\",\"xaxis\":\"x4\",\"yaxis\":\"y4\"},{\"line\":{\"color\":\"silver\",\"dash\":\"dot\",\"width\":2},\"marker\":{\"symbol\":\"square\"},\"mode\":\"markers+lines\",\"name\":\"NATIVE-R2N\",\"showlegend\":true,\"x\":[\"orange_churn\",\"bike_75\",\"taiwan_credit\",\"fraud_oracle\",\"german_credit\",\"orange_up\",\"bank_marketing\",\"compas\",\"heloc\",\"adult\",\"telco_churn_2\",\"telco_churn\",\"house\",\"boston\",\"fraud_detection\",\"electricity\",\"bike_mean\"],\"y\":[null,0.0,0.27,0.0,0.0,null,0.21,0.28,0.39,0.53,0.31,0.49,0.6,0.77,0.0,0.49,0.44],\"type\":\"scatter\",\"xaxis\":\"x4\",\"yaxis\":\"y4\"},{\"line\":{\"color\":\"gray\",\"dash\":\"solid\",\"width\":2},\"marker\":{\"symbol\":\"circle\"},\"mode\":\"markers+lines\",\"name\":\"LENC-XGB\",\"showlegend\":false,\"x\":[\"orange_churn\",\"bike_75\",\"taiwan_credit\",\"fraud_oracle\",\"german_credit\",\"orange_up\",\"bank_marketing\",\"compas\",\"heloc\",\"adult\",\"telco_churn_2\",\"telco_churn\",\"house\",\"boston\",\"fraud_detection\",\"electricity\",\"bike_mean\"],\"y\":[0.07,0.21,0.45,0.47,0.47,0.54,0.57,0.62,0.67,0.71,0.73,0.81,0.81,0.86,0.89,0.9,0.92],\"type\":\"scatter\",\"xaxis\":\"x3\",\"yaxis\":\"y3\"},{\"line\":{\"color\":\"darkkhaki\",\"dash\":\"solid\",\"width\":2},\"marker\":{\"symbol\":\"cross\"},\"mode\":\"markers+lines\",\"name\":\"NATIVE-CONST\",\"showlegend\":false,\"x\":[\"orange_churn\",\"bike_75\",\"taiwan_credit\",\"fraud_oracle\",\"german_credit\",\"orange_up\",\"bank_marketing\",\"compas\",\"heloc\",\"adult\",\"telco_churn_2\",\"telco_churn\",\"house\",\"boston\",\"fraud_detection\",\"electricity\",\"bike_mean\"],\"y\":[0.14,0.02,0.37,0.11,0.44,0.14,0.2,0.61,0.65,0.39,0.68,0.26,0.46,0.62,0.0,0.6,0.58],\"type\":\"scatter\",\"xaxis\":\"x3\",\"yaxis\":\"y3\"},{\"line\":{\"color\":\"yellowgreen\",\"dash\":\"solid\",\"width\":2},\"marker\":{\"symbol\":\"cross\"},\"mode\":\"markers+lines\",\"name\":\"IGPREP-IGUANASOPTCV\",\"showlegend\":false,\"x\":[\"orange_churn\",\"bike_75\",\"taiwan_credit\",\"fraud_oracle\",\"german_credit\",\"orange_up\",\"bank_marketing\",\"compas\",\"heloc\",\"adult\",\"telco_churn_2\",\"telco_churn\",\"house\",\"boston\",\"fraud_detection\",\"electricity\",\"bike_mean\"],\"y\":[0.21,0.42,0.49,0.2,0.54,0.54,0.61,0.62,0.69,0.64,0.73,0.7,0.7,0.81,0.78,0.71,0.66],\"type\":\"scatter\",\"xaxis\":\"x3\",\"yaxis\":\"y3\"},{\"line\":{\"color\":\"silver\",\"dash\":\"dot\",\"width\":2},\"marker\":{\"symbol\":\"square\"},\"mode\":\"markers+lines\",\"name\":\"NATIVE-R2N\",\"showlegend\":false,\"x\":[\"orange_churn\",\"bike_75\",\"taiwan_credit\",\"fraud_oracle\",\"german_credit\",\"orange_up\",\"bank_marketing\",\"compas\",\"heloc\",\"adult\",\"telco_churn_2\",\"telco_churn\",\"house\",\"boston\",\"fraud_detection\",\"electricity\",\"bike_mean\"],\"y\":[null,0.0,0.43,0.0,0.0,null,0.32,0.57,0.66,0.59,0.56,0.63,0.71,0.88,0.0,0.69,0.68],\"type\":\"scatter\",\"xaxis\":\"x3\",\"yaxis\":\"y3\"},{\"line\":{\"color\":\"yellowgreen\",\"dash\":\"solid\",\"width\":2},\"marker\":{\"symbol\":\"cross\"},\"mode\":\"markers+lines\",\"name\":\"IGPREP-IGUANASOPTCV\",\"showlegend\":false,\"x\":[\"orange_churn\",\"bike_75\",\"taiwan_credit\",\"fraud_oracle\",\"german_credit\",\"orange_up\",\"bank_marketing\",\"compas\",\"heloc\",\"adult\",\"telco_churn_2\",\"telco_churn\",\"house\",\"boston\",\"fraud_detection\",\"electricity\",\"bike_mean\"],\"y\":[94.0,8.0,13.0,58.0,15.0,60.0,100.0,163.0,21.0,30.0,65.0,18.0,13.0,9.0,14.0,262.0,2.0],\"type\":\"scatter\",\"xaxis\":\"x2\",\"yaxis\":\"y2\"},{\"line\":{\"color\":\"silver\",\"dash\":\"dot\",\"width\":2},\"marker\":{\"symbol\":\"square\"},\"mode\":\"markers+lines\",\"name\":\"NATIVE-R2N\",\"showlegend\":false,\"x\":[\"orange_churn\",\"bike_75\",\"taiwan_credit\",\"fraud_oracle\",\"german_credit\",\"orange_up\",\"bank_marketing\",\"compas\",\"heloc\",\"adult\",\"telco_churn_2\",\"telco_churn\",\"house\",\"boston\",\"fraud_detection\",\"electricity\",\"bike_mean\"],\"y\":[null,1.0,3.0,1.0,4.0,null,3.0,4.0,2.0,4.0,4.0,4.0,4.0,5.0,1.0,4.0,3.0],\"type\":\"scatter\",\"xaxis\":\"x2\",\"yaxis\":\"y2\"},{\"line\":{\"color\":\"gray\",\"dash\":\"solid\",\"width\":2},\"marker\":{\"symbol\":\"circle\"},\"mode\":\"markers+lines\",\"name\":\"LENC-XGB\",\"showlegend\":false,\"x\":[\"orange_churn\",\"bike_75\",\"taiwan_credit\",\"fraud_oracle\",\"german_credit\",\"orange_up\",\"bank_marketing\",\"compas\",\"heloc\",\"adult\",\"telco_churn_2\",\"telco_churn\",\"house\",\"boston\",\"fraud_detection\",\"electricity\",\"bike_mean\"],\"y\":[3.52,1.15,1.8399999999999999,1.53,1.19,3.51,1.25,1.26,1.34,1.41,1.23,1.23,1.69,1.1,5.96,1.71,1.31],\"type\":\"scatter\",\"xaxis\":\"x\",\"yaxis\":\"y\"},{\"line\":{\"color\":\"yellowgreen\",\"dash\":\"solid\",\"width\":2},\"marker\":{\"symbol\":\"cross\"},\"mode\":\"markers+lines\",\"name\":\"IGPREP-IGUANASOPTCV\",\"showlegend\":false,\"x\":[\"orange_churn\",\"bike_75\",\"taiwan_credit\",\"fraud_oracle\",\"german_credit\",\"orange_up\",\"bank_marketing\",\"compas\",\"heloc\",\"adult\",\"telco_churn_2\",\"telco_churn\",\"house\",\"boston\",\"fraud_detection\",\"electricity\",\"bike_mean\"],\"y\":[275.82,33.62,149.09,60.73,63.04,270.21,67.87,62.43,92.82,101.43,77.36,70.63,182.63,65.53,2791.5,165.39,67.98],\"type\":\"scatter\",\"xaxis\":\"x\",\"yaxis\":\"y\"},{\"line\":{\"color\":\"silver\",\"dash\":\"dot\",\"width\":2},\"marker\":{\"symbol\":\"square\"},\"mode\":\"markers+lines\",\"name\":\"NATIVE-R2N\",\"showlegend\":false,\"x\":[\"orange_churn\",\"bike_75\",\"taiwan_credit\",\"fraud_oracle\",\"german_credit\",\"orange_up\",\"bank_marketing\",\"compas\",\"heloc\",\"adult\",\"telco_churn_2\",\"telco_churn\",\"house\",\"boston\",\"fraud_detection\",\"electricity\",\"bike_mean\"],\"y\":[0.0,189.21,569.03,298.55,17.25,0.0,66.94,99.04,170.89,626.75,32.79,55.26,357.45,9.94,4448.07,700.06,193.01],\"type\":\"scatter\",\"xaxis\":\"x\",\"yaxis\":\"y\"}],                        {\"template\":{\"data\":{\"histogram2dcontour\":[{\"type\":\"histogram2dcontour\",\"colorbar\":{\"outlinewidth\":0,\"ticks\":\"\"},\"colorscale\":[[0.0,\"#0d0887\"],[0.1111111111111111,\"#46039f\"],[0.2222222222222222,\"#7201a8\"],[0.3333333333333333,\"#9c179e\"],[0.4444444444444444,\"#bd3786\"],[0.5555555555555556,\"#d8576b\"],[0.6666666666666666,\"#ed7953\"],[0.7777777777777778,\"#fb9f3a\"],[0.8888888888888888,\"#fdca26\"],[1.0,\"#f0f921\"]]}],\"choropleth\":[{\"type\":\"choropleth\",\"colorbar\":{\"outlinewidth\":0,\"ticks\":\"\"}}],\"histogram2d\":[{\"type\":\"histogram2d\",\"colorbar\":{\"outlinewidth\":0,\"ticks\":\"\"},\"colorscale\":[[0.0,\"#0d0887\"],[0.1111111111111111,\"#46039f\"],[0.2222222222222222,\"#7201a8\"],[0.3333333333333333,\"#9c179e\"],[0.4444444444444444,\"#bd3786\"],[0.5555555555555556,\"#d8576b\"],[0.6666666666666666,\"#ed7953\"],[0.7777777777777778,\"#fb9f3a\"],[0.8888888888888888,\"#fdca26\"],[1.0,\"#f0f921\"]]}],\"heatmap\":[{\"type\":\"heatmap\",\"colorbar\":{\"outlinewidth\":0,\"ticks\":\"\"},\"colorscale\":[[0.0,\"#0d0887\"],[0.1111111111111111,\"#46039f\"],[0.2222222222222222,\"#7201a8\"],[0.3333333333333333,\"#9c179e\"],[0.4444444444444444,\"#bd3786\"],[0.5555555555555556,\"#d8576b\"],[0.6666666666666666,\"#ed7953\"],[0.7777777777777778,\"#fb9f3a\"],[0.8888888888888888,\"#fdca26\"],[1.0,\"#f0f921\"]]}],\"heatmapgl\":[{\"type\":\"heatmapgl\",\"colorbar\":{\"outlinewidth\":0,\"ticks\":\"\"},\"colorscale\":[[0.0,\"#0d0887\"],[0.1111111111111111,\"#46039f\"],[0.2222222222222222,\"#7201a8\"],[0.3333333333333333,\"#9c179e\"],[0.4444444444444444,\"#bd3786\"],[0.5555555555555556,\"#d8576b\"],[0.6666666666666666,\"#ed7953\"],[0.7777777777777778,\"#fb9f3a\"],[0.8888888888888888,\"#fdca26\"],[1.0,\"#f0f921\"]]}],\"contourcarpet\":[{\"type\":\"contourcarpet\",\"colorbar\":{\"outlinewidth\":0,\"ticks\":\"\"}}],\"contour\":[{\"type\":\"contour\",\"colorbar\":{\"outlinewidth\":0,\"ticks\":\"\"},\"colorscale\":[[0.0,\"#0d0887\"],[0.1111111111111111,\"#46039f\"],[0.2222222222222222,\"#7201a8\"],[0.3333333333333333,\"#9c179e\"],[0.4444444444444444,\"#bd3786\"],[0.5555555555555556,\"#d8576b\"],[0.6666666666666666,\"#ed7953\"],[0.7777777777777778,\"#fb9f3a\"],[0.8888888888888888,\"#fdca26\"],[1.0,\"#f0f921\"]]}],\"surface\":[{\"type\":\"surface\",\"colorbar\":{\"outlinewidth\":0,\"ticks\":\"\"},\"colorscale\":[[0.0,\"#0d0887\"],[0.1111111111111111,\"#46039f\"],[0.2222222222222222,\"#7201a8\"],[0.3333333333333333,\"#9c179e\"],[0.4444444444444444,\"#bd3786\"],[0.5555555555555556,\"#d8576b\"],[0.6666666666666666,\"#ed7953\"],[0.7777777777777778,\"#fb9f3a\"],[0.8888888888888888,\"#fdca26\"],[1.0,\"#f0f921\"]]}],\"mesh3d\":[{\"type\":\"mesh3d\",\"colorbar\":{\"outlinewidth\":0,\"ticks\":\"\"}}],\"scatter\":[{\"fillpattern\":{\"fillmode\":\"overlay\",\"size\":10,\"solidity\":0.2},\"type\":\"scatter\"}],\"parcoords\":[{\"type\":\"parcoords\",\"line\":{\"colorbar\":{\"outlinewidth\":0,\"ticks\":\"\"}}}],\"scatterpolargl\":[{\"type\":\"scatterpolargl\",\"marker\":{\"colorbar\":{\"outlinewidth\":0,\"ticks\":\"\"}}}],\"bar\":[{\"error_x\":{\"color\":\"#2a3f5f\"},\"error_y\":{\"color\":\"#2a3f5f\"},\"marker\":{\"line\":{\"color\":\"#E5ECF6\",\"width\":0.5},\"pattern\":{\"fillmode\":\"overlay\",\"size\":10,\"solidity\":0.2}},\"type\":\"bar\"}],\"scattergeo\":[{\"type\":\"scattergeo\",\"marker\":{\"colorbar\":{\"outlinewidth\":0,\"ticks\":\"\"}}}],\"scatterpolar\":[{\"type\":\"scatterpolar\",\"marker\":{\"colorbar\":{\"outlinewidth\":0,\"ticks\":\"\"}}}],\"histogram\":[{\"marker\":{\"pattern\":{\"fillmode\":\"overlay\",\"size\":10,\"solidity\":0.2}},\"type\":\"histogram\"}],\"scattergl\":[{\"type\":\"scattergl\",\"marker\":{\"colorbar\":{\"outlinewidth\":0,\"ticks\":\"\"}}}],\"scatter3d\":[{\"type\":\"scatter3d\",\"line\":{\"colorbar\":{\"outlinewidth\":0,\"ticks\":\"\"}},\"marker\":{\"colorbar\":{\"outlinewidth\":0,\"ticks\":\"\"}}}],\"scattermapbox\":[{\"type\":\"scattermapbox\",\"marker\":{\"colorbar\":{\"outlinewidth\":0,\"ticks\":\"\"}}}],\"scatterternary\":[{\"type\":\"scatterternary\",\"marker\":{\"colorbar\":{\"outlinewidth\":0,\"ticks\":\"\"}}}],\"scattercarpet\":[{\"type\":\"scattercarpet\",\"marker\":{\"colorbar\":{\"outlinewidth\":0,\"ticks\":\"\"}}}],\"carpet\":[{\"aaxis\":{\"endlinecolor\":\"#2a3f5f\",\"gridcolor\":\"white\",\"linecolor\":\"white\",\"minorgridcolor\":\"white\",\"startlinecolor\":\"#2a3f5f\"},\"baxis\":{\"endlinecolor\":\"#2a3f5f\",\"gridcolor\":\"white\",\"linecolor\":\"white\",\"minorgridcolor\":\"white\",\"startlinecolor\":\"#2a3f5f\"},\"type\":\"carpet\"}],\"table\":[{\"cells\":{\"fill\":{\"color\":\"#EBF0F8\"},\"line\":{\"color\":\"white\"}},\"header\":{\"fill\":{\"color\":\"#C8D4E3\"},\"line\":{\"color\":\"white\"}},\"type\":\"table\"}],\"barpolar\":[{\"marker\":{\"line\":{\"color\":\"#E5ECF6\",\"width\":0.5},\"pattern\":{\"fillmode\":\"overlay\",\"size\":10,\"solidity\":0.2}},\"type\":\"barpolar\"}],\"pie\":[{\"automargin\":true,\"type\":\"pie\"}]},\"layout\":{\"autotypenumbers\":\"strict\",\"colorway\":[\"#636efa\",\"#EF553B\",\"#00cc96\",\"#ab63fa\",\"#FFA15A\",\"#19d3f3\",\"#FF6692\",\"#B6E880\",\"#FF97FF\",\"#FECB52\"],\"font\":{\"color\":\"#2a3f5f\"},\"hovermode\":\"closest\",\"hoverlabel\":{\"align\":\"left\"},\"paper_bgcolor\":\"white\",\"plot_bgcolor\":\"#E5ECF6\",\"polar\":{\"bgcolor\":\"#E5ECF6\",\"angularaxis\":{\"gridcolor\":\"white\",\"linecolor\":\"white\",\"ticks\":\"\"},\"radialaxis\":{\"gridcolor\":\"white\",\"linecolor\":\"white\",\"ticks\":\"\"}},\"ternary\":{\"bgcolor\":\"#E5ECF6\",\"aaxis\":{\"gridcolor\":\"white\",\"linecolor\":\"white\",\"ticks\":\"\"},\"baxis\":{\"gridcolor\":\"white\",\"linecolor\":\"white\",\"ticks\":\"\"},\"caxis\":{\"gridcolor\":\"white\",\"linecolor\":\"white\",\"ticks\":\"\"}},\"coloraxis\":{\"colorbar\":{\"outlinewidth\":0,\"ticks\":\"\"}},\"colorscale\":{\"sequential\":[[0.0,\"#0d0887\"],[0.1111111111111111,\"#46039f\"],[0.2222222222222222,\"#7201a8\"],[0.3333333333333333,\"#9c179e\"],[0.4444444444444444,\"#bd3786\"],[0.5555555555555556,\"#d8576b\"],[0.6666666666666666,\"#ed7953\"],[0.7777777777777778,\"#fb9f3a\"],[0.8888888888888888,\"#fdca26\"],[1.0,\"#f0f921\"]],\"sequentialminus\":[[0.0,\"#0d0887\"],[0.1111111111111111,\"#46039f\"],[0.2222222222222222,\"#7201a8\"],[0.3333333333333333,\"#9c179e\"],[0.4444444444444444,\"#bd3786\"],[0.5555555555555556,\"#d8576b\"],[0.6666666666666666,\"#ed7953\"],[0.7777777777777778,\"#fb9f3a\"],[0.8888888888888888,\"#fdca26\"],[1.0,\"#f0f921\"]],\"diverging\":[[0,\"#8e0152\"],[0.1,\"#c51b7d\"],[0.2,\"#de77ae\"],[0.3,\"#f1b6da\"],[0.4,\"#fde0ef\"],[0.5,\"#f7f7f7\"],[0.6,\"#e6f5d0\"],[0.7,\"#b8e186\"],[0.8,\"#7fbc41\"],[0.9,\"#4d9221\"],[1,\"#276419\"]]},\"xaxis\":{\"gridcolor\":\"white\",\"linecolor\":\"white\",\"ticks\":\"\",\"title\":{\"standoff\":15},\"zerolinecolor\":\"white\",\"automargin\":true,\"zerolinewidth\":2},\"yaxis\":{\"gridcolor\":\"white\",\"linecolor\":\"white\",\"ticks\":\"\",\"title\":{\"standoff\":15},\"zerolinecolor\":\"white\",\"automargin\":true,\"zerolinewidth\":2},\"scene\":{\"xaxis\":{\"backgroundcolor\":\"#E5ECF6\",\"gridcolor\":\"white\",\"linecolor\":\"white\",\"showbackground\":true,\"ticks\":\"\",\"zerolinecolor\":\"white\",\"gridwidth\":2},\"yaxis\":{\"backgroundcolor\":\"#E5ECF6\",\"gridcolor\":\"white\",\"linecolor\":\"white\",\"showbackground\":true,\"ticks\":\"\",\"zerolinecolor\":\"white\",\"gridwidth\":2},\"zaxis\":{\"backgroundcolor\":\"#E5ECF6\",\"gridcolor\":\"white\",\"linecolor\":\"white\",\"showbackground\":true,\"ticks\":\"\",\"zerolinecolor\":\"white\",\"gridwidth\":2}},\"shapedefaults\":{\"line\":{\"color\":\"#2a3f5f\"}},\"annotationdefaults\":{\"arrowcolor\":\"#2a3f5f\",\"arrowhead\":0,\"arrowwidth\":1},\"geo\":{\"bgcolor\":\"white\",\"landcolor\":\"#E5ECF6\",\"subunitcolor\":\"white\",\"showland\":true,\"showlakes\":true,\"lakecolor\":\"white\"},\"title\":{\"x\":0.05},\"mapbox\":{\"style\":\"light\"}}},\"xaxis\":{\"anchor\":\"y\",\"domain\":[0.0,1.0],\"matches\":\"x4\",\"showticklabels\":false},\"yaxis\":{\"anchor\":\"x\",\"domain\":[0.7875,1.0],\"type\":\"log\",\"title\":{\"text\":\"time (secs)\"}},\"xaxis2\":{\"anchor\":\"y2\",\"domain\":[0.0,1.0],\"matches\":\"x4\",\"showticklabels\":false},\"yaxis2\":{\"anchor\":\"x2\",\"domain\":[0.525,0.7375],\"type\":\"log\",\"title\":{\"text\":\"number of rules\"}},\"xaxis3\":{\"anchor\":\"y3\",\"domain\":[0.0,1.0],\"matches\":\"x4\",\"showticklabels\":false},\"yaxis3\":{\"anchor\":\"x3\",\"domain\":[0.2625,0.475],\"title\":{\"text\":\"f-score\"}},\"xaxis4\":{\"anchor\":\"y4\",\"domain\":[0.0,1.0]},\"yaxis4\":{\"anchor\":\"x4\",\"domain\":[0.0,0.2125],\"title\":{\"text\":\"balanced accuracy\"}},\"title\":{\"text\":\"balanced accuracy, f-score, number of rules and training time on core suite\"},\"plot_bgcolor\":\"whitesmoke\",\"height\":600,\"width\":1000},                        {\"responsive\": true}                    ).then(function(){\n",
       "                            \n",
       "var gd = document.getElementById('061da3f0-31ce-419a-9dba-63a02cf85f88');\n",
       "var x = new MutationObserver(function (mutations, observer) {{\n",
       "        var display = window.getComputedStyle(gd).display;\n",
       "        if (!display || display === 'none') {{\n",
       "            console.log([gd, 'removed!']);\n",
       "            Plotly.purge(gd);\n",
       "            observer.disconnect();\n",
       "        }}\n",
       "}});\n",
       "\n",
       "// Listen for the removal of the full notebook cells\n",
       "var notebookContainer = gd.closest('#notebook-container');\n",
       "if (notebookContainer) {{\n",
       "    x.observe(notebookContainer, {childList: true});\n",
       "}}\n",
       "\n",
       "// Listen for the clearing of the current output cell\n",
       "var outputEl = gd.closest('.output');\n",
       "if (outputEl) {{\n",
       "    x.observe(outputEl, {childList: true});\n",
       "}}\n",
       "\n",
       "                        })                };                });            </script>        </div>"
      ]
     },
     "metadata": {},
     "output_type": "display_data"
    }
   ],
   "source": [
    "perf_metric = ('f','adj_bal_acc', 'f')\n",
    "sorted_df = df_core_suite.sort_values('LENC-XGB_'+perf_metric[0], ignore_index=True)\n",
    "quad_chart(pipelines=IGUANAS_PIPELINES[10:11]+['NATIVE-R2N'], performance_metric_1=perf_metric[1], performance_metric_2=perf_metric[2] , complexity_metric='nof_rules', df=sorted_df, df_long_name='core suite')"
   ]
  },
  {
   "attachments": {},
   "cell_type": "markdown",
   "metadata": {},
   "source": [
    "## Synthetic Suites"
   ]
  },
  {
   "attachments": {},
   "cell_type": "markdown",
   "metadata": {},
   "source": [
    "### Synthetic Imbalance Suite"
   ]
  },
  {
   "cell_type": "code",
   "execution_count": null,
   "metadata": {},
   "outputs": [],
   "source": [
    "synth_imbalance_suite = [name for name in full_df['data_set'] if name.startswith('synth_ib')]\n",
    "synth_imbalance_suite_df = full_df[full_df['data_set'].isin(synth_imbalance_suite)]\n",
    "synth_imbalance_suite_df"
   ]
  },
  {
   "cell_type": "code",
   "execution_count": null,
   "metadata": {},
   "outputs": [],
   "source": [
    "perf_metric = 'f'\n",
    "fig = single_chart(pipelines=DEFAULT_RI_PIPELINES+['QUANTILE-BRCG', 'TREES-BRCG2'], \n",
    "                   metric='f2', \n",
    "                   df=synth_imbalance_suite_df,\n",
    "                   df_long_name='synthetic imbalance suite', \n",
    "                   x_sel='pos_ratio',\n",
    "                   x_title='imbalance (pos ratio)',\n",
    "                   x_log=True)"
   ]
  },
  {
   "attachments": {},
   "cell_type": "markdown",
   "metadata": {},
   "source": [
    "### Synthetic Noise Suite"
   ]
  },
  {
   "cell_type": "code",
   "execution_count": null,
   "metadata": {},
   "outputs": [],
   "source": [
    "synth_noise_suite = [name for name in full_df['data_set'] if name.startswith('synth_noise')]\n",
    "synth_noise_suite_df = full_df[full_df['data_set'].isin(synth_noise_suite)].copy()\n",
    "synth_noise_suite_df"
   ]
  },
  {
   "cell_type": "code",
   "execution_count": null,
   "metadata": {},
   "outputs": [],
   "source": [
    "def extract(name):\n",
    "    number = name.split('_')[2]\n",
    "    noise_level = float('0.'+number)\n",
    "    return noise_level\n",
    "\n",
    "synth_noise_suite_df['error_rate'] = synth_noise_suite_df['data_set'].map(extract)\n",
    "dual_chart(pipelines=DEFAULT_RI_PIPELINES+['QUANTILE-BRCG', 'LENC-CART:*'],\n",
    "           performance_metric='acc',\n",
    "           complexity_metric='nof_rules',\n",
    "           df=synth_noise_suite_df,\n",
    "           df_long_name='synthetic noise suite',\n",
    "           x_sel='error_rate',\n",
    "           x_title='error rate')"
   ]
  },
  {
   "attachments": {},
   "cell_type": "markdown",
   "metadata": {},
   "source": [
    "### Synthetic Disjunctive Complexity Suite"
   ]
  },
  {
   "cell_type": "code",
   "execution_count": null,
   "metadata": {},
   "outputs": [],
   "source": [
    "suite = [name for name in full_df['data_set'] if name.startswith('synth_disj_')]\n",
    "disj_df = full_df[full_df['data_set'].isin(suite)].copy()\n",
    "disj_df"
   ]
  },
  {
   "cell_type": "code",
   "execution_count": null,
   "metadata": {},
   "outputs": [],
   "source": [
    "def extract(name):\n",
    "    return int(name.split('_')[2])\n",
    "\n",
    "disj_df['label_complexity'] = disj_df['data_set'].map(extract)\n",
    "disj_df = disj_df.sort_values('label_complexity', ignore_index=True)\n",
    "\n",
    "dual_chart(pipelines=['LENC-CART:*', 'TREES2-BRCG'] + DEFAULT_RI_PIPELINES,\n",
    "           performance_metric='acc',\n",
    "           complexity_metric='nof_rules',\n",
    "           df=disj_df,\n",
    "           df_long_name='synthetic disjunctive complexity suite',\n",
    "           x_sel='label_complexity',\n",
    "           x_title='number of rules used to create label',\n",
    "           x_log=True)\n",
    "\n",
    "# single_chart(pipelines=['LENC-XGB', 'LENC-CART:*', 'TREES2-BRCG'] + DEFAULT_RI_PIPELINES,\n",
    "#              metric='acc',\n",
    "#              df=disj_df,\n",
    "#              df_long_name='synthetic disjunctive complexity suite',\n",
    "#              x_sel='label_complexity',\n",
    "#              x_title='number of rules used to create label',\n",
    "#              x_log=True)\n"
   ]
  },
  {
   "attachments": {},
   "cell_type": "markdown",
   "metadata": {},
   "source": [
    "### Synthetic Linear Complexity Suite"
   ]
  },
  {
   "cell_type": "code",
   "execution_count": null,
   "metadata": {},
   "outputs": [],
   "source": [
    "synth_linear_suite = [name for name in full_df['data_set'] if name.startswith('synth_linear_')]\n",
    "synth_linear_suite_df = full_df[full_df['data_set'].isin(synth_linear_suite)].copy()\n",
    "synth_linear_suite_df"
   ]
  },
  {
   "cell_type": "code",
   "execution_count": null,
   "metadata": {},
   "outputs": [],
   "source": [
    "def extract(name):\n",
    "    return int(name.split('_')[2])+1\n",
    "\n",
    "synth_linear_suite_df['label_complexity'] = synth_linear_suite_df['data_set'].map(extract)\n",
    "synth_linear_suite_df = synth_linear_suite_df.sort_values('label_complexity', ignore_index=True)\n",
    "\n",
    "dual_chart(pipelines=['LENC-CART:*'] + DEFAULT_RI_PIPELINES,\n",
    "           performance_metric='acc',\n",
    "           complexity_metric='sum_preds',\n",
    "           df=synth_linear_suite_df,\n",
    "           df_long_name='synthetic linear complexity suite',\n",
    "           x_sel='label_complexity',\n",
    "           x_title='number of features used in sum to create label',\n",
    "           x_log=False)\n",
    "\n",
    "# single_chart(pipelines=['LENC-XGB', 'LENC-CART:*'] + DEFAULT_RI_PIPELINES,\n",
    "#              metric='acc',\n",
    "#              df=synth_linear_suite_df,\n",
    "#              df_long_name='synthetic linear complexity suite',\n",
    "#              x_sel='label_complexity',\n",
    "#              x_title='number of features used in sum to create label',\n",
    "#              x_log=False)\n"
   ]
  },
  {
   "attachments": {},
   "cell_type": "markdown",
   "metadata": {},
   "source": [
    "### Synthetic Conjunctive Complexity Suite"
   ]
  },
  {
   "cell_type": "code",
   "execution_count": null,
   "metadata": {},
   "outputs": [],
   "source": [
    "synth_conj_suite = [name for name in full_df['data_set'] if name.startswith('synth_conj_')]\n",
    "synth_conj_suite_df = full_df[full_df['data_set'].isin(synth_conj_suite)].copy()\n",
    "synth_conj_suite_df"
   ]
  },
  {
   "cell_type": "code",
   "execution_count": null,
   "metadata": {},
   "outputs": [],
   "source": [
    "def extract(name):\n",
    "    return int(name.split('_')[2])+1\n",
    "\n",
    "synth_conj_suite_df['label_complexity'] = synth_conj_suite_df['data_set'].map(extract)\n",
    "synth_conj_suite_df = synth_conj_suite_df.sort_values('label_complexity', ignore_index=True)\n",
    "\n",
    "dual_chart(pipelines=['LENC-CART:*', 'TREES2-BRCG'] + DEFAULT_RI_PIPELINES,\n",
    "           performance_metric='acc',\n",
    "           complexity_metric='max_preds',\n",
    "           df=synth_conj_suite_df,\n",
    "           df_long_name='synthetic conjunctive complexity suite',\n",
    "           x_sel='label_complexity',\n",
    "           x_title='number of conjuncts used to create label',\n",
    "           x_log=True)\n",
    "\n",
    "# single_chart(pipelines=['LENC-XGB', 'LENC-CART:*', 'TREES2-BRCG'] + DEFAULT_RI_PIPELINES,\n",
    "#              metric='acc',\n",
    "#              df=synth_conj_suite_df,\n",
    "#              df_long_name='synthetic conjunctive complexity suite',\n",
    "#              x_sel='label_complexity',\n",
    "#              x_title='number of conjuncts used to create label',\n",
    "#              x_log=True)\n"
   ]
  },
  {
   "attachments": {},
   "cell_type": "markdown",
   "metadata": {},
   "source": [
    "### Synthetic Size Variation Suite"
   ]
  },
  {
   "cell_type": "code",
   "execution_count": null,
   "metadata": {},
   "outputs": [],
   "source": [
    "synth_size_suite = [name for name in full_df['data_set'] if name.startswith('synth_size_')]\n",
    "synth_size_suite_df = full_df[full_df['data_set'].isin(synth_size_suite)].copy()\n",
    "synth_size_suite_df"
   ]
  },
  {
   "cell_type": "code",
   "execution_count": null,
   "metadata": {},
   "outputs": [],
   "source": [
    "def extract(name):\n",
    "    return int(name.split('_')[2])+1\n",
    "\n",
    "synth_size_suite_df['label_complexity'] = synth_size_suite_df['data_set'].map(extract)\n",
    "synth_size_suite_df = synth_size_suite_df.sort_values('label_complexity', ignore_index=True)\n",
    "\n",
    "triple_chart(pipelines=ALL_RI_PIPELINES,\n",
    "           performance_metric='acc',\n",
    "           complexity_metric='nof_rules',\n",
    "           df=synth_size_suite_df,\n",
    "           df_long_name='synthetic size variation suite',\n",
    "           x_sel='label_complexity',\n",
    "           x_title='number of rows in data set',\n",
    "           x_log=True)"
   ]
  },
  {
   "attachments": {},
   "cell_type": "markdown",
   "metadata": {},
   "source": [
    "## Trade-Off Predictive Performance vs. Model Complexity Chart for a single data set"
   ]
  },
  {
   "cell_type": "code",
   "execution_count": null,
   "metadata": {},
   "outputs": [],
   "source": [
    "data_set = 'electricity'\n",
    "df = full_df[full_df['data_set'] == data_set]\n",
    "# print(df)\n",
    "\n",
    "pipelines = ALL_RI_PIPELINES # , 'QUANTILE-BRCG', 'QUANTILE-CORELS'\n",
    "metric = 'f' # adj_bal_acc\n",
    "\n",
    "metrics = [ p + '_' + metric for p in pipelines]\n",
    "df_f2 = df[metrics]\n",
    "# print(df_f2.head())\n",
    "data_set_key = df_f2.index[0]\n",
    "\n",
    "column_transform = {x:x.split('_')[0] for x in df_f2.columns.to_list()}\n",
    "df_f2 = df_f2.rename(columns=column_transform).transpose()\n",
    "\n",
    "# print(df_f2.head())\n",
    "\n",
    "metric = 'sum_preds' # nof_rules sum_preds\n",
    "# metrics = ['NATIVE-RIPPER_sum_preds', 'TREES-BRCG_sum_preds', 'TREES-CORELS_sum_preds', 'NATIVE-R2N_sum_preds', 'TREES-BRCG2_sum_preds']\n",
    "metrics = [ p + '_' + metric for p in pipelines]\n",
    "\n",
    "df_sum_preds = df[metrics]\n",
    "column_transform = {x:x.split('_')[0] for x in df_sum_preds.columns.to_list()}\n",
    "df_sum_preds = df_sum_preds.rename(columns=column_transform).transpose()\n",
    "\n",
    "# print(df_sum_preds.head())\n",
    "# print(df_sum_preds.index)\n",
    "\n",
    "\n",
    "df_scatter = pd.DataFrame()\n",
    "df_scatter['f_score'] = df_f2[data_set_key]\n",
    "df_scatter['sum_preds'] = df_sum_preds[data_set_key]\n",
    "df_scatter.head()\n",
    "\n",
    "fig = px.scatter(df_scatter, x=\"sum_preds\", y=\"f_score\", \n",
    "                color=df_scatter.index,\n",
    "                symbol=df_scatter.index,\n",
    "                color_discrete_sequence=[style_map[p][0] for p in df_scatter.index],  # ['crimson', 'limegreen', 'orange', 'blue' ]\n",
    "                symbol_sequence=[style_map[p][2] for p in df_scatter.index],\n",
    "                title=\"Trade-off between f-score and sum of predicates for {} set\".format(data_set)) #  color=\"species\",\n",
    "fig.update_xaxes(type=\"log\")\n",
    "fig.update_layout(height=600, width=1000)\n",
    "fig.show()"
   ]
  },
  {
   "cell_type": "code",
   "execution_count": null,
   "metadata": {},
   "outputs": [],
   "source": []
  }
 ],
 "metadata": {
  "kernelspec": {
   "display_name": "venv",
   "language": "python",
   "name": "venv"
  },
  "language_info": {
   "codemirror_mode": {
    "name": "ipython",
    "version": 3
   },
   "file_extension": ".py",
   "mimetype": "text/x-python",
   "name": "python",
   "nbconvert_exporter": "python",
   "pygments_lexer": "ipython3",
   "version": "3.8.5"
  },
  "vscode": {
   "interpreter": {
    "hash": "7e1998ff7f8aa20ada591c520b972326324e5ea05489af9e422744c7c09f6dad"
   }
  }
 },
 "nbformat": 4,
 "nbformat_minor": 4
}
